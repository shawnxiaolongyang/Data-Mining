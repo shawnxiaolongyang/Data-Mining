{
 "cells": [
  {
   "cell_type": "code",
   "execution_count": 36,
   "metadata": {
    "collapsed": true
   },
   "outputs": [],
   "source": [
    "def norm(data):\n",
    "    data1 = [[0,0,0]for i in range(len(data))]\n",
    "    d0 = []\n",
    "    d1 = []\n",
    "    d2 = []\n",
    "    for i in range(len(data)):\n",
    "        d0.append(data[i][0])\n",
    "        d1.append(data[i][1])\n",
    "        d2.append(data[i][2])\n",
    "    for i in range(len(data)):\n",
    "        data1[i][0] = round(float((data[i][0]-min(d0)))/(max(d0)-min(d0)),4)\n",
    "        data1[i][1] = round(float((data[i][1]-min(d1)))/(max(d1)-min(d1)),4)\n",
    "        data1[i][2] = d2[i]\n",
    "    return data1"
   ]
  },
  {
   "cell_type": "code",
   "execution_count": 24,
   "metadata": {
    "collapsed": true
   },
   "outputs": [],
   "source": [
    "f = open(\"./data/truth.txt\", \"r\")"
   ]
  },
  {
   "cell_type": "code",
   "execution_count": 25,
   "metadata": {
    "collapsed": true
   },
   "outputs": [],
   "source": [
    "all_text = f.read()"
   ]
  },
  {
   "cell_type": "code",
   "execution_count": 26,
   "metadata": {
    "collapsed": true
   },
   "outputs": [],
   "source": [
    "c = all_text.split(\"\\n\")"
   ]
  },
  {
   "cell_type": "code",
   "execution_count": 27,
   "metadata": {
    "collapsed": false
   },
   "outputs": [
    {
     "data": {
      "text/plain": [
       "('9711', '4', '')"
      ]
     },
     "execution_count": 27,
     "metadata": {},
     "output_type": "execute_result"
    }
   ],
   "source": [
    "c.pop(0),c.pop(0),c.pop(-1)"
   ]
  },
  {
   "cell_type": "code",
   "execution_count": 29,
   "metadata": {
    "collapsed": false
   },
   "outputs": [],
   "source": [
    "data = [[0,0,0] for i in range(len(c))]\n",
    "for i in range(len(c)):\n",
    "    data[i][0] = float(c[i].strip(' ').split(',')[0])\n",
    "    data[i][1] = float(c[i].strip(' ').split(',')[1])\n",
    "    data[i][2] = float(c[i].strip(' ').split(',')[2])\n",
    "    "
   ]
  },
  {
   "cell_type": "code",
   "execution_count": 37,
   "metadata": {
    "collapsed": false
   },
   "outputs": [],
   "source": [
    "data1 = norm(data)"
   ]
  },
  {
   "cell_type": "code",
   "execution_count": 80,
   "metadata": {
    "collapsed": true
   },
   "outputs": [],
   "source": [
    "def b_cube(filename):\n",
    "    step1_text = filename.read()\n",
    "    d = step1_text.split(\"\\n\")\n",
    "    d.pop(0),d.pop(0),d.pop(-1)\n",
    "    dat = [[0,0,0] for i in range(len(d))]\n",
    "    for i in range(len(d)):\n",
    "        dat[i][0] = float(d[i].strip(' ').split(',')[0])\n",
    "        dat[i][1] = float(d[i].strip(' ').split(',')[1])\n",
    "        dat[i][2] = float(d[i].strip(' ').split(',')[2])\n",
    "    data2 = [[0,0,0,0] for i in range(len(data))]\n",
    "    for ii in range(len(dat)):\n",
    "        for iii in range(len(data1)):\n",
    "            if dat[ii][0] == data1[iii][0]:\n",
    "                if dat[ii][1] == data1[iii][1]:\n",
    "                    data2[ii][0] = dat[ii][0]\n",
    "                    data2[ii][1] = dat[ii][1]\n",
    "                    data2[ii][2] = dat[ii][2]\n",
    "                    data2[ii][3] = data1[iii][2]\n",
    "    TP = [[0,0,0,0]for i in range(4)]\n",
    "    P = [0,0,0,0]\n",
    "    T = [0,0,0,0]\n",
    "    for n in range(4):\n",
    "        for i in data2:\n",
    "            for m in range(4):\n",
    "                if i[2] ==n+1:\n",
    "                    if i[3] ==m+1:\n",
    "                        TP[n][m] += 1\n",
    "\n",
    "        for i in data2:\n",
    "            if i[2] ==n+1:\n",
    "                P[n] += 1\n",
    "\n",
    "        for i in data2:\n",
    "            if i[3] ==n+1:\n",
    "                T[n] += 1\n",
    "    return TP,P,T\n",
    "    "
   ]
  },
  {
   "cell_type": "markdown",
   "metadata": {},
   "source": [
    "## For step1"
   ]
  },
  {
   "cell_type": "code",
   "execution_count": 81,
   "metadata": {
    "collapsed": false
   },
   "outputs": [],
   "source": [
    "f1 = open(\"./data/step1.txt\", \"r\")"
   ]
  },
  {
   "cell_type": "code",
   "execution_count": 82,
   "metadata": {
    "collapsed": true
   },
   "outputs": [],
   "source": [
    "TP,P,T = b_cube(f1)"
   ]
  },
  {
   "cell_type": "code",
   "execution_count": 83,
   "metadata": {
    "collapsed": false
   },
   "outputs": [
    {
     "data": {
      "text/plain": [
       "[[352, 0, 516, 0], [0, 0, 518, 0], [721, 4270, 0, 8], [0, 0, 0, 3326]]"
      ]
     },
     "execution_count": 83,
     "metadata": {},
     "output_type": "execute_result"
    }
   ],
   "source": [
    "print TP,P,T"
   ]
  },
  {
   "cell_type": "code",
   "execution_count": 107,
   "metadata": {
    "collapsed": false
   },
   "outputs": [],
   "source": [
    "Precision = ((float(352)**2/868+float(518)**2/518+float(4270)**2/4999+float(3326)**2/3326))/sum([352,518,4270,3326])"
   ]
  },
  {
   "cell_type": "code",
   "execution_count": 108,
   "metadata": {
    "collapsed": true
   },
   "outputs": [],
   "source": [
    "Recall = (float(352)**2/1073+float(518)**2/1034+float(4270)**2/4270+float(3326)**2/3334)/sum([352,518,4270,3326])"
   ]
  },
  {
   "cell_type": "code",
   "execution_count": 109,
   "metadata": {
    "collapsed": false
   },
   "outputs": [
    {
     "name": "stdout",
     "output_type": "stream",
     "text": [
      "0.901731160604\n"
     ]
    }
   ],
   "source": [
    "print Precision"
   ]
  },
  {
   "cell_type": "code",
   "execution_count": 110,
   "metadata": {
    "collapsed": false
   },
   "outputs": [
    {
     "name": "stdout",
     "output_type": "stream",
     "text": [
      "0.940585227286\n"
     ]
    }
   ],
   "source": [
    "print Recall"
   ]
  },
  {
   "cell_type": "markdown",
   "metadata": {},
   "source": [
    "## For step2a"
   ]
  },
  {
   "cell_type": "code",
   "execution_count": 87,
   "metadata": {
    "collapsed": true
   },
   "outputs": [],
   "source": [
    "f2a = open(\"./data/step2a.txt\", \"r\")"
   ]
  },
  {
   "cell_type": "code",
   "execution_count": 88,
   "metadata": {
    "collapsed": false
   },
   "outputs": [],
   "source": [
    "TP,P,T = b_cube(f2a)"
   ]
  },
  {
   "cell_type": "code",
   "execution_count": 89,
   "metadata": {
    "collapsed": false
   },
   "outputs": [
    {
     "data": {
      "text/plain": [
       "[[0, 0, 1029, 0], [1073, 4270, 0, 0], [0, 0, 5, 3334], [0, 0, 0, 0]]"
      ]
     },
     "execution_count": 89,
     "metadata": {},
     "output_type": "execute_result"
    }
   ],
   "source": [
    "print TP,P,T"
   ]
  },
  {
   "cell_type": "code",
   "execution_count": 112,
   "metadata": {
    "collapsed": true
   },
   "outputs": [],
   "source": [
    "Precision = (float(1029)**2/1029+float(4270)**2/5343+float(3334)**2/3339)/sum([1029,4270,3334])"
   ]
  },
  {
   "cell_type": "code",
   "execution_count": 127,
   "metadata": {
    "collapsed": true
   },
   "outputs": [],
   "source": [
    "Recall = (float(1029)**2/1034+float(4270)**2/4270+float(3334)**2/3334)/sum([1029,4270,3334])"
   ]
  },
  {
   "cell_type": "code",
   "execution_count": 114,
   "metadata": {
    "collapsed": false
   },
   "outputs": [
    {
     "name": "stdout",
     "output_type": "stream",
     "text": [
      "0.900091637983\n"
     ]
    }
   ],
   "source": [
    "print Precision"
   ]
  },
  {
   "cell_type": "code",
   "execution_count": 128,
   "metadata": {
    "collapsed": false
   },
   "outputs": [
    {
     "name": "stdout",
     "output_type": "stream",
     "text": [
      "0.999423627702\n"
     ]
    }
   ],
   "source": [
    "print Recall"
   ]
  },
  {
   "cell_type": "markdown",
   "metadata": {},
   "source": [
    "## For step2b"
   ]
  },
  {
   "cell_type": "code",
   "execution_count": 121,
   "metadata": {
    "collapsed": true
   },
   "outputs": [],
   "source": [
    "f2b = open(\"./data/step2b.txt\", \"r\")"
   ]
  },
  {
   "cell_type": "code",
   "execution_count": 122,
   "metadata": {
    "collapsed": true
   },
   "outputs": [],
   "source": [
    "TP,P,T = b_cube(f2b)"
   ]
  },
  {
   "cell_type": "code",
   "execution_count": 123,
   "metadata": {
    "collapsed": false
   },
   "outputs": [
    {
     "data": {
      "text/plain": [
       "[[1073, 0, 1034, 3192], [0, 0, 0, 0], [0, 0, 0, 0], [0, 4270, 0, 0]]"
      ]
     },
     "execution_count": 123,
     "metadata": {},
     "output_type": "execute_result"
    }
   ],
   "source": [
    "print TP,P,T"
   ]
  },
  {
   "cell_type": "code",
   "execution_count": 126,
   "metadata": {
    "collapsed": true
   },
   "outputs": [],
   "source": [
    "Precision = (float(1073)**2/5299+float(4270)**2/4270)/sum([1073,4270])"
   ]
  },
  {
   "cell_type": "code",
   "execution_count": 129,
   "metadata": {
    "collapsed": true
   },
   "outputs": [],
   "source": [
    "Recall = (float(1073**2)/1073+float(4270)**2/4270)/sum([1073,4270])"
   ]
  },
  {
   "cell_type": "code",
   "execution_count": 130,
   "metadata": {
    "collapsed": false
   },
   "outputs": [
    {
     "name": "stdout",
     "output_type": "stream",
     "text": [
      "0.468938539207\n"
     ]
    }
   ],
   "source": [
    "print Precision"
   ]
  },
  {
   "cell_type": "code",
   "execution_count": 131,
   "metadata": {
    "collapsed": false
   },
   "outputs": [
    {
     "name": "stdout",
     "output_type": "stream",
     "text": [
      "1.0\n"
     ]
    }
   ],
   "source": [
    "print Recall"
   ]
  },
  {
   "cell_type": "code",
   "execution_count": null,
   "metadata": {
    "collapsed": true
   },
   "outputs": [],
   "source": []
  }
 ],
 "metadata": {
  "kernelspec": {
   "display_name": "Python 2",
   "language": "python",
   "name": "python2"
  },
  "language_info": {
   "codemirror_mode": {
    "name": "ipython",
    "version": 2
   },
   "file_extension": ".py",
   "mimetype": "text/x-python",
   "name": "python",
   "nbconvert_exporter": "python",
   "pygments_lexer": "ipython2",
   "version": "2.7.11"
  }
 },
 "nbformat": 4,
 "nbformat_minor": 0
}
