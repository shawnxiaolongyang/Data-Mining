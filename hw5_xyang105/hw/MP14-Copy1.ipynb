{
 "cells": [
  {
   "cell_type": "code",
   "execution_count": 1,
   "metadata": {
    "collapsed": true
   },
   "outputs": [],
   "source": [
    "def norm(data):\n",
    "    d_x = []\n",
    "    d_y = []\n",
    "    data_norm = [[0,0]for i in range(len(data))]\n",
    "    \n",
    "    for i in range(len(data)):\n",
    "        d_x.append(data[i][0])\n",
    "        d_y.append(data[i][1])\n",
    "    for i in range(len(data)):\n",
    "        data_norm[i][0] = round(float((data[i][0]-min(d_x)))/(max(d_x)-min(d_x)),4)\n",
    "        data_norm[i][1] = round(float((data[i][1]-min(d_y)))/(max(d_y)-min(d_y)),4)\n",
    "    return data_norm"
   ]
  },
  {
   "cell_type": "code",
   "execution_count": null,
   "metadata": {
    "collapsed": true
   },
   "outputs": [],
   "source": [
    "count()"
   ]
  },
  {
   "cell_type": "code",
   "execution_count": 2,
   "metadata": {
    "collapsed": true
   },
   "outputs": [],
   "source": [
    "def eucl_dist(point1,point):\n",
    "    distance = 0\n",
    "    for i in range(len(a)):\n",
    "        distance += (a[i]-b[i])**2\n",
    "    return round(float(distance)**0.5,3)"
   ]
  },
  {
   "cell_type": "code",
   "execution_count": 3,
   "metadata": {
    "collapsed": true
   },
   "outputs": [],
   "source": [
    "def find_center(cluster):\n",
    "    C_x = 0\n",
    "    C_y = 0\n",
    "    for i in cluster:\n",
    "        C_x += i[0]\n",
    "        C_y += i[1]\n",
    "    center = [round(float(C_x)/len(cluster),4), round(float(C_y)/len(cluster),4)]\n",
    "    return center"
   ]
  },
  {
   "cell_type": "code",
   "execution_count": 4,
   "metadata": {
    "collapsed": true
   },
   "outputs": [],
   "source": [
    "from random import randint as ri"
   ]
  },
  {
   "cell_type": "code",
   "execution_count": 5,
   "metadata": {
    "collapsed": true
   },
   "outputs": [],
   "source": [
    "def random_value(data,center):\n",
    "    value = ri(0,len(data)-1)\n",
    "    random_value = data[value]\n",
    "    center.append(random_value)\n",
    "    data.pop(value)\n",
    "    return data,center"
   ]
  },
  {
   "cell_type": "code",
   "execution_count": 6,
   "metadata": {
    "collapsed": true
   },
   "outputs": [],
   "source": [
    "def SSE(C,center,k):\n",
    "    error = 0\n",
    "    for i in range(k):\n",
    "        for D in C[k-i-1]:\n",
    "            error += (eucl_dist(center[i],D))**2\n",
    "    return error         "
   ]
  },
  {
   "cell_type": "code",
   "execution_count": 60,
   "metadata": {
    "collapsed": false
   },
   "outputs": [],
   "source": [
    "def rand_value(center):\n",
    "    \n",
    "    value = norm_data[ri(0,len(data)-1)]\n",
    "    q = 0\n",
    "\n",
    "    for iii in center:\n",
    "        if eucl_dist(value,iii) > 0.2:\n",
    "            q += 0\n",
    "        else:\n",
    "            q += 1\n",
    "    if q == 0:\n",
    "        return value\n",
    "    else:\n",
    "        return None"
   ]
  },
  {
   "cell_type": "code",
   "execution_count": 48,
   "metadata": {
    "collapsed": false
   },
   "outputs": [],
   "source": [
    "def use_rand(center):\n",
    "    for iii in range(1000):\n",
    "        value = rand_value(center)\n",
    "        if value:\n",
    "            return value\n",
    "            break"
   ]
  },
  {
   "cell_type": "code",
   "execution_count": 68,
   "metadata": {
    "collapsed": false
   },
   "outputs": [],
   "source": [
    "def cluster(data,k,center,error):\n",
    "    C = [[]for i in range(k)]       \n",
    "    value = [[0]*k for i in range(len(data))]\n",
    "    \n",
    "    for i in range(len(data)):\n",
    "        for ii in range(k):\n",
    "            \n",
    "            value[i][ii] =  eucl_dist(data[i],center[ii])\n",
    "    for i in range(len(data)):\n",
    "        for ii in range(k):\n",
    "            if eucl_dist(data[i],center[ii]) == max(value[i]):\n",
    "                t = 0\n",
    "                if ii > 0:\n",
    "                    for iii in range(ii):\n",
    "                        if data[i] not in C[iii]:\n",
    "                            t += 0\n",
    "                        else:\n",
    "                            t += 1\n",
    "                if t == 0:\n",
    "                    C[ii].append(data[i])\n",
    "    n = 0\n",
    "    center2 = [[0,0]for i in range(k)]\n",
    "    \n",
    "    if error !=0:\n",
    "        for i in range(k):\n",
    "            for ii in range(i+1,k):\n",
    "                \n",
    "                if center[ii] == center[i]:\n",
    "                    center[ii] = use_rand(center)\n",
    "                    print \"replace one point\"\n",
    "            \n",
    "            if center[i] ==[0,0]:\n",
    "                center[i] = use_rand(center)\n",
    "                print \"add one new point\"\n",
    "            \n",
    "            if len(C[k-i-1])==0:\n",
    "                for iii in range(100):\n",
    "                    center[i] = use_rand(center)\n",
    "                         \n",
    "            else:\n",
    "                center2[i] = find_center(C[k-i-1])\n",
    "                \n",
    "        print center,error,center2,SSE(C,center2,k)\n",
    "                \n",
    "        for i in range(len(center)):\n",
    "            if center[i] == [0,0]:\n",
    "                n = 1\n",
    "                center[i] = use_rand(center)\n",
    "                \n",
    "        if n == 0:\n",
    "            if SSE(C,center2,k)<error:\n",
    "                center = center2\n",
    "            else:\n",
    "                n = 1\n",
    "        \n",
    "        \n",
    "                \n",
    "        \n",
    "    error = SSE(C,center,k)\n",
    "    return center,C,error,n\n"
   ]
  },
  {
   "cell_type": "code",
   "execution_count": 36,
   "metadata": {
    "collapsed": false
   },
   "outputs": [],
   "source": [
    "def resul(C,k):\n",
    "    results = []\n",
    "    for i in range(k):\n",
    "        a = []\n",
    "        for ii in range(len(C[i])):\n",
    "            a=C[i][ii]\n",
    "            a.append(i)\n",
    "            results.append(a)\n",
    "    return results"
   ]
  },
  {
   "cell_type": "code",
   "execution_count": 70,
   "metadata": {
    "collapsed": false
   },
   "outputs": [],
   "source": [
    "def iteration(data,k):\n",
    "    data1 = []\n",
    "    for i in data:\n",
    "        data1.append(i)\n",
    "    center = []\n",
    "    if k<= 2:\n",
    "        for i in range(k):\n",
    "            data1,center = random_value(data1,center)\n",
    "    if k ==3:\n",
    "        center = [[0.2,0.2],[0.2,1],[0.9,0.2]]\n",
    "    if k ==4:\n",
    "        center = [[0.2,0.2],[0.2,0.9],[0.9,0.2],[0.5,0.65]]\n",
    "    if k ==5:\n",
    "        center = [[0.3,0.4],[0.13,0.9],[0.28,0.9],[0.95,0.2],[0.7,0.6]]\n",
    "    \n",
    "    n = 0\n",
    "    results = []\n",
    "    error = 0\n",
    "    for i in range(200):\n",
    "        print i\n",
    "        if i == 199:\n",
    "            center,C,error,n = cluster(data,k,center,error)\n",
    "            results = resul(C,k)\n",
    "            return results,error\n",
    "        elif n == 0:\n",
    "            center,C,error,n = cluster(data,k,center,error)\n",
    "            print \"go on\"\n",
    "        else:\n",
    "            center,C,error,n = cluster(data,k,center,error)\n",
    "            print \"find optimization\"\n",
    "            results = resul(C,k)\n",
    "            return results,error\n",
    "            break"
   ]
  },
  {
   "cell_type": "code",
   "execution_count": 947,
   "metadata": {
    "collapsed": true
   },
   "outputs": [
    {
     "name": "stdout",
     "output_type": "stream",
     "text": [
      "0\n",
      "go on\n",
      "1\n",
      "[[2, 1], [2, 2]] 2.0 [[1.5, 1.0], [1.5, 2.0]] 1.0\n",
      "go on\n",
      "2\n",
      "[[1.5, 1.0], [1.5, 2.0]] 1.0 [[1.5, 1.0], [1.5, 2.0]] 1.0\n",
      "go on\n",
      "3\n",
      "[[1.5, 1.0], [1.5, 2.0]] 1.0 [[1.5, 1.0], [1.5, 2.0]] 1.0\n",
      "find optimization\n",
      "0\n",
      "go on\n",
      "1\n",
      "[[1, 2], [2, 1]] 2.0 [[1.0, 2.0], [1.6667, 1.3333]] 1.331891\n",
      "go on\n",
      "2\n",
      "[[1.0, 2.0], [1.6667, 1.3333]] 1.331891 [[1.0, 2.0], [1.6667, 1.3333]] 1.331891\n",
      "go on\n",
      "3\n",
      "[[1.0, 2.0], [1.6667, 1.3333]] 1.331891 [[1.0, 2.0], [1.6667, 1.3333]] 1.331891\n",
      "find optimization\n"
     ]
    }
   ],
   "source": [
    "data = [[1,1],[1,2],[2,1],[2,2]]\n",
    "results0,error0 = iteration(data,2)\n",
    "data = [[1,1],[1,2],[2,1],[2,2]]\n",
    "results1,error1 = iteration(data,2)\n",
    "if error0 < error1:\n",
    "    results = results0\n",
    "else:\n",
    "    results = results1"
   ]
  },
  {
   "cell_type": "code",
   "execution_count": 948,
   "metadata": {
    "collapsed": false
   },
   "outputs": [
    {
     "data": {
      "text/plain": [
       "[[1, 2, 0], [2, 2, 0], [1, 1, 1], [2, 1, 1]]"
      ]
     },
     "execution_count": 948,
     "metadata": {},
     "output_type": "execute_result"
    }
   ],
   "source": [
    "results"
   ]
  },
  {
   "cell_type": "code",
   "execution_count": 13,
   "metadata": {
    "collapsed": false
   },
   "outputs": [],
   "source": [
    "f = open(\"./data/data.txt\", \"r\")"
   ]
  },
  {
   "cell_type": "code",
   "execution_count": 14,
   "metadata": {
    "collapsed": true
   },
   "outputs": [],
   "source": [
    "all_text = f.read()"
   ]
  },
  {
   "cell_type": "code",
   "execution_count": 17,
   "metadata": {
    "collapsed": false
   },
   "outputs": [],
   "source": [
    "c = all_text.split(\"\\n\")"
   ]
  },
  {
   "cell_type": "code",
   "execution_count": 18,
   "metadata": {
    "collapsed": false
   },
   "outputs": [
    {
     "data": {
      "text/plain": [
       "('9711', '')"
      ]
     },
     "execution_count": 18,
     "metadata": {},
     "output_type": "execute_result"
    }
   ],
   "source": [
    "c.pop(0),c.pop(-1)"
   ]
  },
  {
   "cell_type": "code",
   "execution_count": 19,
   "metadata": {
    "collapsed": false
   },
   "outputs": [],
   "source": [
    "data = [[0,0] for i in range(len(c))]\n",
    "for i in range(len(c)):\n",
    "    data[i][0] = float(c[i].strip(' ').split(',')[0])\n",
    "    data[i][1] = float(c[i].strip(' ').split(',')[1])\n"
   ]
  },
  {
   "cell_type": "code",
   "execution_count": 20,
   "metadata": {
    "collapsed": true
   },
   "outputs": [],
   "source": [
    "norm_data = norm(data)"
   ]
  },
  {
   "cell_type": "code",
   "execution_count": 21,
   "metadata": {
    "collapsed": false
   },
   "outputs": [],
   "source": [
    "def double_evaluate(data,k):\n",
    "    data1 = norm(data)\n",
    "    results0,error0 = iteration(data1,k)\n",
    "    data2 = norm(data)\n",
    "    results1,error1 = iteration(data2,k)\n",
    "    if error0 < error1:\n",
    "        results = results0\n",
    "    else:\n",
    "        results = results1\n",
    "    return results"
   ]
  },
  {
   "cell_type": "code",
   "execution_count": 22,
   "metadata": {
    "collapsed": true
   },
   "outputs": [],
   "source": [
    "results = [[]for i in range(5)]"
   ]
  },
  {
   "cell_type": "code",
   "execution_count": 956,
   "metadata": {
    "collapsed": true
   },
   "outputs": [
    {
     "name": "stdout",
     "output_type": "stream",
     "text": [
      "0\n",
      "go on\n",
      "1\n",
      "[[0.3197, 0.5716], [0.2, 0.9], [0.9, 0.2], [0.5, 0.65]] 1556.766219 [[0, 0], [0.2245, 0.7295], [0.5267, 0.1801], [0.5713, 0.601]] 975.679119\n",
      "go on\n",
      "2\n",
      "add one new point\n",
      "[[0.2328, 0.322], [0.3197, 0.5716], [0.5267, 0.1801], [0.5713, 0.601]] 975.679119 [[0.1252, 0.2262], [0, 0], [0.3031, 0.1518], [0.3695, 0.7332]] 1080.21207\n",
      "go on\n",
      "3\n",
      "[[0.2328, 0.322], [0.3197, 0.5716], [0.5267, 0.1801], [0.5713, 0.601]] 1574.754245 [[0.2142, 0.2145], [0.2474, 0.8818], [0.9176, 0.1882], [0.7832, 0.3826]] 309.302807\n",
      "find optimization\n",
      "0\n",
      "go on\n",
      "1\n",
      "[[0.3197, 0.5716], [0.2, 0.9], [0.9, 0.2], [0.5, 0.65]] 1556.766219 [[0, 0], [0.2245, 0.7295], [0.5267, 0.1801], [0.5713, 0.601]] 975.679119\n",
      "go on\n",
      "2\n",
      "add one new point\n",
      "[[0.0994, 0.9992], [0.3197, 0.5716], [0.5267, 0.1801], [0.5713, 0.601]] 975.679119 [[0.1252, 0.2262], [0, 0], [0.3031, 0.1518], [0.3695, 0.7332]] 1080.21207\n",
      "go on\n",
      "3\n",
      "[[0.3197, 0.5716], [0.3197, 0.5716], [0.3197, 0.5716], [0.5713, 0.601]] 2517.676368 [[0, 0], [0.2038, 0.9285], [0, 0], [0.4108, 0.2911]] 681.351258\n",
      "find optimization\n"
     ]
    }
   ],
   "source": [
    "results[3] = double_evaluate(data,4)"
   ]
  },
  {
   "cell_type": "code",
   "execution_count": 957,
   "metadata": {
    "collapsed": true
   },
   "outputs": [
    {
     "name": "stdout",
     "output_type": "stream",
     "text": [
      "0\n",
      "go on\n",
      "1\n",
      "[[0.2, 0.2], [0.2, 1], [0.9, 0.2]] 5496.421143 [[0.2211, 0.795], [0.4633, 0.2217], [0.5707, 0.628]] 864.067154\n",
      "go on\n",
      "2\n",
      "[[0.2211, 0.795], [0.4633, 0.2217], [0.5707, 0.628]] 864.067154 [[0.1072, 0.2654], [0.2445, 0.8886], [0.4904, 0.241]] 569.723317\n",
      "go on\n",
      "3\n",
      "[[0.1072, 0.2654], [0.2445, 0.8886], [0.4904, 0.241]] 569.723317 [[0.1858, 0.9292], [0.3826, 0.216], [0.4772, 0.6943]] 567.534249\n",
      "go on\n",
      "4\n",
      "[[0.3197, 0.5716], [0.3826, 0.216], [0.4772, 0.6943]] 567.534249 [[0, 0], [0.2167, 0.9169], [0.4072, 0.2783]] 685.234631\n",
      "go on\n",
      "5\n",
      "[[0.3197, 0.5716], [0.3826, 0.216], [0.4772, 0.6943]] 3933.631902 [[0.2147, 0.2153], [0.2683, 0.8626], [0.9271, 0.2172]] 320.26622\n",
      "find optimization\n",
      "0\n",
      "go on\n",
      "1\n",
      "[[0.2, 0.2], [0.2, 1], [0.9, 0.2]] 5496.421143 [[0.2211, 0.795], [0.4633, 0.2217], [0.5707, 0.628]] 864.067154\n",
      "go on\n",
      "2\n",
      "[[0.2211, 0.795], [0.4633, 0.2217], [0.5707, 0.628]] 864.067154 [[0.1072, 0.2654], [0.2445, 0.8886], [0.4904, 0.241]] 569.723317\n",
      "go on\n",
      "3\n",
      "[[0.1072, 0.2654], [0.2445, 0.8886], [0.4904, 0.241]] 569.723317 [[0.1858, 0.9292], [0.3826, 0.216], [0.4772, 0.6943]] 567.534249\n",
      "go on\n",
      "4\n",
      "[[0.3197, 0.5716], [0.3826, 0.216], [0.4772, 0.6943]] 567.534249 [[0, 0], [0.2167, 0.9169], [0.4072, 0.2783]] 685.234631\n",
      "go on\n",
      "5\n",
      "[[0.3197, 0.5716], [0.3826, 0.216], [0.4772, 0.6943]] 3933.631902 [[0.2147, 0.2153], [0.2683, 0.8626], [0.9271, 0.2172]] 320.26622\n",
      "find optimization\n"
     ]
    }
   ],
   "source": [
    "results[2] = double_evaluate(data,3)"
   ]
  },
  {
   "cell_type": "code",
   "execution_count": 72,
   "metadata": {
    "collapsed": false
   },
   "outputs": [
    {
     "name": "stdout",
     "output_type": "stream",
     "text": [
      "0\n",
      "go on\n",
      "1\n",
      "[[0.4697, 0.6399], [0.13, 0.9], [0.28, 0.9], [0.95, 0.2], [0.061, 0.2625]] 1804.711298 [[0, 0], [0.2309, 0.7073], [0.158, 0.0608], [0.6009, 0.215], [0, 0]] 1013.729462\n",
      "go on\n",
      "2\n",
      "replace one point\n",
      "add one new point\n",
      "[[0.036, 0.3045], [0.2309, 0.7073], [0.3155, 0.9789], [0.6009, 0.215], [0.5575, 0.6393]] 1013.729462 [[0, 0], [0.1024, 0.315], [0, 0], [0.2319, 0.1531], [0.3699, 0.7286]] 1098.801677\n",
      "go on\n",
      "3\n",
      "[[0.0225, 0.9389], [0.2309, 0.7073], [0.3155, 0.9789], [0.3238, 0.1955], [0.5575, 0.6393]] 1816.323175 [[0, 0], [0.2036, 0.9288], [0.3826, 0.2159], [0, 0], [0.5258, 0.5992]] 537.40035\n",
      "find optimization\n",
      "0\n",
      "go on\n",
      "1\n",
      "[[0.2634, 0.0717], [0.13, 0.9], [0.28, 0.9], [0.95, 0.2], [0.5092, 0.5931]] 1804.711298 [[0, 0], [0.2309, 0.7073], [0.158, 0.0608], [0.6009, 0.215], [0, 0]] 1013.729462\n",
      "go on\n",
      "2\n",
      "replace one point\n",
      "add one new point\n",
      "[[0.0655, 0.8994], [0.2309, 0.7073], [0.248, 0.048], [0.6009, 0.215], [0.2407, 0.2611]] 1013.729462 [[0, 0], [0.1024, 0.315], [0, 0], [0.2319, 0.1531], [0.3699, 0.7286]] 1098.801677\n",
      "go on\n",
      "3\n",
      "[[0.295, 0.969], [0.2309, 0.7073], [0.248, 0.048], [0.0309, 0.9267], [0.2407, 0.2611]] 3133.727005 [[0, 0], [0.0452, 0.8334], [0.2739, 0.8695], [0, 0], [0.3909, 0.2251]] 702.471866\n",
      "find optimization\n"
     ]
    }
   ],
   "source": [
    "results[4] = double_evaluate(data,5)"
   ]
  },
  {
   "cell_type": "markdown",
   "metadata": {
    "collapsed": true
   },
   "source": [
    "results[1] = double_evaluate(data,3)"
   ]
  },
  {
   "cell_type": "code",
   "execution_count": 960,
   "metadata": {
    "collapsed": true
   },
   "outputs": [],
   "source": [
    "import itertools "
   ]
  },
  {
   "cell_type": "code",
   "execution_count": 961,
   "metadata": {
    "collapsed": false
   },
   "outputs": [],
   "source": [
    "file = open('./data/step1.txt', 'w')\n",
    "string = str(len(data))+\"\\n\"\n",
    "for i in results[3]:\n",
    "    for ii in range(len(i)):\n",
    "        if ii != 2:\n",
    "            string += str(i[ii]) + ','\n",
    "        if ii ==2 :\n",
    "            a = i[ii]+1\n",
    "            string += str(a) + ','\n",
    "    string += '\\n'\n",
    "file.write(string)\n",
    "file.close()"
   ]
  },
  {
   "cell_type": "code",
   "execution_count": 962,
   "metadata": {
    "collapsed": false
   },
   "outputs": [],
   "source": [
    "file = open('./data/step2a.txt', 'w')\n",
    "string = str(len(data))+\"\\n\"\n",
    "for i in results[2]:\n",
    "    for ii in range(len(i)):\n",
    "        if ii != 2:\n",
    "            string += str(i[ii]) + ','\n",
    "        if ii ==2 :\n",
    "            a = i[ii]+1\n",
    "            string += str(a) + ','\n",
    "    string += '\\n'\n",
    "file.write(string)\n",
    "file.close()"
   ]
  },
  {
   "cell_type": "code",
   "execution_count": 65,
   "metadata": {
    "collapsed": false
   },
   "outputs": [],
   "source": [
    "file = open('./step2b.txt', 'w')\n",
    "string = str(len(data))+\"\\n\"\n",
    "for i in results[4]:\n",
    "    for ii in range(len(i)):\n",
    "        if ii != 2:\n",
    "            string += str(i[ii]) + ','\n",
    "        if ii ==2 :\n",
    "            a = i[ii]+1\n",
    "            string += str(a) + ','\n",
    "    string += '\\n'\n",
    "file.write(string)\n",
    "file.close()"
   ]
  },
  {
   "cell_type": "code",
   "execution_count": 969,
   "metadata": {
    "collapsed": true
   },
   "outputs": [],
   "source": [
    "f.close()"
   ]
  },
  {
   "cell_type": "code",
   "execution_count": null,
   "metadata": {
    "collapsed": true
   },
   "outputs": [],
   "source": []
  }
 ],
 "metadata": {
  "kernelspec": {
   "display_name": "Python 2",
   "language": "python",
   "name": "python2"
  },
  "language_info": {
   "codemirror_mode": {
    "name": "ipython",
    "version": 2
   },
   "file_extension": ".py",
   "mimetype": "text/x-python",
   "name": "python",
   "nbconvert_exporter": "python",
   "pygments_lexer": "ipython2",
   "version": "2.7.11"
  }
 },
 "nbformat": 4,
 "nbformat_minor": 0
}
