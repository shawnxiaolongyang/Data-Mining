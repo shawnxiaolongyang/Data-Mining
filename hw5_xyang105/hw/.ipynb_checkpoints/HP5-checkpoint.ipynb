{
 "cells": [
  {
   "cell_type": "markdown",
   "metadata": {},
   "source": [
    "# Question 4"
   ]
  },
  {
   "cell_type": "code",
   "execution_count": 1,
   "metadata": {
    "collapsed": true
   },
   "outputs": [],
   "source": [
    "def eucl_dist(a,b):\n",
    "    distance = 0\n",
    "    for i in range(len(a)):\n",
    "        distance += (a[i]-b[i])**2\n",
    "    return round(float(distance)**0.5,3)"
   ]
  },
  {
   "cell_type": "code",
   "execution_count": 30,
   "metadata": {
    "collapsed": true
   },
   "outputs": [],
   "source": [
    "def find_center(cluster):\n",
    "    C_x = 0\n",
    "    C_y = 0\n",
    "    for i in cluster:\n",
    "        C_x += i[0]\n",
    "        C_y += i[1]\n",
    "    center = [float(C_x)/len(cluster), float(C_y)/len(cluster)]\n",
    "    return center"
   ]
  },
  {
   "cell_type": "code",
   "execution_count": 35,
   "metadata": {
    "collapsed": true
   },
   "outputs": [],
   "source": [
    "def cluster(data,center1,center2):\n",
    "    C1 = []\n",
    "    C2 = []\n",
    "    for i in data:\n",
    "        if eucl_dist(i,center1) < eucl_dist(i,center2):\n",
    "            C1.append(i)\n",
    "        else:\n",
    "            C2.append(i)\n",
    "    print C1\n",
    "    print C2\n",
    "    print find_center(C1)\n",
    "    print find_center(C2)\n",
    "    return find_center(C1),find_center(C2)"
   ]
  },
  {
   "cell_type": "markdown",
   "metadata": {},
   "source": [
    "### Q.a"
   ]
  },
  {
   "cell_type": "code",
   "execution_count": 32,
   "metadata": {
    "collapsed": true
   },
   "outputs": [],
   "source": [
    "data = [[1,1],[1,2],[2,1],[5,1],[3,2],[5,2],[3,3]]"
   ]
  },
  {
   "cell_type": "code",
   "execution_count": 36,
   "metadata": {
    "collapsed": false
   },
   "outputs": [
    {
     "name": "stdout",
     "output_type": "stream",
     "text": [
      "[[1, 1], [1, 2]]\n",
      "[[2, 1], [5, 1], [3, 2], [5, 2], [3, 3]]\n",
      "[1.0, 1.5]\n",
      "[3.6, 1.8]\n"
     ]
    }
   ],
   "source": [
    "center1, center2 = cluster(data,data[0],data[2])"
   ]
  },
  {
   "cell_type": "code",
   "execution_count": 39,
   "metadata": {
    "collapsed": false
   },
   "outputs": [
    {
     "name": "stdout",
     "output_type": "stream",
     "text": [
      "[[1, 1], [1, 2], [2, 1]]\n",
      "[[5, 1], [3, 2], [5, 2], [3, 3]]\n",
      "[1.3333333333333333, 1.3333333333333333]\n",
      "[4.0, 2.0]\n"
     ]
    }
   ],
   "source": [
    "center1, center2 = cluster(data,center1, center2)"
   ]
  },
  {
   "cell_type": "code",
   "execution_count": 41,
   "metadata": {
    "collapsed": false
   },
   "outputs": [
    {
     "name": "stdout",
     "output_type": "stream",
     "text": [
      "[[1, 1], [1, 2], [2, 1]]\n",
      "[[5, 1], [3, 2], [5, 2], [3, 3]]\n",
      "[1.3333333333333333, 1.3333333333333333]\n",
      "[4.0, 2.0]\n"
     ]
    }
   ],
   "source": [
    "center1, center2 = cluster(data,center1, center2)"
   ]
  },
  {
   "cell_type": "markdown",
   "metadata": {},
   "source": [
    "We can find there is no change in the **3rd** interation.\n",
    "The k-means finished."
   ]
  },
  {
   "cell_type": "markdown",
   "metadata": {},
   "source": [
    "### Q.b"
   ]
  },
  {
   "cell_type": "code",
   "execution_count": 42,
   "metadata": {
    "collapsed": false
   },
   "outputs": [
    {
     "name": "stdout",
     "output_type": "stream",
     "text": [
      "[[1, 1], [1, 2], [2, 1]]\n",
      "[[5, 1], [3, 2], [5, 2], [3, 3]]\n",
      "[1.3333333333333333, 1.3333333333333333]\n",
      "[4.0, 2.0]\n"
     ]
    }
   ],
   "source": [
    "center1, center2 = cluster(data,data[1],data[5])"
   ]
  },
  {
   "cell_type": "code",
   "execution_count": 43,
   "metadata": {
    "collapsed": false
   },
   "outputs": [
    {
     "name": "stdout",
     "output_type": "stream",
     "text": [
      "[[1, 1], [1, 2], [2, 1]]\n",
      "[[5, 1], [3, 2], [5, 2], [3, 3]]\n",
      "[1.3333333333333333, 1.3333333333333333]\n",
      "[4.0, 2.0]\n"
     ]
    }
   ],
   "source": [
    "center1, center2 = cluster(data,center1, center2)"
   ]
  },
  {
   "cell_type": "markdown",
   "metadata": {},
   "source": [
    "We can find there is no change in the **2nd** interation.\n",
    "The k-means finished."
   ]
  },
  {
   "cell_type": "markdown",
   "metadata": {},
   "source": [
    "### Q.c"
   ]
  },
  {
   "cell_type": "markdown",
   "metadata": {},
   "source": [
    "Randomly set one point as 1st center, find the longest point from the center as the 2nd center"
   ]
  },
  {
   "cell_type": "code",
   "execution_count": 51,
   "metadata": {
    "collapsed": false
   },
   "outputs": [],
   "source": [
    "import random as rd"
   ]
  },
  {
   "cell_type": "code",
   "execution_count": 64,
   "metadata": {
    "collapsed": false
   },
   "outputs": [],
   "source": [
    "a = data[rd.randint(0,6)]"
   ]
  },
  {
   "cell_type": "code",
   "execution_count": 65,
   "metadata": {
    "collapsed": false
   },
   "outputs": [
    {
     "name": "stdout",
     "output_type": "stream",
     "text": [
      "2.828\n",
      "2.236\n",
      "2.236\n",
      "2.828\n",
      "1.0\n",
      "2.236\n",
      "0.0\n"
     ]
    }
   ],
   "source": [
    "for i in data:\n",
    "    print eucl_dist(i,a)"
   ]
  },
  {
   "cell_type": "markdown",
   "metadata": {},
   "source": [
    "We can find P7 is the randam select data, P3 is the farest from P7"
   ]
  },
  {
   "cell_type": "code",
   "execution_count": 66,
   "metadata": {
    "collapsed": false
   },
   "outputs": [],
   "source": [
    "b= data[2]"
   ]
  },
  {
   "cell_type": "code",
   "execution_count": 67,
   "metadata": {
    "collapsed": false
   },
   "outputs": [
    {
     "name": "stdout",
     "output_type": "stream",
     "text": [
      "[[5, 1], [3, 2], [5, 2], [3, 3]]\n",
      "[[1, 1], [1, 2], [2, 1]]\n",
      "[4.0, 2.0]\n",
      "[1.3333333333333333, 1.3333333333333333]\n"
     ]
    }
   ],
   "source": [
    "center1, center2 = cluster(data,a, b)"
   ]
  },
  {
   "cell_type": "code",
   "execution_count": 68,
   "metadata": {
    "collapsed": false
   },
   "outputs": [
    {
     "name": "stdout",
     "output_type": "stream",
     "text": [
      "[[5, 1], [3, 2], [5, 2], [3, 3]]\n",
      "[[1, 1], [1, 2], [2, 1]]\n",
      "[4.0, 2.0]\n",
      "[1.3333333333333333, 1.3333333333333333]\n"
     ]
    }
   ],
   "source": [
    "center1, center2 = cluster(data,center1, center2)"
   ]
  },
  {
   "cell_type": "markdown",
   "metadata": {},
   "source": [
    "It get to the center in the **1st** step."
   ]
  }
 ],
 "metadata": {
  "kernelspec": {
   "display_name": "Python 2",
   "language": "python",
   "name": "python2"
  },
  "language_info": {
   "codemirror_mode": {
    "name": "ipython",
    "version": 2
   },
   "file_extension": ".py",
   "mimetype": "text/x-python",
   "name": "python",
   "nbconvert_exporter": "python",
   "pygments_lexer": "ipython2",
   "version": "2.7.11"
  }
 },
 "nbformat": 4,
 "nbformat_minor": 0
}
