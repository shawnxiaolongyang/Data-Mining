{
 "cells": [
  {
   "cell_type": "code",
   "execution_count": 217,
   "metadata": {
    "collapsed": true
   },
   "outputs": [],
   "source": [
    "def norm(data):\n",
    "    data1 = [[0,0]for i in range(len(data))]\n",
    "    d0 = []\n",
    "    d1 = []\n",
    "    for i in range(len(data)):\n",
    "        d0.append(data[i][0])\n",
    "        d1.append(data[i][1])\n",
    "    for i in range(len(data)):\n",
    "        data1[i][0] = round(float((data[i][0]-min(d0)))/(max(d0)-min(d0)),4)\n",
    "        data1[i][1] = round(float((data[i][1]-min(d1)))/(max(d1)-min(d1)),4)\n",
    "    return data1"
   ]
  },
  {
   "cell_type": "code",
   "execution_count": 218,
   "metadata": {
    "collapsed": true
   },
   "outputs": [],
   "source": [
    "def eucl_dist(a,b):\n",
    "    distance = 0\n",
    "    for i in range(len(a)):\n",
    "        distance += (a[i]-b[i])**2\n",
    "    return round(float(distance)**0.5,3)"
   ]
  },
  {
   "cell_type": "code",
   "execution_count": 219,
   "metadata": {
    "collapsed": true
   },
   "outputs": [],
   "source": [
    "def find_center(cluster):\n",
    "    C_x = 0\n",
    "    C_y = 0\n",
    "    for i in cluster:\n",
    "        C_x += i[0]\n",
    "        C_y += i[1]\n",
    "    center = [round(float(C_x)/len(cluster),4), round(float(C_y)/len(cluster),4)]\n",
    "    return center"
   ]
  },
  {
   "cell_type": "code",
   "execution_count": 220,
   "metadata": {
    "collapsed": true
   },
   "outputs": [],
   "source": [
    "from random import randint as ri"
   ]
  },
  {
   "cell_type": "code",
   "execution_count": 221,
   "metadata": {
    "collapsed": true
   },
   "outputs": [],
   "source": [
    "def random_value(data,center):\n",
    "    value = ri(0,len(data)-1)\n",
    "    random_value = data[value]\n",
    "    center.append(random_value)\n",
    "    data.pop(value)\n",
    "    return data,center"
   ]
  },
  {
   "cell_type": "code",
   "execution_count": 248,
   "metadata": {
    "collapsed": true
   },
   "outputs": [],
   "source": [
    "def cluster(data,k,center):\n",
    "    C = [[]for i in range(k)]         \n",
    "    \n",
    "    print center\n",
    "    value = [[0]*k for i in range(len(data))]\n",
    "    \n",
    "    for i in range(len(data)):\n",
    "        for ii in range(k):\n",
    "            \n",
    "            value[i][ii] =  eucl_dist(data[i],center[ii])\n",
    "    for i in range(len(data)):\n",
    "        for ii in range(k):\n",
    "            if eucl_dist(data[i],center[ii]) == max(value[i]):\n",
    "                C[ii].append(data[i])\n",
    "    #print C\n",
    "    n = 0\n",
    "    for i in range(k):\n",
    "        if len(C[k-i-1])==0:\n",
    "            center[i] = data[ri(0,len(data)-1)]\n",
    "        else:\n",
    "            if abs(center[i][0] - find_center(C[k-i-1])[0])<0.005 and abs(center[i][1] - find_center(C[k-i-1])[1])<0.005:\n",
    "                center[i] = find_center(C[k-i-1])\n",
    "            else:\n",
    "                n += 1\n",
    "    return center,n,C\n"
   ]
  },
  {
   "cell_type": "code",
   "execution_count": 223,
   "metadata": {
    "collapsed": false
   },
   "outputs": [],
   "source": [
    "def iteration(data,k):\n",
    "    data1 = []\n",
    "    for i in data:\n",
    "        data1.append(i)\n",
    "    center = []\n",
    "    for i in range(k):\n",
    "        data1,center = random_value(data1,center)\n",
    "    n = 0\n",
    "    \n",
    "    result = []\n",
    "    for i in range(200):\n",
    "        print i\n",
    "        if i == 199:\n",
    "            center,n,C = cluster(data,k,center)\n",
    "            for i in range(k):\n",
    "                a = []\n",
    "                for ii in range(len(C[i])):\n",
    "                    a=C[i][ii]\n",
    "                    a.append(i)\n",
    "                    result.append(a)\n",
    "            return result\n",
    "        elif n!= k:\n",
    "            center,n,C = cluster(data,k,center)\n",
    "        \n",
    "        else:\n",
    "            for i in range(k):\n",
    "                a = []\n",
    "                for ii in range(len(C[i])):\n",
    "                    a=C[i][ii]\n",
    "                    a.append(i)\n",
    "                    result.append(a)\n",
    "            return result\n",
    "            break\n",
    "        \n",
    "    "
   ]
  },
  {
   "cell_type": "code",
   "execution_count": 224,
   "metadata": {
    "collapsed": false
   },
   "outputs": [
    {
     "name": "stdout",
     "output_type": "stream",
     "text": [
      "0\n",
      "[[5, 1], [2, 1]]\n",
      "1\n",
      "[[5.0, 1.5], [2.0, 1.8]]\n",
      "2\n"
     ]
    }
   ],
   "source": [
    "data = [[1,1],[1,2],[2,1],[5,1],[3,2],[5,2],[3,3]]\n",
    "result = iteration(data,2)"
   ]
  },
  {
   "cell_type": "code",
   "execution_count": 225,
   "metadata": {
    "collapsed": false
   },
   "outputs": [
    {
     "data": {
      "text/plain": [
       "[[1, 1, 0], [1, 2, 0], [2, 1, 0], [3, 2, 0], [3, 3, 0], [5, 1, 1], [5, 2, 1]]"
      ]
     },
     "execution_count": 225,
     "metadata": {},
     "output_type": "execute_result"
    }
   ],
   "source": [
    "result"
   ]
  },
  {
   "cell_type": "code",
   "execution_count": 226,
   "metadata": {
    "collapsed": false
   },
   "outputs": [],
   "source": [
    "f = open(\"./data.txt\", \"r\")"
   ]
  },
  {
   "cell_type": "code",
   "execution_count": 227,
   "metadata": {
    "collapsed": true
   },
   "outputs": [],
   "source": [
    "all_text = f.read()"
   ]
  },
  {
   "cell_type": "code",
   "execution_count": 228,
   "metadata": {
    "collapsed": false
   },
   "outputs": [],
   "source": [
    "c = all_text.split(\"\\n\")"
   ]
  },
  {
   "cell_type": "code",
   "execution_count": 229,
   "metadata": {
    "collapsed": false
   },
   "outputs": [
    {
     "data": {
      "text/plain": [
       "('9711', '')"
      ]
     },
     "execution_count": 229,
     "metadata": {},
     "output_type": "execute_result"
    }
   ],
   "source": [
    "c.pop(0),c.pop(-1)"
   ]
  },
  {
   "cell_type": "code",
   "execution_count": 249,
   "metadata": {
    "collapsed": false
   },
   "outputs": [],
   "source": [
    "data = [[0,0] for i in range(len(c))]\n",
    "for i in range(len(c)):\n",
    "    data[i][0] = float(c[i].strip(' ').split(',')[0])\n",
    "    data[i][1] = float(c[i].strip(' ').split(',')[1])\n"
   ]
  },
  {
   "cell_type": "code",
   "execution_count": 250,
   "metadata": {
    "collapsed": false
   },
   "outputs": [],
   "source": [
    "data1 = norm(data)"
   ]
  },
  {
   "cell_type": "code",
   "execution_count": 251,
   "metadata": {
    "collapsed": false
   },
   "outputs": [
    {
     "data": {
      "text/plain": [
       "[0.0797, 0.2493]"
      ]
     },
     "execution_count": 251,
     "metadata": {},
     "output_type": "execute_result"
    }
   ],
   "source": [
    "data1[0]"
   ]
  },
  {
   "cell_type": "code",
   "execution_count": 252,
   "metadata": {
    "collapsed": false
   },
   "outputs": [
    {
     "name": "stdout",
     "output_type": "stream",
     "text": [
      "0\n",
      "[[0.1439, 0.3519], [0.9784, 0.1999], [0.2822, 0.8888]]\n",
      "1\n",
      "[[0.1439, 0.3519], [0.9784, 0.1999], [0.9602, 0.2122]]\n",
      "2\n",
      "[[0.3339, 0.9684], [0.9784, 0.1999], [0.9602, 0.2122]]\n",
      "3\n",
      "[[0.2466, 0.2808], [0.9784, 0.1999], [0.9602, 0.2122]]\n",
      "4\n",
      "[[0.335, 0.9872], [0.9784, 0.1999], [0.9602, 0.2122]]\n",
      "5\n",
      "[[0.5673, 0.6233], [0.9784, 0.1999], [0.9602, 0.2122]]\n",
      "6\n",
      "[[0.0343, 0.9096], [0.9784, 0.1999], [0.9602, 0.2122]]\n",
      "7\n",
      "[[0.0912, 0.2356], [0.9784, 0.1999], [0.9602, 0.2122]]\n",
      "8\n",
      "[[0.5369, 0.6658], [0.9784, 0.1999], [0.9602, 0.2122]]\n",
      "9\n",
      "[[0.503, 0.5483], [0.9784, 0.1999], [0.9602, 0.2122]]\n",
      "10\n",
      "[[0.4768, 0.6028], [0.9784, 0.1999], [0.9602, 0.2122]]\n",
      "11\n",
      "[[0.1177, 0.2631], [0.9784, 0.1999], [0.9602, 0.2122]]\n",
      "12\n",
      "[[0.0607, 0.9024], [0.9784, 0.1999], [0.9602, 0.2122]]\n",
      "13\n",
      "[[0.1253, 0.9599], [0.9784, 0.1999], [0.9602, 0.2122]]\n",
      "14\n",
      "[[0.3117, 0.8674], [0.9784, 0.1999], [0.9602, 0.2122]]\n",
      "15\n",
      "[[0.0844, 0.9405], [0.9784, 0.1999], [0.9602, 0.2122]]\n",
      "16\n",
      "[[0.3135, 0.9206], [0.9784, 0.1999], [0.9602, 0.2122]]\n",
      "17\n",
      "[[0.4712, 0.6161], [0.9784, 0.1999], [0.9602, 0.2122]]\n",
      "18\n",
      "[[0.5049, 0.5386], [0.9784, 0.1999], [0.9602, 0.2122]]\n",
      "19\n",
      "[[0.3527, 0.9144], [0.9784, 0.1999], [0.9602, 0.2122]]\n",
      "20\n",
      "[[0.4827, 0.6539], [0.9784, 0.1999], [0.9602, 0.2122]]\n",
      "21\n",
      "[[0.3537, 0.9333], [0.9784, 0.1999], [0.9602, 0.2122]]\n",
      "22\n",
      "[[0.374, 0.1051], [0.9784, 0.1999], [0.9602, 0.2122]]\n",
      "23\n",
      "[[0.501, 0.5552], [0.9784, 0.1999], [0.9602, 0.2122]]\n",
      "24\n",
      "[[0.3352, 0.3056], [0.9784, 0.1999], [0.9602, 0.2122]]\n",
      "25\n",
      "[[0.3051, 0.2798], [0.9784, 0.1999], [0.9602, 0.2122]]\n",
      "26\n",
      "[[0.1684, 0.0181], [0.9784, 0.1999], [0.9602, 0.2122]]\n",
      "27\n",
      "[[0.884, 0.2336], [0.9784, 0.1999], [0.9602, 0.2122]]\n",
      "28\n",
      "[[0.3479, 0.8707], [0.9784, 0.1999], [0.9602, 0.2122]]\n",
      "29\n",
      "[[0.0868, 0.975], [0.9784, 0.1999], [0.9602, 0.2122]]\n",
      "30\n",
      "[[0.2048, 0.1586], [0.9784, 0.1999], [0.9602, 0.2122]]\n",
      "31\n",
      "[[0.132, 0.9916], [0.9784, 0.1999], [0.9602, 0.2122]]\n",
      "32\n",
      "[[0.3053, 0.9054], [0.9784, 0.1999], [0.9602, 0.2122]]\n",
      "33\n",
      "[[0.1032, 0.2558], [0.9784, 0.1999], [0.9602, 0.2122]]\n",
      "34\n",
      "[[0.2279, 0.9384], [0.9784, 0.1999], [0.9602, 0.2122]]\n",
      "35\n",
      "[[0.0445, 0.1035], [0.9784, 0.1999], [0.9602, 0.2122]]\n",
      "36\n",
      "[[0.2462, 0.9798], [0.9784, 0.1999], [0.9602, 0.2122]]\n",
      "37\n",
      "[[0.07, 0.9455], [0.9784, 0.1999], [0.9602, 0.2122]]\n",
      "38\n",
      "[[0.2577, 0.9881], [0.9784, 0.1999], [0.9602, 0.2122]]\n",
      "39\n",
      "[[0.8985, 0.2332], [0.9784, 0.1999], [0.9602, 0.2122]]\n",
      "40\n",
      "[[0.0224, 0.1752], [0.9784, 0.1999], [0.9602, 0.2122]]\n",
      "41\n",
      "[[0.2648, 0.8716], [0.9784, 0.1999], [0.9602, 0.2122]]\n",
      "42\n",
      "[[0.1242, 0.9805], [0.9784, 0.1999], [0.9602, 0.2122]]\n",
      "43\n",
      "[[0.5683, 0.5732], [0.9784, 0.1999], [0.9602, 0.2122]]\n",
      "44\n",
      "[[0.9327, 0.2354], [0.9784, 0.1999], [0.9602, 0.2122]]\n",
      "45\n",
      "[[0.9714, 0.1827], [0.9784, 0.1999], [0.9602, 0.2122]]\n",
      "46\n"
     ]
    }
   ],
   "source": [
    "result = iteration(data1,3)"
   ]
  },
  {
   "cell_type": "code",
   "execution_count": null,
   "metadata": {
    "collapsed": false
   },
   "outputs": [],
   "source": []
  },
  {
   "cell_type": "code",
   "execution_count": null,
   "metadata": {
    "collapsed": false
   },
   "outputs": [],
   "source": []
  },
  {
   "cell_type": "code",
   "execution_count": null,
   "metadata": {
    "collapsed": true
   },
   "outputs": [],
   "source": []
  }
 ],
 "metadata": {
  "kernelspec": {
   "display_name": "Python 2",
   "language": "python",
   "name": "python2"
  },
  "language_info": {
   "codemirror_mode": {
    "name": "ipython",
    "version": 2
   },
   "file_extension": ".py",
   "mimetype": "text/x-python",
   "name": "python",
   "nbconvert_exporter": "python",
   "pygments_lexer": "ipython2",
   "version": "2.7.11"
  }
 },
 "nbformat": 4,
 "nbformat_minor": 0
}
