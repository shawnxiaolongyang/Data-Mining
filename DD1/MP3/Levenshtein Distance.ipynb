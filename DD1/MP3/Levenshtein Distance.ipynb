{
 "cells": [
  {
   "cell_type": "code",
   "execution_count": 32,
   "metadata": {
    "collapsed": false
   },
   "outputs": [],
   "source": [
    "def lev_dist(a,b):\n",
    "    n = len(a)\n",
    "    m = len(b)\n",
    "    if n == 0:\n",
    "        return n\n",
    "    if m == 0:\n",
    "        return m\n",
    "    else:\n",
    "        d = [[0]*(n+1) for i in range(m+1)]\n",
    "        for i in range(n+1):\n",
    "            d[0][i] = i\n",
    "        for i in range(m+1):\n",
    "            d[i][0] = i\n",
    "        for i in range(1,n+1):\n",
    "            for ii in range(1,m+1):\n",
    "                if a[i-1] == b[ii-1]:\n",
    "                    cost = 0\n",
    "                else:\n",
    "                    cost = 1\n",
    "                d[ii][i] = min(d[ii-1][i]+1,\n",
    "                                  d[ii][i-1]+1,\n",
    "                                 d[ii-1][i-1]+cost)\n",
    "\n",
    "        return d    \n"
   ]
  },
  {
   "cell_type": "code",
   "execution_count": 33,
   "metadata": {
    "collapsed": false
   },
   "outputs": [
    {
     "data": {
      "text/plain": [
       "[[0, 1, 2, 3, 4, 5],\n",
       " [1, 0, 1, 2, 3, 4],\n",
       " [2, 1, 1, 2, 3, 4],\n",
       " [3, 2, 2, 1, 2, 3],\n",
       " [4, 3, 3, 2, 1, 2],\n",
       " [5, 4, 4, 3, 2, 1],\n",
       " [6, 5, 5, 4, 3, 2]]"
      ]
     },
     "execution_count": 33,
     "metadata": {},
     "output_type": "execute_result"
    }
   ],
   "source": [
    "a = ['G','U','M','B','O']\n",
    "b = ['G','A','M','B','O','L']\n",
    "lev_dist(a,b)"
   ]
  }
 ],
 "metadata": {
  "kernelspec": {
   "display_name": "Python 2",
   "language": "python",
   "name": "python2"
  },
  "language_info": {
   "codemirror_mode": {
    "name": "ipython",
    "version": 2
   },
   "file_extension": ".py",
   "mimetype": "text/x-python",
   "name": "python",
   "nbconvert_exporter": "python",
   "pygments_lexer": "ipython2",
   "version": "2.7.11"
  }
 },
 "nbformat": 4,
 "nbformat_minor": 0
}
