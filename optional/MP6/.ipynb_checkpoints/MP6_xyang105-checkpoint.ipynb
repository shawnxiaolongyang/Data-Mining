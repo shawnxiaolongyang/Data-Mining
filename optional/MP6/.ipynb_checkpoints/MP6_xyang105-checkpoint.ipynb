{
 "cells": [
  {
   "cell_type": "markdown",
   "metadata": {},
   "source": [
    "# MP6"
   ]
  },
  {
   "cell_type": "markdown",
   "metadata": {},
   "source": [
    "## Question a"
   ]
  },
  {
   "cell_type": "markdown",
   "metadata": {},
   "source": [
    "      month\n",
    "year      1     2    3    4    5    6    7\n",
    "  2012 7095  4500 9195 6050 6625 4260 2915\n",
    "  2013 2365 12220 5725 5620 9450 9570 2240\n",
    "      month\n",
    "year      8    9    10   11   12\n",
    "  2012 7540 3955 10305 2240 5600\n",
    "  2013 6720 6845  6865  225 2710"
   ]
  },
  {
   "cell_type": "markdown",
   "metadata": {},
   "source": [
    "<img src='Qa.png'>"
   ]
  },
  {
   "cell_type": "markdown",
   "metadata": {},
   "source": [
    "## Question b"
   ]
  },
  {
   "cell_type": "markdown",
   "metadata": {},
   "source": [
    "         month\n",
    "prod         1    2 3    4    5    6\n",
    "  Laptop     0    0 0    0    0    0\n",
    "  Printer    0 1140 0 1140    0    0\n",
    "  Tablet  2240 4480 0    0 2240 2240"
   ]
  },
  {
   "cell_type": "markdown",
   "metadata": {},
   "source": [
    "<img src='Qb.png'>"
   ]
  },
  {
   "cell_type": "markdown",
   "metadata": {},
   "source": [
    "We can find that **tablet** has the most popularity"
   ]
  },
  {
   "cell_type": "markdown",
   "metadata": {},
   "source": [
    "## Question c"
   ]
  },
  {
   "cell_type": "markdown",
   "metadata": {},
   "source": [
    "My recommandation:\n",
    "    \n",
    "**Which state sells the most tablet?**\n"
   ]
  },
  {
   "cell_type": "markdown",
   "metadata": {},
   "source": [
    "   CA     NZ     ON     QU     WG \n",
    "107520 106400  34720  49280  45920"
   ]
  },
  {
   "cell_type": "markdown",
   "metadata": {},
   "source": [
    "<img src='Qc.png'>"
   ]
  },
  {
   "cell_type": "markdown",
   "metadata": {},
   "source": [
    "We can find **CA** sells most tablet"
   ]
  }
 ],
 "metadata": {
  "kernelspec": {
   "display_name": "Python 2",
   "language": "python",
   "name": "python2"
  },
  "language_info": {
   "codemirror_mode": {
    "name": "ipython",
    "version": 2
   },
   "file_extension": ".py",
   "mimetype": "text/x-python",
   "name": "python",
   "nbconvert_exporter": "python",
   "pygments_lexer": "ipython2",
   "version": "2.7.11"
  }
 },
 "nbformat": 4,
 "nbformat_minor": 0
}
