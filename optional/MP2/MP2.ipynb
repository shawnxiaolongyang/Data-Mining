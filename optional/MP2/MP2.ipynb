{
 "cells": [
  {
   "cell_type": "markdown",
   "metadata": {},
   "source": [
    "## Question 1"
   ]
  },
  {
   "cell_type": "markdown",
   "metadata": {},
   "source": [
    "[-6,-6,-6,-5,-4,-4,-1,1,2,9];\n",
    "\n",
    "[-7,-7,-7,-6,-5,-5,-2,0,1,8]\n",
    "\n",
    "The coefficient is 1"
   ]
  },
  {
   "cell_type": "markdown",
   "metadata": {},
   "source": [
    "[-10,-7,-6,-3,0,2,3,5,10,10];\n",
    "\n",
    "[-12,-22,-21,-18,11,13,-12,-10,8,21]\n",
    "\n",
    "The coefficient is 0.7113"
   ]
  },
  {
   "cell_type": "markdown",
   "metadata": {},
   "source": [
    "[-6,-5,-5,-2,-2,1,3,5,8,9];\n",
    "\n",
    "[8,-7,-7,-20,-4,-17,-15,3,6,7]\n",
    "\n",
    "The coefficient is 0.3148"
   ]
  },
  {
   "cell_type": "markdown",
   "metadata": {},
   "source": [
    "[-7,-5,-1,1,3,4,4,8,9,10];\n",
    "\n",
    "[17,-37,-5,-3,27,0,-28,4,-23,6]\n",
    "\n",
    "The coefficient is 0.0303"
   ]
  },
  {
   "cell_type": "markdown",
   "metadata": {},
   "source": [
    "[-10,-10,-10,-9,-3,-2,1,2,2,10];\n",
    "\n",
    "[-5,-5,35,14,8,-13,-16,3,23,-5]\n",
    "\n",
    "The coefficient is -0.2758"
   ]
  },
  {
   "cell_type": "markdown",
   "metadata": {},
   "source": [
    "[-7,-7,-2,-1,0,0,4,4,6,7];\n",
    "\n",
    "[20,11,-3,5,13,-5,9,-9,-2,-12]\n",
    "\n",
    "The coefficient is -0.6956"
   ]
  },
  {
   "cell_type": "markdown",
   "metadata": {},
   "source": [
    "[-10,-6,-4,-3,0,1,3,3,3,8];\n",
    "\n",
    "[12,8,6,5,2,1,-1,-1,-1,-6]\n",
    "\n",
    "The coefficient is -1"
   ]
  },
  {
   "cell_type": "markdown",
   "metadata": {},
   "source": [
    "Theory I find is that the amount of noise should be the square root of the product of both vectors standard deviation.\n",
    "\n",
    "If we want vectors haave coefficient near 1, we need add no noise;\n",
    "if we want 0.7, add 1 times noise;\n",
    "if we want 0.3, add 3 times noise;\n",
    "if we want 0, add 5 times noise;\n",
    "if we want -1, we need set a vector's element equals to the others' negative.\n"
   ]
  },
  {
   "cell_type": "markdown",
   "metadata": {},
   "source": [
    "## Question 2"
   ]
  },
  {
   "cell_type": "markdown",
   "metadata": {},
   "source": [
    "<img src='Ce_1.jpg'>"
   ]
  },
  {
   "cell_type": "markdown",
   "metadata": {},
   "source": [
    "<img src='Ce_7.jpg'>"
   ]
  },
  {
   "cell_type": "markdown",
   "metadata": {},
   "source": [
    "<img src='Ce_3.jpg'>"
   ]
  },
  {
   "cell_type": "markdown",
   "metadata": {},
   "source": [
    "<img src='Ce_0.jpg'>"
   ]
  },
  {
   "cell_type": "markdown",
   "metadata": {},
   "source": [
    "<img src='Ce_-3.jpg'>"
   ]
  },
  {
   "cell_type": "markdown",
   "metadata": {},
   "source": [
    "<img src='Ce_-7.jpg'>"
   ]
  },
  {
   "cell_type": "markdown",
   "metadata": {},
   "source": [
    "<img src='Ce_-1.jpg'>"
   ]
  }
 ],
 "metadata": {
  "kernelspec": {
   "display_name": "Python 2",
   "language": "python",
   "name": "python2"
  },
  "language_info": {
   "codemirror_mode": {
    "name": "ipython",
    "version": 2
   },
   "file_extension": ".py",
   "mimetype": "text/x-python",
   "name": "python",
   "nbconvert_exporter": "python",
   "pygments_lexer": "ipython2",
   "version": "2.7.11"
  }
 },
 "nbformat": 4,
 "nbformat_minor": 0
}
