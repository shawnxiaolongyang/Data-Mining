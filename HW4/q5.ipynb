{
 "cells": [
  {
   "cell_type": "markdown",
   "metadata": {},
   "source": [
    "## Q5 AdaBoost"
   ]
  },
  {
   "cell_type": "code",
   "execution_count": 1,
   "metadata": {
    "collapsed": true
   },
   "outputs": [],
   "source": [
    "Turples = [[0,-1],[1,-1],[2,-1],[3,1],[4,1],[5,1],[6,1],[7,1],[8,-1],[9,-1]]"
   ]
  },
  {
   "cell_type": "code",
   "execution_count": 24,
   "metadata": {
    "collapsed": false
   },
   "outputs": [],
   "source": [
    "def classfier_M(turple,v):\n",
    "    error = 0\n",
    "    if turple[0] < v:\n",
    "        if turple[1] != -1:\n",
    "            error = 1\n",
    "    elif turple[0] > v:\n",
    "        if turple[1] != 1:\n",
    "            error = 1 \n",
    "    return error"
   ]
  },
  {
   "cell_type": "markdown",
   "metadata": {},
   "source": [
    "### 5.a"
   ]
  },
  {
   "cell_type": "code",
   "execution_count": 28,
   "metadata": {
    "collapsed": false
   },
   "outputs": [
    {
     "name": "stdout",
     "output_type": "stream",
     "text": [
      "0.4\n",
      "0.3\n",
      "0.2\n",
      "0.2\n",
      "0.3\n",
      "0.4\n",
      "0.5\n",
      "0.6\n",
      "0.6\n"
     ]
    }
   ],
   "source": [
    "w = [float(1)/10]*10\n",
    "for v in range(9):\n",
    "    e = [0]*10\n",
    "    for i in range(10):\n",
    "        e[i] = float(w[i])*classfier_M(Turples[i],v)\n",
    "        \n",
    "    print sum(e)\n",
    "    "
   ]
  },
  {
   "cell_type": "markdown",
   "metadata": {},
   "source": [
    "** we can find the value is symmetric, and the optimation point is 2 and 3 **\n",
    "\n",
    "So the classfier should be :\n",
    "\n",
    "v = 2 or 3:\n",
    "if x < v, y = -1;\n",
    "if x > v, y = 1"
   ]
  },
  {
   "cell_type": "markdown",
   "metadata": {},
   "source": [
    "### 5.b"
   ]
  },
  {
   "cell_type": "markdown",
   "metadata": {},
   "source": [
    "#### The weighted error rate for all 10 data are:"
   ]
  },
  {
   "cell_type": "code",
   "execution_count": 30,
   "metadata": {
    "collapsed": false
   },
   "outputs": [
    {
     "name": "stdout",
     "output_type": "stream",
     "text": [
      "0.0\n",
      "0.0\n",
      "0.0\n",
      "0.0\n",
      "0.0\n",
      "0.0\n",
      "0.0\n",
      "0.0\n",
      "0.1\n",
      "0.1\n"
     ]
    }
   ],
   "source": [
    "v = 2\n",
    "e = [0]*10\n",
    "for i in range(10):\n",
    "    e[i] = float(w[i])*classfier_M(Turples[i],v)\n",
    "    print e[i]"
   ]
  },
  {
   "cell_type": "markdown",
   "metadata": {},
   "source": [
    "### 5.c"
   ]
  },
  {
   "cell_type": "code",
   "execution_count": 33,
   "metadata": {
    "collapsed": false
   },
   "outputs": [],
   "source": [
    "w2 = [0]*10\n",
    "for i in range(10):\n",
    "    w2[i] = float(w[i])*e[i]/(1-e[i])"
   ]
  },
  {
   "cell_type": "code",
   "execution_count": 36,
   "metadata": {
    "collapsed": false
   },
   "outputs": [],
   "source": [
    "w2_norm = [0]*10\n",
    "for i in range(10):\n",
    "    w2_norm[i] = float(w2[i])/sum(w2)"
   ]
  },
  {
   "cell_type": "code",
   "execution_count": 38,
   "metadata": {
    "collapsed": false
   },
   "outputs": [
    {
     "data": {
      "text/plain": [
       "[0.0, 0.0, 0.0, 0.0, 0.0, 0.0, 0.0, 0.0, 0.5, 0.5]"
      ]
     },
     "execution_count": 38,
     "metadata": {},
     "output_type": "execute_result"
    }
   ],
   "source": [
    "w2_norm"
   ]
  },
  {
   "cell_type": "markdown",
   "metadata": {},
   "source": [
    "### 5.d"
   ]
  },
  {
   "cell_type": "code",
   "execution_count": 40,
   "metadata": {
    "collapsed": false
   },
   "outputs": [
    {
     "name": "stdout",
     "output_type": "stream",
     "text": [
      "1.0\n",
      "1.0\n",
      "1.0\n",
      "1.0\n",
      "1.0\n",
      "1.0\n",
      "1.0\n",
      "1.0\n",
      "0.5\n",
      "0.0\n"
     ]
    }
   ],
   "source": [
    "for v in range(10):\n",
    "    e = [0]*10\n",
    "    for i in range(10):\n",
    "        e[i] = float(w2_norm[i])*classfier_M(Turples[i],v)\n",
    "        \n",
    "    print sum(e)"
   ]
  },
  {
   "cell_type": "markdown",
   "metadata": {},
   "source": [
    "** we can find the value is symmetric, and the optimation point is 10 **\n",
    "\n",
    "So the classfier should be :\n",
    "\n",
    "v = 10:\n",
    "if x < v, y = -1;\n",
    "if x > v, y = 1"
   ]
  },
  {
   "cell_type": "markdown",
   "metadata": {},
   "source": [
    "### 5.e"
   ]
  },
  {
   "cell_type": "markdown",
   "metadata": {},
   "source": [
    "The ensemble h should be:\n",
    "\n",
    "    v = 2 or 3:\n",
    "    if x < v, y = -1;\n",
    "    if x > v, y = 1;\n",
    "\n",
    "If the classifier answer is wrong, for the set of wrong data:\n",
    "    v = 10:\n",
    "    if x < v, y = -1;\n",
    "    if x > v, y = 1"
   ]
  }
 ],
 "metadata": {
  "kernelspec": {
   "display_name": "Python 2",
   "language": "python",
   "name": "python2"
  },
  "language_info": {
   "codemirror_mode": {
    "name": "ipython",
    "version": 2
   },
   "file_extension": ".py",
   "mimetype": "text/x-python",
   "name": "python",
   "nbconvert_exporter": "python",
   "pygments_lexer": "ipython2",
   "version": "2.7.11"
  }
 },
 "nbformat": 4,
 "nbformat_minor": 0
}
