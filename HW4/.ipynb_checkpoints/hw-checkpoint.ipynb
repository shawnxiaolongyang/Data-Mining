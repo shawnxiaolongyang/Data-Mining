{
 "cells": [
  {
   "cell_type": "markdown",
   "metadata": {},
   "source": [
    "# Expected information"
   ]
  },
  {
   "cell_type": "code",
   "execution_count": 73,
   "metadata": {
    "collapsed": true
   },
   "outputs": [],
   "source": [
    "import math"
   ]
  },
  {
   "cell_type": "code",
   "execution_count": 97,
   "metadata": {
    "collapsed": false
   },
   "outputs": [],
   "source": [
    "def exp_inf(p):\n",
    "    s = sum(p)\n",
    "    inf = 0\n",
    "    for i in p:\n",
    "        if i == 0:\n",
    "            inf += 0\n",
    "        else:\n",
    "            inf += (float(i)/s)*math.log(float(i)/s,2) \n",
    "    return abs(inf) "
   ]
  },
  {
   "cell_type": "code",
   "execution_count": 99,
   "metadata": {
    "collapsed": false
   },
   "outputs": [
    {
     "data": {
      "text/plain": [
       "0.9709505944546686"
      ]
     },
     "execution_count": 99,
     "metadata": {},
     "output_type": "execute_result"
    }
   ],
   "source": [
    "exp_inf([3,2])"
   ]
  },
  {
   "cell_type": "code",
   "execution_count": 76,
   "metadata": {
    "collapsed": false
   },
   "outputs": [],
   "source": [
    "a = [['Sunny','Hot','High','Weak','No'],\n",
    "['Sunny','Hot','High','Strong','No'],\n",
    "['Overcast','Hot','High','Weak','Yes'],\n",
    "['Rain','Mild','High','Weak','Yes'],\n",
    "['Rain','Cool','Normal','Weak','Yes'],\n",
    "['Rain','Cool','Normal','Strong','No'],\n",
    "['Overcast','Cool','Normal','Strong','Yes'],\n",
    "['Sunny','Mild','High','Weak','No'],\n",
    "['Sunny','Cool','Normal','Weak','Yes'],\n",
    "['Rain','Mild','Normal','Weak','Yes'],\n",
    "['Sunny','Mild','Normal','Strong','Yes'],\n",
    "['Overcast','Mild','High','Strong','Yes'],\n",
    "['Overcast','Hot','Normal','Weak','Yes'],\n",
    "['Rain','Mild','High','Strong','No']]"
   ]
  },
  {
   "cell_type": "code",
   "execution_count": 77,
   "metadata": {
    "collapsed": false
   },
   "outputs": [],
   "source": [
    "sunny = [0,0] \n",
    "overcast = [0,0] \n",
    "rain = [0,0]\n",
    "hot = [0,0] \n",
    "mild = [0,0] \n",
    "cool = [0,0]\n",
    "high = [0,0] \n",
    "normal = [0,0] \n",
    "strong = [0,0] \n",
    "weak = [0,0]\n",
    "\n",
    "length = len(a)"
   ]
  },
  {
   "cell_type": "code",
   "execution_count": 78,
   "metadata": {
    "collapsed": false
   },
   "outputs": [],
   "source": [
    "for i in range(len(a)):\n",
    "    if a[i][0] == 'Sunny':\n",
    "        if a[i][4] == 'Yes':\n",
    "            sunny[0] += 1\n",
    "        else:\n",
    "            sunny[1] += 1\n",
    "    elif a[i][0] == 'Overcast':\n",
    "        if a[i][4] == 'Yes':\n",
    "            overcast[0] += 1\n",
    "        else:\n",
    "            overcast[1] += 1\n",
    "    elif a[i][0] == 'Rain':\n",
    "        if a[i][4] == 'Yes':\n",
    "            rain[0] += 1\n",
    "        else:\n",
    "            rain[1] += 1\n",
    "            "
   ]
  },
  {
   "cell_type": "code",
   "execution_count": 79,
   "metadata": {
    "collapsed": true
   },
   "outputs": [],
   "source": [
    "for i in range(len(a)):\n",
    "    if a[i][1] == 'Hot':\n",
    "        if a[i][4] == 'Yes':\n",
    "            hot[0] += 1\n",
    "        else:\n",
    "            hot[1] += 1\n",
    "    elif a[i][1] == 'Mild':\n",
    "        if a[i][4] == 'Yes':\n",
    "            mild[0] += 1\n",
    "        else:\n",
    "            mild[1] += 1\n",
    "    elif a[i][1] == 'Cool':\n",
    "        if a[i][4] == 'Yes':\n",
    "            cool[0] += 1\n",
    "        else:\n",
    "            cool[1] += 1"
   ]
  },
  {
   "cell_type": "code",
   "execution_count": 80,
   "metadata": {
    "collapsed": true
   },
   "outputs": [],
   "source": [
    "for i in range(len(a)):\n",
    "    if a[i][2] == 'High':\n",
    "        if a[i][4] == 'Yes':\n",
    "            high[0] += 1\n",
    "        else:\n",
    "            high[1] += 1\n",
    "    elif a[i][2] == 'Normal':\n",
    "        if a[i][4] == 'Yes':\n",
    "            normal[0] += 1\n",
    "        else:\n",
    "            normal[1] += 1"
   ]
  },
  {
   "cell_type": "code",
   "execution_count": 81,
   "metadata": {
    "collapsed": true
   },
   "outputs": [],
   "source": [
    "for i in range(len(a)):\n",
    "    if a[i][3] == 'Strong':\n",
    "        if a[i][4] == 'Yes':\n",
    "            strong[0] += 1\n",
    "        else:\n",
    "            strong[1] += 1\n",
    "    elif a[i][3] == 'Weak':\n",
    "        if a[i][4] == 'Yes':\n",
    "            weak[0] += 1\n",
    "        else:\n",
    "            weak[1] += 1"
   ]
  },
  {
   "cell_type": "code",
   "execution_count": 82,
   "metadata": {
    "collapsed": false
   },
   "outputs": [],
   "source": [
    "Total_yes = strong[0] + weak[0]\n",
    "Total_no = strong[1] + weak[1]\n",
    "Total_inf = exp_inf([Total_yes,Total_no])"
   ]
  },
  {
   "cell_type": "code",
   "execution_count": 83,
   "metadata": {
    "collapsed": false
   },
   "outputs": [
    {
     "data": {
      "text/plain": [
       "0.9402859586706309"
      ]
     },
     "execution_count": 83,
     "metadata": {},
     "output_type": "execute_result"
    }
   ],
   "source": [
    "Total_inf"
   ]
  },
  {
   "cell_type": "code",
   "execution_count": 85,
   "metadata": {
    "collapsed": true
   },
   "outputs": [],
   "source": [
    "def one_inf(one):\n",
    "    return float(sum(one))/length*exp_inf(one) "
   ]
  },
  {
   "cell_type": "code",
   "execution_count": 103,
   "metadata": {
    "collapsed": false
   },
   "outputs": [],
   "source": [
    "Gain_weather = Total_inf - one_inf(sunny) - one_inf(overcast)- one_inf(rain)\n",
    "Gain_temp = Total_inf - one_inf(hot) - one_inf(mild)- one_inf(cool)\n",
    "Gain_hum = Total_inf - one_inf(high) - one_inf(normal)\n",
    "Gain_wind = Total_inf - one_inf(weak) - one_inf(strong)"
   ]
  },
  {
   "cell_type": "code",
   "execution_count": 104,
   "metadata": {
    "collapsed": false
   },
   "outputs": [
    {
     "data": {
      "text/plain": [
       "0.2467498197744391"
      ]
     },
     "execution_count": 104,
     "metadata": {},
     "output_type": "execute_result"
    }
   ],
   "source": [
    "Gain_weather"
   ]
  },
  {
   "cell_type": "code",
   "execution_count": 105,
   "metadata": {
    "collapsed": false
   },
   "outputs": [
    {
     "data": {
      "text/plain": [
       "0.029222565658954647"
      ]
     },
     "execution_count": 105,
     "metadata": {},
     "output_type": "execute_result"
    }
   ],
   "source": [
    "Gain_temp"
   ]
  },
  {
   "cell_type": "code",
   "execution_count": 106,
   "metadata": {
    "collapsed": false
   },
   "outputs": [
    {
     "data": {
      "text/plain": [
       "0.15183550136234136"
      ]
     },
     "execution_count": 106,
     "metadata": {},
     "output_type": "execute_result"
    }
   ],
   "source": [
    "Gain_hum"
   ]
  },
  {
   "cell_type": "code",
   "execution_count": 107,
   "metadata": {
    "collapsed": false
   },
   "outputs": [
    {
     "data": {
      "text/plain": [
       "0.04812703040826932"
      ]
     },
     "execution_count": 107,
     "metadata": {},
     "output_type": "execute_result"
    }
   ],
   "source": [
    "Gain_wind"
   ]
  },
  {
   "cell_type": "markdown",
   "metadata": {},
   "source": [
    "## Since Gain_weather is highest, it is the root"
   ]
  },
  {
   "cell_type": "code",
   "execution_count": 108,
   "metadata": {
    "collapsed": false
   },
   "outputs": [
    {
     "name": "stdout",
     "output_type": "stream",
     "text": [
      "0.970950594455 0.0 0.970950594455\n"
     ]
    }
   ],
   "source": [
    "print exp_inf(sunny),exp_inf(overcast),exp_inf(rain)"
   ]
  },
  {
   "cell_type": "code",
   "execution_count": null,
   "metadata": {
    "collapsed": true
   },
   "outputs": [],
   "source": [
    "## "
   ]
  },
  {
   "cell_type": "markdown",
   "metadata": {},
   "source": [
    "### Then we need to calculate the humidity and wind"
   ]
  },
  {
   "cell_type": "code",
   "execution_count": null,
   "metadata": {
    "collapsed": true
   },
   "outputs": [],
   "source": []
  }
 ],
 "metadata": {
  "kernelspec": {
   "display_name": "Python 2",
   "language": "python",
   "name": "python2"
  },
  "language_info": {
   "codemirror_mode": {
    "name": "ipython",
    "version": 2
   },
   "file_extension": ".py",
   "mimetype": "text/x-python",
   "name": "python",
   "nbconvert_exporter": "python",
   "pygments_lexer": "ipython2",
   "version": "2.7.11"
  }
 },
 "nbformat": 4,
 "nbformat_minor": 0
}
