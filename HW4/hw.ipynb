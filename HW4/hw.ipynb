{
 "cells": [
  {
   "cell_type": "markdown",
   "metadata": {},
   "source": [
    "# Q3 Decision Tree"
   ]
  },
  {
   "cell_type": "code",
   "execution_count": 6,
   "metadata": {
    "collapsed": true
   },
   "outputs": [],
   "source": [
    "import math"
   ]
  },
  {
   "cell_type": "code",
   "execution_count": 7,
   "metadata": {
    "collapsed": false
   },
   "outputs": [],
   "source": [
    "def exp_inf(p):\n",
    "    s = sum(p)\n",
    "    inf = 0\n",
    "    for i in p:\n",
    "        if i == 0:\n",
    "            inf += 0\n",
    "        else:\n",
    "            inf += (float(i)/s)*math.log(float(i)/s,2) \n",
    "    return abs(inf) "
   ]
  },
  {
   "cell_type": "code",
   "execution_count": 8,
   "metadata": {
    "collapsed": false
   },
   "outputs": [
    {
     "data": {
      "text/plain": [
       "0.9709505944546686"
      ]
     },
     "execution_count": 8,
     "metadata": {},
     "output_type": "execute_result"
    }
   ],
   "source": [
    "exp_inf([3,2])"
   ]
  },
  {
   "cell_type": "code",
   "execution_count": 9,
   "metadata": {
    "collapsed": false
   },
   "outputs": [],
   "source": [
    "a = [['Sunny','Hot','High','Weak','No'],\n",
    "['Sunny','Hot','High','Strong','No'],\n",
    "['Overcast','Hot','High','Weak','Yes'],\n",
    "['Rain','Mild','High','Weak','Yes'],\n",
    "['Rain','Cool','Normal','Weak','Yes'],\n",
    "['Rain','Cool','Normal','Strong','No'],\n",
    "['Overcast','Cool','Normal','Strong','Yes'],\n",
    "['Sunny','Mild','High','Weak','No'],\n",
    "['Sunny','Cool','Normal','Weak','Yes'],\n",
    "['Rain','Mild','Normal','Weak','Yes'],\n",
    "['Sunny','Mild','Normal','Strong','Yes'],\n",
    "['Overcast','Mild','High','Strong','Yes'],\n",
    "['Overcast','Hot','Normal','Weak','Yes'],\n",
    "['Rain','Mild','High','Strong','No']]"
   ]
  },
  {
   "cell_type": "code",
   "execution_count": 10,
   "metadata": {
    "collapsed": false
   },
   "outputs": [],
   "source": [
    "sunny = [0,0] \n",
    "overcast = [0,0] \n",
    "rain = [0,0] \n",
    "hot = [0,0] \n",
    "mild = [0,0] \n",
    "cool = [0,0] \n",
    "high = [0,0] \n",
    "normal = [0,0] \n",
    "strong = [0,0] \n",
    "weak = [0,0]\n",
    "length = len(a)"
   ]
  },
  {
   "cell_type": "code",
   "execution_count": 11,
   "metadata": {
    "collapsed": false
   },
   "outputs": [],
   "source": [
    "for i in range(len(a)):\n",
    "    if a[i][0] == 'Sunny':\n",
    "        if a[i][4] == 'Yes':\n",
    "            sunny[0] += 1\n",
    "        else:\n",
    "            sunny[1] += 1\n",
    "    elif a[i][0] == 'Overcast':\n",
    "        if a[i][4] == 'Yes':\n",
    "            overcast[0] += 1\n",
    "        else:\n",
    "            overcast[1] += 1\n",
    "    elif a[i][0] == 'Rain':\n",
    "        if a[i][4] == 'Yes':\n",
    "            rain[0] += 1\n",
    "        else:\n",
    "            rain[1] += 1\n",
    "            "
   ]
  },
  {
   "cell_type": "code",
   "execution_count": 12,
   "metadata": {
    "collapsed": true
   },
   "outputs": [],
   "source": [
    "for i in range(len(a)):\n",
    "    if a[i][1] == 'Hot':\n",
    "        if a[i][4] == 'Yes':\n",
    "            hot[0] += 1\n",
    "        else:\n",
    "            hot[1] += 1\n",
    "    elif a[i][1] == 'Mild':\n",
    "        if a[i][4] == 'Yes':\n",
    "            mild[0] += 1\n",
    "        else:\n",
    "            mild[1] += 1\n",
    "    elif a[i][1] == 'Cool':\n",
    "        if a[i][4] == 'Yes':\n",
    "            cool[0] += 1\n",
    "        else:\n",
    "            cool[1] += 1"
   ]
  },
  {
   "cell_type": "code",
   "execution_count": 13,
   "metadata": {
    "collapsed": true
   },
   "outputs": [],
   "source": [
    "for i in range(len(a)):\n",
    "    if a[i][2] == 'High':\n",
    "        if a[i][4] == 'Yes':\n",
    "            high[0] += 1\n",
    "        else:\n",
    "            high[1] += 1\n",
    "    elif a[i][2] == 'Normal':\n",
    "        if a[i][4] == 'Yes':\n",
    "            normal[0] += 1\n",
    "        else:\n",
    "            normal[1] += 1"
   ]
  },
  {
   "cell_type": "code",
   "execution_count": 14,
   "metadata": {
    "collapsed": true
   },
   "outputs": [],
   "source": [
    "for i in range(len(a)):\n",
    "    if a[i][3] == 'Strong':\n",
    "        if a[i][4] == 'Yes':\n",
    "            strong[0] += 1\n",
    "        else:\n",
    "            strong[1] += 1\n",
    "    elif a[i][3] == 'Weak':\n",
    "        if a[i][4] == 'Yes':\n",
    "            weak[0] += 1\n",
    "        else:\n",
    "            weak[1] += 1"
   ]
  },
  {
   "cell_type": "code",
   "execution_count": 15,
   "metadata": {
    "collapsed": false
   },
   "outputs": [],
   "source": [
    "Total_yes = strong[0] + weak[0]\n",
    "Total_no = strong[1] + weak[1]\n",
    "Total_inf = exp_inf([Total_yes,Total_no])"
   ]
  },
  {
   "cell_type": "code",
   "execution_count": 16,
   "metadata": {
    "collapsed": false
   },
   "outputs": [
    {
     "data": {
      "text/plain": [
       "0.9402859586706309"
      ]
     },
     "execution_count": 16,
     "metadata": {},
     "output_type": "execute_result"
    }
   ],
   "source": [
    "Total_inf"
   ]
  },
  {
   "cell_type": "code",
   "execution_count": 17,
   "metadata": {
    "collapsed": true
   },
   "outputs": [],
   "source": [
    "def one_inf(one):\n",
    "    return float(sum(one))/length*exp_inf(one) "
   ]
  },
  {
   "cell_type": "code",
   "execution_count": 18,
   "metadata": {
    "collapsed": false
   },
   "outputs": [],
   "source": [
    "Gain_weather = Total_inf - one_inf(sunny) - one_inf(overcast)- one_inf(rain)\n",
    "Gain_temp = Total_inf - one_inf(hot) - one_inf(mild)- one_inf(cool)\n",
    "Gain_hum = Total_inf - one_inf(high) - one_inf(normal)\n",
    "Gain_wind = Total_inf - one_inf(weak) - one_inf(strong)"
   ]
  },
  {
   "cell_type": "code",
   "execution_count": 19,
   "metadata": {
    "collapsed": false
   },
   "outputs": [
    {
     "data": {
      "text/plain": [
       "0.2467498197744391"
      ]
     },
     "execution_count": 19,
     "metadata": {},
     "output_type": "execute_result"
    }
   ],
   "source": [
    "Gain_weather"
   ]
  },
  {
   "cell_type": "code",
   "execution_count": 20,
   "metadata": {
    "collapsed": false
   },
   "outputs": [
    {
     "data": {
      "text/plain": [
       "0.029222565658954647"
      ]
     },
     "execution_count": 20,
     "metadata": {},
     "output_type": "execute_result"
    }
   ],
   "source": [
    "Gain_temp"
   ]
  },
  {
   "cell_type": "code",
   "execution_count": 21,
   "metadata": {
    "collapsed": false
   },
   "outputs": [
    {
     "data": {
      "text/plain": [
       "0.15183550136234136"
      ]
     },
     "execution_count": 21,
     "metadata": {},
     "output_type": "execute_result"
    }
   ],
   "source": [
    "Gain_hum"
   ]
  },
  {
   "cell_type": "code",
   "execution_count": 22,
   "metadata": {
    "collapsed": false
   },
   "outputs": [
    {
     "data": {
      "text/plain": [
       "0.04812703040826932"
      ]
     },
     "execution_count": 22,
     "metadata": {},
     "output_type": "execute_result"
    }
   ],
   "source": [
    "Gain_wind"
   ]
  },
  {
   "cell_type": "markdown",
   "metadata": {},
   "source": [
    "#### Since Gain_weather is highest, it is the root"
   ]
  },
  {
   "cell_type": "code",
   "execution_count": 23,
   "metadata": {
    "collapsed": false
   },
   "outputs": [
    {
     "name": "stdout",
     "output_type": "stream",
     "text": [
      "0.970950594455 0.0 0.970950594455\n"
     ]
    }
   ],
   "source": [
    "print exp_inf(sunny),exp_inf(overcast),exp_inf(rain)"
   ]
  },
  {
   "cell_type": "code",
   "execution_count": 24,
   "metadata": {
    "collapsed": false
   },
   "outputs": [
    {
     "data": {
      "text/plain": [
       "1.0"
      ]
     },
     "execution_count": 24,
     "metadata": {},
     "output_type": "execute_result"
    }
   ],
   "source": [
    "float(overcast[0])/sum(overcast)"
   ]
  },
  {
   "cell_type": "markdown",
   "metadata": {},
   "source": [
    "#### We can find overcast is 0, there is no need to extend"
   ]
  },
  {
   "cell_type": "code",
   "execution_count": 25,
   "metadata": {
    "collapsed": true
   },
   "outputs": [],
   "source": [
    "sunny_hot = [0,0]\n",
    "sunny_mild = [0,0]\n",
    "sunny_cool = [0,0]\n",
    "rain_hot = [0,0]\n",
    "rain_mild = [0,0]\n",
    "rain_cool = [0,0]\n",
    "sunny_high = [0,0]\n",
    "sunny_normal = [0,0]\n",
    "rain_high = [0,0]\n",
    "rain_normal = [0,0]\n",
    "sunny_strong = [0,0]\n",
    "sunny_weak = [0,0]\n",
    "rain_strong = [0,0]\n",
    "rain_weak = [0,0]\n"
   ]
  },
  {
   "cell_type": "code",
   "execution_count": 26,
   "metadata": {
    "collapsed": true
   },
   "outputs": [],
   "source": [
    "for i in range(len(a)):\n",
    "    if a[i][0] == 'Sunny':\n",
    "        if a[i][1] == 'Hot':\n",
    "            if a[i][4] == 'Yes':\n",
    "                sunny_hot[0] += 1\n",
    "            else:\n",
    "                sunny_hot[1] += 1\n",
    "        elif a[i][1] == 'Mild':\n",
    "            if a[i][4] == 'Yes':\n",
    "                sunny_mild[0] += 1\n",
    "            else:\n",
    "                sunny_mild[1] += 1\n",
    "        elif a[i][1] == 'Cool':\n",
    "            if a[i][4] == 'Yes':\n",
    "                sunny_cool[0] += 1\n",
    "            else:\n",
    "                sunny_cool[1] += 1\n",
    "    elif a[i][0] == 'Rain':\n",
    "        if a[i][1] == 'Hot':\n",
    "            if a[i][4] == 'Yes':\n",
    "                rain_hot[0] += 1\n",
    "            else:\n",
    "                rain_hot[1] += 1\n",
    "        elif a[i][1] == 'Mild':\n",
    "            if a[i][4] == 'Yes':\n",
    "                rain_mild[0] += 1\n",
    "            else:\n",
    "                rain_mild[1] += 1\n",
    "        elif a[i][1] == 'Cool':\n",
    "            if a[i][4] == 'Yes':\n",
    "                rain_cool[0] += 1\n",
    "            else:\n",
    "                rain_cool[1] += 1"
   ]
  },
  {
   "cell_type": "code",
   "execution_count": 27,
   "metadata": {
    "collapsed": true
   },
   "outputs": [],
   "source": [
    "for i in range(len(a)):\n",
    "    if a[i][0] == 'Sunny':\n",
    "        if a[i][2] == 'High':\n",
    "            if a[i][4] == 'Yes':\n",
    "                sunny_high[0] += 1\n",
    "            else:\n",
    "                sunny_high[1] += 1\n",
    "        elif a[i][2] == 'Normal':\n",
    "            if a[i][4] == 'Yes':\n",
    "                sunny_normal[0] += 1\n",
    "            else:\n",
    "                sunny_normal[1] += 1\n",
    "    elif a[i][0] == 'Rain':\n",
    "        if a[i][2] == 'High':\n",
    "            if a[i][4] == 'Yes':\n",
    "                rain_high[0] += 1\n",
    "            else:\n",
    "                rain_high[1] += 1\n",
    "        elif a[i][2] == 'Normal':\n",
    "            if a[i][4] == 'Yes':\n",
    "                rain_normal[0] += 1\n",
    "            else:\n",
    "                rain_normal[1] += 1"
   ]
  },
  {
   "cell_type": "code",
   "execution_count": 28,
   "metadata": {
    "collapsed": true
   },
   "outputs": [],
   "source": [
    "for i in range(len(a)):\n",
    "    if a[i][0] == 'Sunny':\n",
    "        if a[i][3] == 'Strong':\n",
    "            if a[i][4] == 'Yes':\n",
    "                sunny_strong[0] += 1\n",
    "            else:\n",
    "                sunny_strong[1] += 1\n",
    "        elif a[i][3] == 'Weak':\n",
    "            if a[i][4] == 'Yes':\n",
    "                sunny_weak[0] += 1\n",
    "            else:\n",
    "                sunny_weak[1] += 1\n",
    "        \n",
    "        \n",
    "    elif a[i][0] == 'Rain':\n",
    "        if a[i][3] == 'Strong':\n",
    "            if a[i][4] == 'Yes':\n",
    "                rain_strong[0] += 1\n",
    "            else:\n",
    "                rain_strong[1] += 1\n",
    "        elif a[i][3] == 'Weak':\n",
    "            if a[i][4] == 'Yes':\n",
    "                rain_weak[0] += 1\n",
    "            else:\n",
    "                rain_weak[1] += 1"
   ]
  },
  {
   "cell_type": "code",
   "execution_count": 29,
   "metadata": {
    "collapsed": true
   },
   "outputs": [],
   "source": [
    "Gain_sunny_temp =one_inf(sunny) - one_inf(sunny_hot) - one_inf(sunny_mild)- one_inf(sunny_cool)\n",
    "Gain_sunny_hum = one_inf(sunny)- one_inf(sunny_high) - one_inf(sunny_normal)\n",
    "Gain_sunny_wind = one_inf(sunny) - one_inf(sunny_weak) - one_inf(sunny_strong)\n",
    "Gain_rain_temp =one_inf(rain)- one_inf(rain_hot) - one_inf(rain_mild)- one_inf(rain_cool)\n",
    "Gain_rain_hum =one_inf(rain)- one_inf(rain_high) - one_inf(rain_normal)\n",
    "Gain_rain_wind =one_inf(rain) - one_inf(rain_weak) - one_inf(rain_strong)"
   ]
  },
  {
   "cell_type": "code",
   "execution_count": 30,
   "metadata": {
    "collapsed": false
   },
   "outputs": [
    {
     "name": "stdout",
     "output_type": "stream",
     "text": [
      "0.203910926591 0.346768069448 0.00713324786499\n"
     ]
    }
   ],
   "source": [
    "print Gain_sunny_temp,Gain_sunny_hum,Gain_sunny_wind"
   ]
  },
  {
   "cell_type": "code",
   "execution_count": 31,
   "metadata": {
    "collapsed": false
   },
   "outputs": [
    {
     "name": "stdout",
     "output_type": "stream",
     "text": [
      "0.00713324786499 0.00713324786499 0.346768069448\n"
     ]
    }
   ],
   "source": [
    "print Gain_rain_temp, Gain_rain_hum, Gain_rain_wind"
   ]
  },
  {
   "cell_type": "code",
   "execution_count": 32,
   "metadata": {
    "collapsed": false
   },
   "outputs": [
    {
     "data": {
      "text/plain": [
       "0.0"
      ]
     },
     "execution_count": 32,
     "metadata": {},
     "output_type": "execute_result"
    }
   ],
   "source": [
    "float(rain_strong[0])/sum(rain_strong)"
   ]
  },
  {
   "cell_type": "code",
   "execution_count": 33,
   "metadata": {
    "collapsed": false
   },
   "outputs": [
    {
     "data": {
      "text/plain": [
       "1.0"
      ]
     },
     "execution_count": 33,
     "metadata": {},
     "output_type": "execute_result"
    }
   ],
   "source": [
    "float(rain_weak[0])/sum(rain_weak)"
   ]
  },
  {
   "cell_type": "markdown",
   "metadata": {},
   "source": [
    "#### if we set a prune parameter that all value under 0.01 can be ignored"
   ]
  },
  {
   "cell_type": "markdown",
   "metadata": {},
   "source": [
    "#### we can find in sunny condition, humidity is higher than temp"
   ]
  },
  {
   "cell_type": "code",
   "execution_count": 34,
   "metadata": {
    "collapsed": true
   },
   "outputs": [],
   "source": [
    "sunny_high_hot =[0,0]\n",
    "sunny_high_mild =[0,0]\n",
    "sunny_high_cool =[0,0]\n",
    "sunny_normal_hot =[0,0]\n",
    "sunny_normal_mild =[0,0]\n",
    "sunny_normal_cool =[0,0]"
   ]
  },
  {
   "cell_type": "code",
   "execution_count": 35,
   "metadata": {
    "collapsed": false
   },
   "outputs": [],
   "source": [
    "for i in range(len(a)):\n",
    "    if a[i][0] == 'Sunny':\n",
    "        if a[i][2] == 'High':\n",
    "            if a[i][1] == 'Hot':\n",
    "                if a[i][4] == 'Yes':\n",
    "                    sunny_high_hot[0] += 1\n",
    "                else:\n",
    "                    sunny_high_hot[1] += 1\n",
    "            elif a[i][1] == 'Mild':\n",
    "                if a[i][4] == 'Yes':\n",
    "                    sunny_high_mild[0] += 1\n",
    "                else:\n",
    "                    sunny_high_mild[1] += 1\n",
    "            elif a[i][1] == 'Cool':\n",
    "                if a[i][4] == 'Yes':\n",
    "                    sunny_high_cool[0] += 1\n",
    "                else:\n",
    "                    sunny_high_cool[1] += 1\n",
    "        elif a[i][2] == 'Normal':\n",
    "            if a[i][1] == 'Hot':\n",
    "                if a[i][4] == 'Yes':\n",
    "                    sunny_normal_hot[0] += 1\n",
    "                else:\n",
    "                    sunny_normal_hot[1] += 1\n",
    "            elif a[i][1] == 'Mild':\n",
    "                if a[i][4] == 'Yes':\n",
    "                    sunny_normal_mild[0] += 1\n",
    "                else:\n",
    "                    sunny_normal_mild[1] += 1\n",
    "            elif a[i][1] == 'Cool':\n",
    "                if a[i][4] == 'Yes':\n",
    "                    sunny_normal_cool[0] += 1\n",
    "                else:\n",
    "                    sunny_normal_cool[1] += 1"
   ]
  },
  {
   "cell_type": "code",
   "execution_count": 36,
   "metadata": {
    "collapsed": true
   },
   "outputs": [],
   "source": [
    "Gain_sunny_high_temp = one_inf(sunny_high)-one_inf(sunny_high_hot) - one_inf(sunny_high_mild)- one_inf(sunny_high_cool)\n",
    "Gain_sunny_normal_temp = one_inf(sunny_normal)-one_inf(sunny_normal_hot) - one_inf(sunny_normal_mild)- one_inf(sunny_normal_cool)"
   ]
  },
  {
   "cell_type": "code",
   "execution_count": 37,
   "metadata": {
    "collapsed": false
   },
   "outputs": [
    {
     "name": "stdout",
     "output_type": "stream",
     "text": [
      "0.0 0.0\n"
     ]
    }
   ],
   "source": [
    "print Gain_sunny_high_temp,Gain_sunny_normal_temp"
   ]
  },
  {
   "cell_type": "markdown",
   "metadata": {},
   "source": [
    "#### we need to exclude all 0, so there is no need to extend from wind to temperature"
   ]
  },
  {
   "cell_type": "code",
   "execution_count": 38,
   "metadata": {
    "collapsed": false,
    "scrolled": true
   },
   "outputs": [
    {
     "data": {
      "text/plain": [
       "1.0"
      ]
     },
     "execution_count": 38,
     "metadata": {},
     "output_type": "execute_result"
    }
   ],
   "source": [
    "float(sunny_normal[0])/sum(sunny_normal)"
   ]
  },
  {
   "cell_type": "code",
   "execution_count": 39,
   "metadata": {
    "collapsed": false
   },
   "outputs": [
    {
     "data": {
      "text/plain": [
       "0.0"
      ]
     },
     "execution_count": 39,
     "metadata": {},
     "output_type": "execute_result"
    }
   ],
   "source": [
    "float(sunny_high[0])/sum(sunny_high)"
   ]
  },
  {
   "cell_type": "markdown",
   "metadata": {},
   "source": [
    "## 3.a \n",
    "**the decesion tree should be:**"
   ]
  },
  {
   "cell_type": "markdown",
   "metadata": {},
   "source": [
    "    Outlook-sunny    -- Humidity ---high   ----No\n",
    "                                 ---Normal ----Yes\n",
    "           -overcast -- Yes\n",
    "           -rain     -- Wind     ---strong ---- No\n",
    "                                 ---weak   ---- Yes "
   ]
  },
  {
   "cell_type": "markdown",
   "metadata": {},
   "source": [
    "## 3.b"
   ]
  },
  {
   "cell_type": "markdown",
   "metadata": {},
   "source": [
    "for the 1st one, it predict to be Yes but actually No;\n",
    "\n",
    "for the 2nd one, it predict to be Yes and actually Yes;\n",
    "\n",
    "for the 3rd one, it predict to be No and actually No;\n",
    "\n",
    "for the 4th one, it predict to be Yes and actually Yes."
   ]
  },
  {
   "cell_type": "code",
   "execution_count": null,
   "metadata": {
    "collapsed": true
   },
   "outputs": [],
   "source": [
    "\n",
    "\n",
    "\n",
    "\n",
    "\n",
    "\n",
    "\n",
    "\n",
    "\n",
    "\n",
    "\n",
    "\n",
    "\n",
    "\n",
    "\n",
    "\n",
    "\n",
    "\n",
    "\n",
    "\n",
    "\n",
    "\n",
    "\n"
   ]
  },
  {
   "cell_type": "markdown",
   "metadata": {},
   "source": [
    "## 3.c"
   ]
  },
  {
   "cell_type": "code",
   "execution_count": 40,
   "metadata": {
    "collapsed": true
   },
   "outputs": [],
   "source": [
    "def splitinf(D):\n",
    "    inf = 0\n",
    "    for i in D:\n",
    "        inf += float(i)/sum(D)*math.log(float(i)/sum(D),2) \n",
    "    return abs(inf)"
   ]
  },
  {
   "cell_type": "code",
   "execution_count": 41,
   "metadata": {
    "collapsed": false
   },
   "outputs": [],
   "source": [
    "gainratio_weather = float(Gain_weather)/splitinf([sum(sunny),sum(overcast),sum(rain)])\n",
    "gainratio_temp = float(Gain_temp)/splitinf([sum(hot),sum(mild),sum(cool)])\n",
    "gainratio_hum = float(Gain_hum)/splitinf([sum(high),sum(normal)])\n",
    "gainratio_wind = float(Gain_wind)/splitinf([sum(weak),sum(strong)])"
   ]
  },
  {
   "cell_type": "code",
   "execution_count": 42,
   "metadata": {
    "collapsed": false
   },
   "outputs": [
    {
     "name": "stdout",
     "output_type": "stream",
     "text": [
      "0.156427562421 0.0187726462224 0.151835501362 0.0488486155115\n"
     ]
    }
   ],
   "source": [
    "print gainratio_weather,gainratio_temp, gainratio_hum,gainratio_wind"
   ]
  },
  {
   "cell_type": "markdown",
   "metadata": {},
   "source": [
    "#### we can find the weather (Outlook) is still the first split when using gain ratio"
   ]
  },
  {
   "cell_type": "code",
   "execution_count": null,
   "metadata": {
    "collapsed": true
   },
   "outputs": [],
   "source": [
    "\n",
    "\n"
   ]
  },
  {
   "cell_type": "markdown",
   "metadata": {},
   "source": [
    "## 4"
   ]
  },
  {
   "cell_type": "code",
   "execution_count": 61,
   "metadata": {
    "collapsed": false
   },
   "outputs": [
    {
     "name": "stdout",
     "output_type": "stream",
     "text": [
      "4 0\n"
     ]
    }
   ],
   "source": [
    "print overcast[0], overcast[1]"
   ]
  },
  {
   "cell_type": "code",
   "execution_count": 62,
   "metadata": {
    "collapsed": false
   },
   "outputs": [
    {
     "name": "stdout",
     "output_type": "stream",
     "text": [
      "3 2\n"
     ]
    }
   ],
   "source": [
    "print rain[0], rain[1]"
   ]
  },
  {
   "cell_type": "code",
   "execution_count": 64,
   "metadata": {
    "collapsed": false
   },
   "outputs": [
    {
     "name": "stdout",
     "output_type": "stream",
     "text": [
      "2 3\n"
     ]
    }
   ],
   "source": [
    "print sunny[0], sunny[1]"
   ]
  },
  {
   "cell_type": "code",
   "execution_count": 53,
   "metadata": {
    "collapsed": false
   },
   "outputs": [],
   "source": [
    "def p(d):\n",
    "    print d[0], float(d[0])/9"
   ]
  },
  {
   "cell_type": "code",
   "execution_count": 65,
   "metadata": {
    "collapsed": true
   },
   "outputs": [],
   "source": [
    "def q(d):\n",
    "    print d[1], float(d[1])/5"
   ]
  },
  {
   "cell_type": "code",
   "execution_count": 54,
   "metadata": {
    "collapsed": false
   },
   "outputs": [
    {
     "name": "stdout",
     "output_type": "stream",
     "text": [
      "2 0.222222222222\n"
     ]
    }
   ],
   "source": [
    "p(hot)"
   ]
  },
  {
   "cell_type": "code",
   "execution_count": 66,
   "metadata": {
    "collapsed": false
   },
   "outputs": [
    {
     "name": "stdout",
     "output_type": "stream",
     "text": [
      "2 0.4\n"
     ]
    }
   ],
   "source": [
    "q(hot)"
   ]
  },
  {
   "cell_type": "code",
   "execution_count": 55,
   "metadata": {
    "collapsed": false
   },
   "outputs": [
    {
     "name": "stdout",
     "output_type": "stream",
     "text": [
      "4 0.444444444444\n"
     ]
    }
   ],
   "source": [
    "p(mild)"
   ]
  },
  {
   "cell_type": "code",
   "execution_count": 67,
   "metadata": {
    "collapsed": false
   },
   "outputs": [
    {
     "name": "stdout",
     "output_type": "stream",
     "text": [
      "2 0.4\n"
     ]
    }
   ],
   "source": [
    "q(mild)"
   ]
  },
  {
   "cell_type": "code",
   "execution_count": 56,
   "metadata": {
    "collapsed": false
   },
   "outputs": [
    {
     "name": "stdout",
     "output_type": "stream",
     "text": [
      "3 0.333333333333\n"
     ]
    }
   ],
   "source": [
    "p(cool)"
   ]
  },
  {
   "cell_type": "code",
   "execution_count": 68,
   "metadata": {
    "collapsed": false
   },
   "outputs": [
    {
     "name": "stdout",
     "output_type": "stream",
     "text": [
      "1 0.2\n"
     ]
    }
   ],
   "source": [
    "q(cool)"
   ]
  },
  {
   "cell_type": "code",
   "execution_count": 57,
   "metadata": {
    "collapsed": false
   },
   "outputs": [
    {
     "name": "stdout",
     "output_type": "stream",
     "text": [
      "3 0.333333333333\n"
     ]
    }
   ],
   "source": [
    "p(high)"
   ]
  },
  {
   "cell_type": "code",
   "execution_count": 69,
   "metadata": {
    "collapsed": false
   },
   "outputs": [
    {
     "name": "stdout",
     "output_type": "stream",
     "text": [
      "4 0.8\n"
     ]
    }
   ],
   "source": [
    "q(high)"
   ]
  },
  {
   "cell_type": "code",
   "execution_count": 58,
   "metadata": {
    "collapsed": false
   },
   "outputs": [
    {
     "name": "stdout",
     "output_type": "stream",
     "text": [
      "6 0.666666666667\n"
     ]
    }
   ],
   "source": [
    "p(normal)"
   ]
  },
  {
   "cell_type": "code",
   "execution_count": 72,
   "metadata": {
    "collapsed": false
   },
   "outputs": [
    {
     "name": "stdout",
     "output_type": "stream",
     "text": [
      "1 0.2\n"
     ]
    }
   ],
   "source": [
    "q(normal)"
   ]
  },
  {
   "cell_type": "code",
   "execution_count": 59,
   "metadata": {
    "collapsed": false
   },
   "outputs": [
    {
     "name": "stdout",
     "output_type": "stream",
     "text": [
      "3 0.333333333333\n"
     ]
    }
   ],
   "source": [
    "p(strong)"
   ]
  },
  {
   "cell_type": "code",
   "execution_count": 73,
   "metadata": {
    "collapsed": false
   },
   "outputs": [
    {
     "name": "stdout",
     "output_type": "stream",
     "text": [
      "3 0.6\n"
     ]
    }
   ],
   "source": [
    "q(strong)"
   ]
  },
  {
   "cell_type": "code",
   "execution_count": 74,
   "metadata": {
    "collapsed": false
   },
   "outputs": [
    {
     "name": "stdout",
     "output_type": "stream",
     "text": [
      "6 0.666666666667\n"
     ]
    }
   ],
   "source": [
    "p(weak)"
   ]
  },
  {
   "cell_type": "code",
   "execution_count": 75,
   "metadata": {
    "collapsed": false
   },
   "outputs": [
    {
     "name": "stdout",
     "output_type": "stream",
     "text": [
      "2 0.4\n"
     ]
    }
   ],
   "source": [
    "q(weak)"
   ]
  },
  {
   "cell_type": "code",
   "execution_count": 76,
   "metadata": {
    "collapsed": false
   },
   "outputs": [
    {
     "data": {
      "text/plain": [
       "0.01054152"
      ]
     },
     "execution_count": 76,
     "metadata": {},
     "output_type": "execute_result"
    }
   ],
   "source": [
    "0.44*0.22*0.33*0.33"
   ]
  },
  {
   "cell_type": "code",
   "execution_count": 77,
   "metadata": {
    "collapsed": false
   },
   "outputs": [
    {
     "data": {
      "text/plain": [
       "0.02172676"
      ]
     },
     "execution_count": 77,
     "metadata": {},
     "output_type": "execute_result"
    }
   ],
   "source": [
    "0.22*0.22*0.67*0.67"
   ]
  },
  {
   "cell_type": "code",
   "execution_count": 78,
   "metadata": {
    "collapsed": false
   },
   "outputs": [
    {
     "data": {
      "text/plain": [
       "0.019200000000000002"
      ]
     },
     "execution_count": 78,
     "metadata": {},
     "output_type": "execute_result"
    }
   ],
   "source": [
    "0.6*0.4*0.2*0.4"
   ]
  },
  {
   "cell_type": "code",
   "execution_count": 80,
   "metadata": {
    "collapsed": false
   },
   "outputs": [
    {
     "data": {
      "text/plain": [
       "0.03210372"
      ]
     },
     "execution_count": 80,
     "metadata": {},
     "output_type": "execute_result"
    }
   ],
   "source": [
    "0.33*0.44*0.67*0.33"
   ]
  },
  {
   "cell_type": "code",
   "execution_count": 81,
   "metadata": {
    "collapsed": false
   },
   "outputs": [
    {
     "data": {
      "text/plain": [
       "0.019200000000000005"
      ]
     },
     "execution_count": 81,
     "metadata": {},
     "output_type": "execute_result"
    }
   ],
   "source": [
    "0.4*0.4*0.2*0.6"
   ]
  },
  {
   "cell_type": "code",
   "execution_count": 82,
   "metadata": {
    "collapsed": false
   },
   "outputs": [
    {
     "data": {
      "text/plain": [
       "0.02048"
      ]
     },
     "execution_count": 82,
     "metadata": {},
     "output_type": "execute_result"
    }
   ],
   "source": [
    "0.032*0.64"
   ]
  },
  {
   "cell_type": "code",
   "execution_count": 83,
   "metadata": {
    "collapsed": false
   },
   "outputs": [
    {
     "data": {
      "text/plain": [
       "0.00684"
      ]
     },
     "execution_count": 83,
     "metadata": {},
     "output_type": "execute_result"
    }
   ],
   "source": [
    "0.019*0.36"
   ]
  },
  {
   "cell_type": "code",
   "execution_count": 84,
   "metadata": {
    "collapsed": false
   },
   "outputs": [
    {
     "data": {
      "text/plain": [
       "0.01581228"
      ]
     },
     "execution_count": 84,
     "metadata": {},
     "output_type": "execute_result"
    }
   ],
   "source": [
    "0.44*0.33*0.33*0.33"
   ]
  },
  {
   "cell_type": "code",
   "execution_count": 85,
   "metadata": {
    "collapsed": false
   },
   "outputs": [
    {
     "data": {
      "text/plain": [
       "0.0096"
      ]
     },
     "execution_count": 85,
     "metadata": {},
     "output_type": "execute_result"
    }
   ],
   "source": [
    "0.015*0.64"
   ]
  },
  {
   "cell_type": "code",
   "execution_count": null,
   "metadata": {
    "collapsed": true
   },
   "outputs": [],
   "source": []
  }
 ],
 "metadata": {
  "kernelspec": {
   "display_name": "Python 2",
   "language": "python",
   "name": "python2"
  },
  "language_info": {
   "codemirror_mode": {
    "name": "ipython",
    "version": 2
   },
   "file_extension": ".py",
   "mimetype": "text/x-python",
   "name": "python",
   "nbconvert_exporter": "python",
   "pygments_lexer": "ipython2",
   "version": "2.7.11"
  }
 },
 "nbformat": 4,
 "nbformat_minor": 0
}
