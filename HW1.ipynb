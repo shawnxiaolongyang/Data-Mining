{
 "cells": [
  {
   "cell_type": "markdown",
   "metadata": {},
   "source": [
    "## Problem1"
   ]
  },
  {
   "cell_type": "code",
   "execution_count": 76,
   "metadata": {
    "collapsed": true
   },
   "outputs": [],
   "source": [
    "data1 = [0,1,2,4,5,5,7,10,10,12,13,17,39]"
   ]
  },
  {
   "cell_type": "markdown",
   "metadata": {},
   "source": [
    "### 1.a"
   ]
  },
  {
   "cell_type": "code",
   "execution_count": 77,
   "metadata": {
    "collapsed": true
   },
   "outputs": [],
   "source": [
    "def mean(data):\n",
    "    mean1 = sum(data)/len(data)\n",
    "    return round(mean1,3)"
   ]
  },
  {
   "cell_type": "code",
   "execution_count": 78,
   "metadata": {
    "collapsed": false
   },
   "outputs": [
    {
     "data": {
      "text/plain": [
       "9.0"
      ]
     },
     "execution_count": 78,
     "metadata": {},
     "output_type": "execute_result"
    }
   ],
   "source": [
    "mean(data1)"
   ]
  },
  {
   "cell_type": "markdown",
   "metadata": {},
   "source": [
    "The mean is 9.0"
   ]
  },
  {
   "cell_type": "code",
   "execution_count": 79,
   "metadata": {
    "collapsed": false
   },
   "outputs": [],
   "source": [
    "def variance(data):\n",
    "    variance1 = 0\n",
    "    for i in data:\n",
    "        variance1 = variance1 + (i-mean(data))**2\n",
    "    variance1 = variance1/len(data)\n",
    "    return round(variance1,3)"
   ]
  },
  {
   "cell_type": "code",
   "execution_count": 80,
   "metadata": {
    "collapsed": false
   },
   "outputs": [],
   "source": [
    "variance1 = variance(data1)"
   ]
  },
  {
   "cell_type": "code",
   "execution_count": 81,
   "metadata": {
    "collapsed": false
   },
   "outputs": [],
   "source": [
    "std_dev1 = variance1**0.5"
   ]
  },
  {
   "cell_type": "code",
   "execution_count": 82,
   "metadata": {
    "collapsed": false,
    "scrolled": true
   },
   "outputs": [
    {
     "data": {
      "text/plain": [
       "'9.790'"
      ]
     },
     "execution_count": 82,
     "metadata": {},
     "output_type": "execute_result"
    }
   ],
   "source": [
    "\"%.3f\" % std_dev1"
   ]
  },
  {
   "cell_type": "markdown",
   "metadata": {},
   "source": [
    "The standard deviation is 9.79"
   ]
  },
  {
   "cell_type": "markdown",
   "metadata": {},
   "source": [
    "------------------------------"
   ]
  },
  {
   "cell_type": "markdown",
   "metadata": {},
   "source": [
    "### 1.b"
   ]
  },
  {
   "cell_type": "code",
   "execution_count": 83,
   "metadata": {
    "collapsed": false
   },
   "outputs": [],
   "source": [
    "data1b = sorted(data1)"
   ]
  },
  {
   "cell_type": "code",
   "execution_count": 84,
   "metadata": {
    "collapsed": false
   },
   "outputs": [
    {
     "data": {
      "text/plain": [
       "[0, 1, 2, 4, 5, 5, 7, 10, 10, 12, 13, 17, 39]"
      ]
     },
     "execution_count": 84,
     "metadata": {},
     "output_type": "execute_result"
    }
   ],
   "source": [
    "data1b"
   ]
  },
  {
   "cell_type": "markdown",
   "metadata": {},
   "source": [
    "#### the 1st quatile"
   ]
  },
  {
   "cell_type": "code",
   "execution_count": 85,
   "metadata": {
    "collapsed": false
   },
   "outputs": [],
   "source": [
    "def first_quartile(data):\n",
    "    if (len(data) + 1) % 4 == 0:\n",
    "        return data[(len(data) + 1) / 4 - 1]\n",
    "    else:\n",
    "        yushu = (len(data) + 1) % 4\n",
    "        weishu = (len(data) + 1) / 4\n",
    "        return (data[weishu-1]*(1-float(yushu)/4) + data[weishu]*(float(yushu)/4))"
   ]
  },
  {
   "cell_type": "code",
   "execution_count": 86,
   "metadata": {
    "collapsed": false
   },
   "outputs": [
    {
     "data": {
      "text/plain": [
       "'3.000'"
      ]
     },
     "execution_count": 86,
     "metadata": {},
     "output_type": "execute_result"
    }
   ],
   "source": [
    "\"%.3f\" % first_quartile(data1b) "
   ]
  },
  {
   "cell_type": "markdown",
   "metadata": {},
   "source": [
    "The first quatile is 3.0"
   ]
  },
  {
   "cell_type": "markdown",
   "metadata": {},
   "source": [
    "#### the 3rd quatile"
   ]
  },
  {
   "cell_type": "code",
   "execution_count": 87,
   "metadata": {
    "collapsed": true
   },
   "outputs": [],
   "source": [
    "def third_quartile(data):\n",
    "    if (len(data) + 1)*3 % 4 == 0:\n",
    "        return data[(len(data) + 1)*3 / 4 - 1]\n",
    "    else:\n",
    "        yushu = (len(data) + 1)*3 % 4\n",
    "        weishu = (len(data) + 1)*3 / 4\n",
    "        return (data[weishu-1]*(1-float(yushu)/4) + data[weishu]*(float(yushu)/4))"
   ]
  },
  {
   "cell_type": "code",
   "execution_count": 88,
   "metadata": {
    "collapsed": false
   },
   "outputs": [
    {
     "data": {
      "text/plain": [
       "'12.500'"
      ]
     },
     "execution_count": 88,
     "metadata": {},
     "output_type": "execute_result"
    }
   ],
   "source": [
    "\"%.3f\" % third_quartile(data1b)"
   ]
  },
  {
   "cell_type": "markdown",
   "metadata": {},
   "source": [
    "The third quatile is 12.5"
   ]
  },
  {
   "cell_type": "code",
   "execution_count": 89,
   "metadata": {
    "collapsed": false
   },
   "outputs": [],
   "source": [
    "interquartile = third_quartile(data1b) - first_quartile(data1b)"
   ]
  },
  {
   "cell_type": "code",
   "execution_count": 90,
   "metadata": {
    "collapsed": false
   },
   "outputs": [
    {
     "data": {
      "text/plain": [
       "'9.500'"
      ]
     },
     "execution_count": 90,
     "metadata": {},
     "output_type": "execute_result"
    }
   ],
   "source": [
    "\"%.3f\" % interquartile"
   ]
  },
  {
   "cell_type": "markdown",
   "metadata": {},
   "source": [
    "The interquartile is 9.5"
   ]
  },
  {
   "cell_type": "markdown",
   "metadata": {},
   "source": [
    "------------------------------"
   ]
  },
  {
   "cell_type": "markdown",
   "metadata": {},
   "source": [
    "### 1.c"
   ]
  },
  {
   "cell_type": "code",
   "execution_count": 91,
   "metadata": {
    "collapsed": true
   },
   "outputs": [],
   "source": [
    "def mode(data):\n",
    "    a = []\n",
    "    a1 = []\n",
    "    for i in data:\n",
    "        if i not in a:\n",
    "            a.append(i)\n",
    "    b = [0]*len(a)\n",
    "    for i in range(len(a)):\n",
    "        for ii in data:\n",
    "            if a[i] == ii:\n",
    "                b[i] += 1\n",
    "    for i in range(len(b)):\n",
    "        if b[i] == max(b):\n",
    "            a1.append(a[i])\n",
    "    return a1"
   ]
  },
  {
   "cell_type": "code",
   "execution_count": 92,
   "metadata": {
    "collapsed": false
   },
   "outputs": [
    {
     "data": {
      "text/plain": [
       "[5, 10]"
      ]
     },
     "execution_count": 92,
     "metadata": {},
     "output_type": "execute_result"
    }
   ],
   "source": [
    "mode(data1)"
   ]
  },
  {
   "cell_type": "markdown",
   "metadata": {},
   "source": [
    "The mode is 5 and 10"
   ]
  },
  {
   "cell_type": "markdown",
   "metadata": {},
   "source": [
    "------------------------------"
   ]
  },
  {
   "cell_type": "markdown",
   "metadata": {},
   "source": [
    "### 1.d"
   ]
  },
  {
   "cell_type": "code",
   "execution_count": 93,
   "metadata": {
    "collapsed": true
   },
   "outputs": [],
   "source": [
    "f = open(\"./data.freeway.txt\", \"r\")"
   ]
  },
  {
   "cell_type": "code",
   "execution_count": 94,
   "metadata": {
    "collapsed": true
   },
   "outputs": [],
   "source": [
    "all_text = f.read()"
   ]
  },
  {
   "cell_type": "code",
   "execution_count": 95,
   "metadata": {
    "collapsed": false
   },
   "outputs": [
    {
     "data": {
      "text/plain": [
       "'Timestamp\\tSpeed (mph)\\tOccupancy (%)\\n05/23/2016 00:00\\t62.3\\t6.7\\n05/23/2016 00:05\\t62.7\\t5\\n05/23/2016 00:10\\t62.5\\t5.4\\n05/23/2016 00:15\\t63.5\\t4.5\\n05/23/2016 00:20\\t64.3\\t4.8\\n05/23/2016 00:25\\t63.9\\t4.2\\n05/23/2016 00:30\\t64.1\\t4.2\\n05/23/2016 00:35\\t63\\t3.8\\n05/23/2016 00:40\\t63.1\\t3.4\\n05/23/2016 00:45\\t63.7\\t3.3\\n05/23/2016 00:50\\t63.5\\t3.3\\n05/23/2016 00:55\\t63.4\\t3\\n05/23/2016 01:00\\t62.8\\t3.6\\n05/23/2016 01:05\\t63\\t3.1\\n05/23/2016 01:10\\t62.8\\t3.7\\n05/23/2016 01:15\\t63.6\\t3\\n05/23/2016 01:20\\t61.9\\t3.6\\n05/23/2016 01:25\\t62.5\\t2.9\\n05/23/2016 01:30\\t62.7\\t3.1\\n05/23/2016 01:35\\t63.3\\t3\\n05/23/2016 01:40\\t61.3\\t3.6\\n05/23/2016 01:45\\t62.9\\t2.6\\n05/23/2016 01:50\\t62.8\\t2.9\\n05/23/2016 01:55\\t61.4\\t3\\n05/23/2016 02:00\\t60.3\\t3.6\\n05/23/2016 02:05\\t63.3\\t2.8\\n05/23/2016 02:10\\t63.3\\t3\\n05/23/2016 02:15\\t63.8\\t2.6\\n05/23/2016 02:20\\t62.9\\t3.3\\n05/23/2016 02:25\\t63\\t2.6\\n05/23/2016 02:30\\t63\\t2.7\\n05/23/2016 02:35\\t63.6\\t2.7\\n05/23/2016 02:40\\t63.9\\t3\\n05/23/2016 02:45\\t63.2\\t2.8\\n05/23/2016 02:50\\t63\\t2.7\\n05/23/2016 02:55\\t63.2\\t2.6\\n05/23/2016 03:00\\t63.1\\t3.2\\n05/23/2016 03:05\\t63.3\\t2.6\\n05/23/2016 03:10\\t63.4\\t2.6\\n05/23/2016 03:15\\t63.1\\t2.6\\n05/23/2016 03:20\\t62.9\\t3.3\\n05/23/2016 03:25\\t63.1\\t2.7\\n05/23/2016 03:30\\t63.1\\t3.3\\n05/23/2016 03:35\\t63.4\\t3.3\\n05/23/2016 03:40\\t63.3\\t3.4\\n05/23/2016 03:45\\t63.4\\t3.8\\n05/23/2016 03:50\\t65\\t3.4\\n05/23/2016 03:55\\t63.1\\t4\\n05/23/2016 04:00\\t63.5\\t3.1\\n05/23/2016 04:05\\t64.2\\t3.9\\n05/23/2016 04:10\\t63.9\\t4\\n05/23/2016 04:15\\t63.8\\t4.1\\n05/23/2016 04:20\\t63.5\\t4.8\\n05/23/2016 04:25\\t64.5\\t6.1\\n05/23/2016 04:30\\t64.2\\t5.6\\n05/23/2016 04:35\\t64.3\\t6\\n05/23/2016 04:40\\t62.8\\t7\\n05/23/2016 04:45\\t63.9\\t8\\n05/23/2016 04:50\\t65.3\\t7.5\\n05/23/2016 04:55\\t64.7\\t7.5\\n05/23/2016 05:00\\t70.7\\t8.8\\n05/23/2016 05:05\\t70.7\\t8.4\\n05/23/2016 05:10\\t70.5\\t11.2\\n05/23/2016 05:15\\t70.8\\t11.2\\n05/23/2016 05:20\\t67.8\\t13.3\\n05/23/2016 05:25\\t62.6\\t16.4\\n05/23/2016 05:30\\t60.6\\t16.1\\n05/23/2016 05:35\\t60.1\\t16.7\\n05/23/2016 05:40\\t57.9\\t17.8\\n05/23/2016 05:45\\t57.7\\t17.4\\n05/23/2016 05:50\\t56.7\\t16.7\\n05/23/2016 05:55\\t56.7\\t17.9\\n05/23/2016 06:00\\t51.5\\t16.8\\n05/23/2016 06:05\\t48.3\\t18.2\\n05/23/2016 06:10\\t47\\t18.5\\n05/23/2016 06:15\\t44.8\\t18.1\\n05/23/2016 06:20\\t44.6\\t19.3\\n05/23/2016 06:25\\t45.3\\t18\\n05/23/2016 06:30\\t42\\t21.1\\n05/23/2016 06:35\\t41.5\\t22.8\\n05/23/2016 06:40\\t39.9\\t22.3\\n05/23/2016 06:45\\t36.7\\t26.1\\n05/23/2016 06:50\\t35.7\\t23.8\\n05/23/2016 06:55\\t37.3\\t23.4\\n05/23/2016 07:00\\t39\\t23.5\\n05/23/2016 07:05\\t39.4\\t24.1\\n05/23/2016 07:10\\t37.1\\t25.4\\n05/23/2016 07:15\\t38\\t23.6\\n05/23/2016 07:20\\t35.7\\t25.2\\n05/23/2016 07:25\\t30.2\\t32.7\\n05/23/2016 07:30\\t25.4\\t40.6\\n05/23/2016 07:35\\t23.9\\t38.1\\n05/23/2016 07:40\\t22.7\\t40.7\\n05/23/2016 07:45\\t22.4\\t39.4\\n05/23/2016 07:50\\t22.4\\t40.3\\n05/23/2016 07:55\\t22.7\\t34.7\\n05/23/2016 08:00\\t21.6\\t42.7\\n05/23/2016 08:05\\t26.7\\t25.2\\n05/23/2016 08:10\\t36.8\\t20.9\\n05/23/2016 08:15\\t40.6\\t17.8\\n05/23/2016 08:20\\t38.5\\t24.4\\n05/23/2016 08:25\\t38.9\\t24.4\\n05/23/2016 08:30\\t36.4\\t23.9\\n05/23/2016 08:35\\t35.7\\t26.4\\n05/23/2016 08:40\\t35.1\\t28.9\\n05/23/2016 08:45\\t32.4\\t29.1\\n05/23/2016 08:50\\t34.7\\t28.5\\n05/23/2016 08:55\\t31.6\\t29.1\\n05/23/2016 09:00\\t33.7\\t21.4\\n05/23/2016 09:05\\t35\\t29.5\\n05/23/2016 09:10\\t33.7\\t28.4\\n05/23/2016 09:15\\t31.8\\t29.4\\n05/23/2016 09:20\\t29.5\\t28.2\\n05/23/2016 09:25\\t27.7\\t31.8\\n05/23/2016 09:30\\t25.9\\t35.6\\n05/23/2016 09:35\\t24.8\\t31.7\\n05/23/2016 09:40\\t27.9\\t29\\n05/23/2016 09:45\\t25.4\\t35.6\\n05/23/2016 09:50\\t28\\t23.9\\n05/23/2016 09:55\\t30.8\\t22.9\\n05/23/2016 10:00\\t28\\t32.1\\n05/23/2016 10:05\\t26.8\\t32.9\\n05/23/2016 10:10\\t30.2\\t20.8\\n05/23/2016 10:15\\t29.4\\t29.8\\n05/23/2016 10:20\\t30.3\\t24.8\\n05/23/2016 10:25\\t31.6\\t25.4\\n05/23/2016 10:30\\t31.8\\t25.5\\n05/23/2016 10:35\\t32.8\\t23.5\\n05/23/2016 10:40\\t32\\t25\\n05/23/2016 10:45\\t38.2\\t20.8\\n05/23/2016 10:50\\t37.9\\t20.9\\n05/23/2016 10:55\\t39.2\\t19.5\\n05/23/2016 11:00\\t36.1\\t24.9\\n05/23/2016 11:05\\t33.7\\t25.3\\n05/23/2016 11:10\\t33.7\\t24.9\\n05/23/2016 11:15\\t36.6\\t21.1\\n05/23/2016 11:20\\t37.9\\t19.4\\n05/23/2016 11:25\\t39.5\\t19.6\\n05/23/2016 11:30\\t38.2\\t20.5\\n05/23/2016 11:35\\t35.3\\t22.5\\n05/23/2016 11:40\\t33.1\\t25.9\\n05/23/2016 11:45\\t34.9\\t21.3\\n05/23/2016 11:50\\t37.7\\t19\\n05/23/2016 11:55\\t37.4\\t20.8\\n05/23/2016 12:00\\t34.5\\t27\\n05/23/2016 12:05\\t32.8\\t27.4\\n05/23/2016 12:10\\t32.1\\t26.9\\n05/23/2016 12:15\\t30.1\\t30.7\\n05/23/2016 12:20\\t36\\t18.1\\n05/23/2016 12:25\\t34.9\\t23.5\\n05/23/2016 12:30\\t32.8\\t26.8\\n05/23/2016 12:35\\t33.1\\t22.5\\n05/23/2016 12:40\\t35.3\\t20.1\\n05/23/2016 12:45\\t35.6\\t22.9\\n05/23/2016 12:50\\t33.8\\t25.7\\n05/23/2016 12:55\\t33.3\\t19.7\\n05/23/2016 13:00\\t30.2\\t27.2\\n05/23/2016 13:05\\t34.7\\t19.5\\n05/23/2016 13:10\\t35.6\\t20.8\\n05/23/2016 13:15\\t33.9\\t27.8\\n05/23/2016 13:20\\t34.7\\t21\\n05/23/2016 13:25\\t37.7\\t20.1\\n05/23/2016 13:30\\t41.2\\t17.5\\n05/23/2016 13:35\\t38.1\\t23.1\\n05/23/2016 13:40\\t37.2\\t22.4\\n05/23/2016 13:45\\t38.9\\t21.1\\n05/23/2016 13:50\\t40.6\\t18\\n05/23/2016 13:55\\t41.2\\t18.4\\n05/23/2016 14:00\\t42.9\\t18.3\\n05/23/2016 14:05\\t44\\t17.4\\n05/23/2016 14:10\\t44.1\\t18.8\\n05/23/2016 14:15\\t42.4\\t20.7\\n05/23/2016 14:20\\t43\\t17.4\\n05/23/2016 14:25\\t42.3\\t20.4\\n05/23/2016 14:30\\t43.8\\t17.9\\n05/23/2016 14:35\\t43.3\\t19\\n05/23/2016 14:40\\t44.8\\t19.2\\n05/23/2016 14:45\\t41.2\\t22.4\\n05/23/2016 14:50\\t40.4\\t19.5\\n05/23/2016 14:55\\t38.9\\t20.9\\n05/23/2016 15:00\\t43\\t16.9\\n05/23/2016 15:05\\t39.4\\t20.8\\n05/23/2016 15:10\\t39.9\\t19\\n05/23/2016 15:15\\t37.8\\t23\\n05/23/2016 15:20\\t38.2\\t21.3\\n05/23/2016 15:25\\t40.7\\t18.9\\n05/23/2016 15:30\\t40.6\\t23.7\\n05/23/2016 15:35\\t42.4\\t16.9\\n05/23/2016 15:40\\t43.8\\t19.4\\n05/23/2016 15:45\\t39.8\\t23\\n05/23/2016 15:50\\t37.8\\t23\\n05/23/2016 15:55\\t39.2\\t18.4\\n05/23/2016 16:00\\t40.9\\t20.1\\n05/23/2016 16:05\\t43.5\\t16.1\\n05/23/2016 16:10\\t45.7\\t16\\n05/23/2016 16:15\\t45.6\\t16.5\\n05/23/2016 16:20\\t41.4\\t21.6\\n05/23/2016 16:25\\t39.7\\t22.4\\n05/23/2016 16:30\\t39.2\\t23.3\\n05/23/2016 16:35\\t43.5\\t17\\n05/23/2016 16:40\\t46\\t19.9\\n05/23/2016 16:45\\t46.7\\t19.2\\n05/23/2016 16:50\\t48\\t16.6\\n05/23/2016 16:55\\t47.8\\t15.8\\n05/23/2016 17:00\\t49.4\\t15.9\\n05/23/2016 17:05\\t48.2\\t16.7\\n05/23/2016 17:10\\t47.6\\t15.9\\n05/23/2016 17:15\\t47.8\\t15.4\\n05/23/2016 17:20\\t48\\t17.6\\n05/23/2016 17:25\\t47.9\\t17\\n05/23/2016 17:30\\t47.3\\t18.2\\n05/23/2016 17:35\\t47.3\\t19.2\\n05/23/2016 17:40\\t45.4\\t18.5\\n05/23/2016 17:45\\t44.4\\t21.3\\n05/23/2016 17:50\\t43.7\\t19.8\\n05/23/2016 17:55\\t39\\t25.1\\n05/23/2016 18:00\\t37.1\\t23.3\\n05/23/2016 18:05\\t41.6\\t19.4\\n05/23/2016 18:10\\t38.9\\t25.4\\n05/23/2016 18:15\\t33.2\\t26.5\\n05/23/2016 18:20\\t29.9\\t29.6\\n05/23/2016 18:25\\t30.3\\t27.8\\n05/23/2016 18:30\\t29.4\\t30.3\\n05/23/2016 18:35\\t32.3\\t23.5\\n05/23/2016 18:40\\t28.3\\t31.3\\n05/23/2016 18:45\\t29.4\\t25.7\\n05/23/2016 18:50\\t28.3\\t28.9\\n05/23/2016 18:55\\t31.4\\t25.6\\n05/23/2016 19:00\\t32.1\\t25.6\\n05/23/2016 19:05\\t30.3\\t28.7\\n05/23/2016 19:10\\t31.4\\t25.7\\n05/23/2016 19:15\\t31.2\\t25.7\\n05/23/2016 19:20\\t29\\t30.7\\n05/23/2016 19:25\\t28.7\\t28\\n05/23/2016 19:30\\t29.1\\t27.3\\n05/23/2016 19:35\\t36.2\\t17.9\\n05/23/2016 19:40\\t39.5\\t18\\n05/23/2016 19:45\\t48.4\\t10.5\\n05/23/2016 19:50\\t57\\t9.4\\n05/23/2016 19:55\\t61.3\\t9.2\\n05/23/2016 20:00\\t63.9\\t8\\n05/23/2016 20:05\\t64.5\\t10\\n05/23/2016 20:10\\t64.4\\t7.4\\n05/23/2016 20:15\\t63.3\\t10.3\\n05/23/2016 20:20\\t62.9\\t8.2\\n05/23/2016 20:25\\t63.9\\t8.2\\n05/23/2016 20:30\\t63.5\\t9.3\\n05/23/2016 20:35\\t63.5\\t8.9\\n05/23/2016 20:40\\t65.6\\t7.4\\n05/23/2016 20:45\\t65.1\\t8.4\\n05/23/2016 20:50\\t63.5\\t9.2\\n05/23/2016 20:55\\t64.3\\t8\\n05/23/2016 21:00\\t62.8\\t8.4\\n05/23/2016 21:05\\t63.8\\t7.9\\n05/23/2016 21:10\\t62.8\\t9.7\\n05/23/2016 21:15\\t64.4\\t8.5\\n05/23/2016 21:20\\t64.5\\t8.2\\n05/23/2016 21:25\\t62.9\\t8.8\\n05/23/2016 21:30\\t64\\t7.9\\n05/23/2016 21:35\\t62.6\\t8.1\\n05/23/2016 21:40\\t62\\t9.2\\n05/23/2016 21:45\\t61.8\\t10.3\\n05/23/2016 21:50\\t62.3\\t9.1\\n05/23/2016 21:55\\t62.3\\t7.7\\n05/23/2016 22:00\\t63\\t8.2\\n05/23/2016 22:05\\t62.6\\t8.6\\n05/23/2016 22:10\\t62.7\\t7.5\\n05/23/2016 22:15\\t63.5\\t7.7\\n05/23/2016 22:20\\t62.7\\t7.3\\n05/23/2016 22:25\\t63.6\\t7.6\\n05/23/2016 22:30\\t65\\t5.9\\n05/23/2016 22:35\\t63.7\\t8.2\\n05/23/2016 22:40\\t64.6\\t6.9\\n05/23/2016 22:45\\t65.5\\t6.7\\n05/23/2016 22:50\\t63.4\\t6.6\\n05/23/2016 22:55\\t65.6\\t6.3\\n05/23/2016 23:00\\t64.5\\t6.5\\n05/23/2016 23:05\\t65.2\\t5.2\\n05/23/2016 23:10\\t63.8\\t7\\n05/23/2016 23:15\\t63\\t6.5\\n05/23/2016 23:20\\t65.2\\t6.5\\n05/23/2016 23:25\\t63.6\\t6.2\\n05/23/2016 23:30\\t62.4\\t5.8\\n05/23/2016 23:35\\t62.9\\t6.6\\n05/23/2016 23:40\\t63.9\\t5.8\\n05/23/2016 23:45\\t66.1\\t5\\n05/23/2016 23:50\\t66\\t5.4\\n05/23/2016 23:55\\t64.9\\t4.3\\n'"
      ]
     },
     "execution_count": 95,
     "metadata": {},
     "output_type": "execute_result"
    }
   ],
   "source": [
    "all_text"
   ]
  },
  {
   "cell_type": "code",
   "execution_count": 96,
   "metadata": {
    "collapsed": false
   },
   "outputs": [],
   "source": [
    "c = all_text.split(\"\\n\")"
   ]
  },
  {
   "cell_type": "code",
   "execution_count": 97,
   "metadata": {
    "collapsed": false
   },
   "outputs": [
    {
     "data": {
      "text/plain": [
       "('Timestamp\\tSpeed (mph)\\tOccupancy (%)', '')"
      ]
     },
     "execution_count": 97,
     "metadata": {},
     "output_type": "execute_result"
    }
   ],
   "source": [
    "c.pop(0), c.pop(-1)"
   ]
  },
  {
   "cell_type": "code",
   "execution_count": 98,
   "metadata": {
    "collapsed": false
   },
   "outputs": [],
   "source": [
    "Timestamp =[0]*len(c)\n",
    "Speed = [0]*len(c)\n",
    "Occupancy = [0]*len(c)\n",
    "for i in range(len(c)):\n",
    "    Timestamp[i] = c[i].split(\"\\t\")[0]\n",
    "    Speed[i] = float(c[i].split(\"\\t\")[1])\n",
    "    Occupancy[i] = float(c[i].split(\"\\t\")[2])"
   ]
  },
  {
   "cell_type": "code",
   "execution_count": 99,
   "metadata": {
    "collapsed": true
   },
   "outputs": [],
   "source": [
    "def median(data):\n",
    "    if (len(data)+1)%2 ==0:\n",
    "        return data[(len(data)+1)/2]\n",
    "    else:\n",
    "        return ((data[len(data)/2]+data[len(data)/2+1])/2)\n",
    "    "
   ]
  },
  {
   "cell_type": "code",
   "execution_count": 100,
   "metadata": {
    "collapsed": false
   },
   "outputs": [],
   "source": [
    "Speed1 = sorted(Speed)\n",
    "Q1= first_quartile(Speed1)\n",
    "Q3 = third_quartile(Speed1)\n",
    "Mean = mean(Speed1)\n",
    "Median = median(Speed1)\n",
    "Mode = mode(Speed1)"
   ]
  },
  {
   "cell_type": "code",
   "execution_count": 101,
   "metadata": {
    "collapsed": false
   },
   "outputs": [
    {
     "data": {
      "text/plain": [
       "'35.700'"
      ]
     },
     "execution_count": 101,
     "metadata": {},
     "output_type": "execute_result"
    }
   ],
   "source": [
    "\"%.3f\" % Q1"
   ]
  },
  {
   "cell_type": "markdown",
   "metadata": {},
   "source": [
    "The first quatile is 35.7"
   ]
  },
  {
   "cell_type": "code",
   "execution_count": 102,
   "metadata": {
    "collapsed": false
   },
   "outputs": [
    {
     "data": {
      "text/plain": [
       "'63.100'"
      ]
     },
     "execution_count": 102,
     "metadata": {},
     "output_type": "execute_result"
    }
   ],
   "source": [
    "\"%.3f\" % Q3"
   ]
  },
  {
   "cell_type": "markdown",
   "metadata": {},
   "source": [
    "The third quatile is 63.1"
   ]
  },
  {
   "cell_type": "code",
   "execution_count": 103,
   "metadata": {
    "collapsed": false
   },
   "outputs": [
    {
     "data": {
      "text/plain": [
       "'44.800'"
      ]
     },
     "execution_count": 103,
     "metadata": {},
     "output_type": "execute_result"
    }
   ],
   "source": [
    "\"%.3f\" % Median"
   ]
  },
  {
   "cell_type": "markdown",
   "metadata": {},
   "source": [
    "The median is 44.8"
   ]
  },
  {
   "cell_type": "code",
   "execution_count": 104,
   "metadata": {
    "collapsed": false
   },
   "outputs": [
    {
     "data": {
      "text/plain": [
       "'48.092'"
      ]
     },
     "execution_count": 104,
     "metadata": {},
     "output_type": "execute_result"
    }
   ],
   "source": [
    "\"%.3f\" % Mean"
   ]
  },
  {
   "cell_type": "markdown",
   "metadata": {},
   "source": [
    "The mean is 48.902"
   ]
  },
  {
   "cell_type": "code",
   "execution_count": 105,
   "metadata": {
    "collapsed": false
   },
   "outputs": [
    {
     "data": {
      "text/plain": [
       "[63.5]"
      ]
     },
     "execution_count": 105,
     "metadata": {},
     "output_type": "execute_result"
    }
   ],
   "source": [
    "Mode"
   ]
  },
  {
   "cell_type": "markdown",
   "metadata": {},
   "source": [
    "The Mode is 63.5"
   ]
  },
  {
   "cell_type": "markdown",
   "metadata": {},
   "source": [
    "------------------------------"
   ]
  },
  {
   "cell_type": "markdown",
   "metadata": {},
   "source": [
    "### 1.e"
   ]
  },
  {
   "cell_type": "markdown",
   "metadata": {},
   "source": [
    "***Since the mean is larger than the median, the distribution has a positive skewness.***"
   ]
  },
  {
   "cell_type": "markdown",
   "metadata": {},
   "source": [
    "------------------------------------------------------------\n",
    "------------------------------------------------------------"
   ]
  },
  {
   "cell_type": "markdown",
   "metadata": {
    "collapsed": true
   },
   "source": [
    "### Probelm 2"
   ]
  },
  {
   "cell_type": "markdown",
   "metadata": {},
   "source": [
    "#### 2.a"
   ]
  },
  {
   "cell_type": "markdown",
   "metadata": {},
   "source": [
    "*** Since J=q/(q+r+s) ***"
   ]
  },
  {
   "cell_type": "code",
   "execution_count": 106,
   "metadata": {
    "collapsed": false
   },
   "outputs": [],
   "source": [
    "J = round((42),3)/(42+30+38)"
   ]
  },
  {
   "cell_type": "code",
   "execution_count": 107,
   "metadata": {
    "collapsed": false
   },
   "outputs": [
    {
     "data": {
      "text/plain": [
       "'0.382'"
      ]
     },
     "execution_count": 107,
     "metadata": {},
     "output_type": "execute_result"
    }
   ],
   "source": [
    "\"%.3f\" % J"
   ]
  },
  {
   "cell_type": "markdown",
   "metadata": {},
   "source": [
    "The Jaccard coefficient is 0.382"
   ]
  },
  {
   "cell_type": "markdown",
   "metadata": {},
   "source": [
    "------------------------------"
   ]
  },
  {
   "cell_type": "markdown",
   "metadata": {},
   "source": [
    "#### 2.b"
   ]
  },
  {
   "cell_type": "markdown",
   "metadata": {},
   "source": [
    "*** Suppose Jack, Jim and Mary are the 1st, 2nd and 3rd in the following column ***\n",
    "\n",
    "let Y and P be 1, N be 0"
   ]
  },
  {
   "cell_type": "code",
   "execution_count": 108,
   "metadata": {
    "collapsed": false
   },
   "outputs": [],
   "source": [
    "disease = [0]*3\n",
    "disease[0] = [1,1,1,1,0,0]\n",
    "disease[1] = [1,0,1,0,0,0]\n",
    "disease[2] = [1,1,0,1,0,0]"
   ]
  },
  {
   "cell_type": "code",
   "execution_count": 109,
   "metadata": {
    "collapsed": false
   },
   "outputs": [
    {
     "data": {
      "text/plain": [
       "[[1, 1, 1, 1, 0, 0], [1, 0, 1, 0, 0, 0], [1, 1, 0, 1, 0, 0]]"
      ]
     },
     "execution_count": 109,
     "metadata": {},
     "output_type": "execute_result"
    }
   ],
   "source": [
    "disease"
   ]
  },
  {
   "cell_type": "markdown",
   "metadata": {},
   "source": [
    "For asymmetric data, we use the (r+s)/(q+r+s) to evaluate dissimilarity\n",
    "\n",
    "since r+s = whole-q-t, and q+r+s = whole-t\n"
   ]
  },
  {
   "cell_type": "code",
   "execution_count": 110,
   "metadata": {
    "collapsed": false
   },
   "outputs": [],
   "source": [
    "def dissimilarity(data):\n",
    "    dissimilarity = [[] for i in range(len(data))]\n",
    "\n",
    "    for i in range(len(data)):\n",
    "        for ii in range(len(data)):\n",
    "            if i > ii :\n",
    "                q = 0\n",
    "                t = 0\n",
    "                for iii in range(len(data[i])):\n",
    "                    if data[i][iii]==1 and data[ii][iii]==1:\n",
    "                        q += 1\n",
    "                    if data[i][iii]==0 and data[ii][iii]==0:\n",
    "                        t += 1\n",
    "                dissimilarity[i].append(float((len(data[0])-q-t))/(len(data[0])-t))\n",
    "            if i == ii:\n",
    "                dissimilarity[i].append(0)\n",
    "                \n",
    "    return dissimilarity"
   ]
  },
  {
   "cell_type": "code",
   "execution_count": 111,
   "metadata": {
    "collapsed": false
   },
   "outputs": [
    {
     "data": {
      "text/plain": [
       "[[0], [0.5, 0], [0.25, 0.75, 0]]"
      ]
     },
     "execution_count": 111,
     "metadata": {},
     "output_type": "execute_result"
    }
   ],
   "source": [
    "dissimilarity(disease)"
   ]
  },
  {
   "cell_type": "markdown",
   "metadata": {},
   "source": [
    " We can find the ***1st*** and ***3rd*** patient have the lest disimilarity 0.25\n",
    " \n",
    " So we can determine they have the same disease"
   ]
  },
  {
   "cell_type": "markdown",
   "metadata": {},
   "source": [
    "------------------------------"
   ]
  },
  {
   "cell_type": "markdown",
   "metadata": {},
   "source": [
    "#### 2.c\n",
    "For category data, we take 3 more features in the data matrix"
   ]
  },
  {
   "cell_type": "code",
   "execution_count": 112,
   "metadata": {
    "collapsed": true
   },
   "outputs": [],
   "source": [
    "matrix = [[1,0,0],\n",
    "         [0,1,0],\n",
    "         [0,0,1],\n",
    "         [0,1,0]]"
   ]
  },
  {
   "cell_type": "code",
   "execution_count": 113,
   "metadata": {
    "collapsed": false
   },
   "outputs": [],
   "source": [
    "bi_dis = dissimilarity(matrix)"
   ]
  },
  {
   "cell_type": "markdown",
   "metadata": {},
   "source": [
    "*** Suppose excellent is 3, good is 2, fair is 1***\n",
    "\n",
    "For ordinal variables, use Z = (ri-1)/(M-1), which means:\n",
    "excellemt = (3-1)/(3-1) = 1\n",
    "\n",
    "good = (2-1)/(3-1) = 0.5\n",
    "\n",
    "fair = (1-1)/(3-1) = 0"
   ]
  },
  {
   "cell_type": "code",
   "execution_count": 114,
   "metadata": {
    "collapsed": true
   },
   "outputs": [],
   "source": [
    "nu_matrix = [[1],\n",
    "            [0],\n",
    "            [1],\n",
    "            [0.5]]"
   ]
  },
  {
   "cell_type": "code",
   "execution_count": 115,
   "metadata": {
    "collapsed": false
   },
   "outputs": [],
   "source": [
    "nu_dis = [[] for i in range(len(nu_matrix))]\n",
    "for i in range(len(nu_matrix)):\n",
    "    for ii in range(len(nu_matrix)):\n",
    "        if i > ii :\n",
    "            for iii in range(len(nu_matrix[i])):\n",
    "                nu_dis[i].append(((nu_matrix[i][iii]-nu_matrix[ii][iii])**2)**0.5)\n",
    "        if i == ii:\n",
    "            nu_dis[i].append(0)"
   ]
  },
  {
   "cell_type": "code",
   "execution_count": 116,
   "metadata": {
    "collapsed": false
   },
   "outputs": [
    {
     "data": {
      "text/plain": [
       "([[0], [1.0, 0], [1.0, 1.0, 0], [1.0, 0.0, 1.0, 0]],\n",
       " [[0], [1.0, 0], [0.0, 1.0, 0], [0.5, 0.5, 0.5, 0]])"
      ]
     },
     "execution_count": 116,
     "metadata": {},
     "output_type": "execute_result"
    }
   ],
   "source": [
    "bi_dis,nu_dis"
   ]
  },
  {
   "cell_type": "markdown",
   "metadata": {},
   "source": [
    "*** suppose the weights of each feature is 0.5 ***"
   ]
  },
  {
   "cell_type": "code",
   "execution_count": 117,
   "metadata": {
    "collapsed": false
   },
   "outputs": [],
   "source": [
    "mixed_dis = [[] for i in range(len(nu_dis))]\n",
    "for i in range(len(nu_dis)):\n",
    "    for ii in range(len(nu_dis[i])):\n",
    "        mixed_dis[i].append(bi_dis[i][ii]*0.5 + nu_dis[i][ii]*0.5)"
   ]
  },
  {
   "cell_type": "code",
   "execution_count": 118,
   "metadata": {
    "collapsed": false
   },
   "outputs": [
    {
     "data": {
      "text/plain": [
       "[[0.0], [1.0, 0.0], [0.5, 1.0, 0.0], [0.75, 0.25, 0.75, 0.0]]"
      ]
     },
     "execution_count": 118,
     "metadata": {},
     "output_type": "execute_result"
    }
   ],
   "source": [
    "mixed_dis"
   ]
  },
  {
   "cell_type": "markdown",
   "metadata": {},
   "source": [
    "------------------------------"
   ]
  },
  {
   "cell_type": "markdown",
   "metadata": {},
   "source": [
    "#### 2.d"
   ]
  },
  {
   "cell_type": "code",
   "execution_count": 119,
   "metadata": {
    "collapsed": true
   },
   "outputs": [],
   "source": [
    "def eucl_dist(a,b):\n",
    "    distance = 0\n",
    "    for i in range(len(a)):\n",
    "        distance += (a[i]-b[i])**2\n",
    "    return round(float(distance)**0.5,3)\n",
    "    "
   ]
  },
  {
   "cell_type": "code",
   "execution_count": 120,
   "metadata": {
    "collapsed": false
   },
   "outputs": [],
   "source": [
    "def manh_dist(a,b):\n",
    "    distance = 0\n",
    "    for i in range(len(a)):\n",
    "        distance += abs((a[i]-b[i]))\n",
    "    return round(distance,3)"
   ]
  },
  {
   "cell_type": "code",
   "execution_count": 121,
   "metadata": {
    "collapsed": false
   },
   "outputs": [],
   "source": [
    "def mink_dist(a,b):\n",
    "    distance = 0 \n",
    "    for i in range(len(a)):\n",
    "        if distance < abs((a[i]-b[i])):\n",
    "            distance = abs((a[i]-b[i]))\n",
    "    return round(distance,3)"
   ]
  },
  {
   "cell_type": "code",
   "execution_count": 122,
   "metadata": {
    "collapsed": false
   },
   "outputs": [
    {
     "name": "stdout",
     "output_type": "stream",
     "text": [
      "the Euclidean distance is \n",
      "8.307\n",
      "the Manhattan distance is \n",
      "13.0\n",
      "the Minkowski distance is \n",
      "7.0\n"
     ]
    }
   ],
   "source": [
    "A = [4,4,2]\n",
    "B = [-3,2,6]\n",
    "print \"the Euclidean distance is \"\n",
    "print eucl_dist(A,B)\n",
    "print \"the Manhattan distance is \"\n",
    "print manh_dist(A,B)\n",
    "print \"the Minkowski distance is \"\n",
    "print mink_dist(A,B)"
   ]
  },
  {
   "cell_type": "markdown",
   "metadata": {},
   "source": [
    "------------------------------"
   ]
  },
  {
   "cell_type": "markdown",
   "metadata": {},
   "source": [
    "#### 2.e"
   ]
  },
  {
   "cell_type": "code",
   "execution_count": 123,
   "metadata": {
    "collapsed": true
   },
   "outputs": [],
   "source": [
    "def cos_sim(a,b):\n",
    "    vector = 0\n",
    "    A_len = 0\n",
    "    B_len = 0\n",
    "    for i in range(len(a)):\n",
    "        vector += a[i]*b[i]\n",
    "        A_len += a[i]**2\n",
    "        B_len += b[i]**2\n",
    "    return round(vector/((float(A_len)**0.5)*(float(B_len)**0.5)),3)"
   ]
  },
  {
   "cell_type": "code",
   "execution_count": 124,
   "metadata": {
    "collapsed": false
   },
   "outputs": [],
   "source": [
    "f2 = open(\"./home.txt\", \"r\")"
   ]
  },
  {
   "cell_type": "code",
   "execution_count": 125,
   "metadata": {
    "collapsed": true
   },
   "outputs": [],
   "source": [
    "text = f2.read()"
   ]
  },
  {
   "cell_type": "code",
   "execution_count": 126,
   "metadata": {
    "collapsed": false
   },
   "outputs": [
    {
     "data": {
      "text/plain": [
       "'Geo-ID\\tPlace\\t% of Homes Built 2000 to 2009\\t% of Homes Built 1990 to 1999\\t% of Homes Built 1980 to 1989\\t% of Homes Built 1970 to 1979\\t% of Homes Built 1960 to 1969\\t% of Homes Built 1950 to 1959\\t% of Homes Built 1940 to 1949\\t% of Homes Built 1939 or earlier\\t% of Homes No bed rooms\\t% of Homes 1 bed rooms\\t% of Homes 2 bed rooms\\t% of Homes  3 bed rooms\\t% of Homes 4 bed rooms\\t% of Homes 5 or more bed rooms\\n16000us0600135\\tAcalanes Ridge\\t3\\t9\\t10\\t3\\t47\\t14\\t0\\t14\\t4\\t0\\t9\\t47\\t34\\t5\\n16000us0600156\\tAcampo\\t81\\t0\\t0\\t0\\t0\\t0\\t19\\t0\\t0\\t0\\t0\\t100\\t0\\t0\\n16000us0600212\\tActon\\t25\\t41\\t12\\t3\\t3\\t3\\t1\\t12\\t0\\t1\\t11\\t43\\t36\\t9\\n16000us0600296\\tAdelanto\\t33\\t8\\t8\\t6\\t3\\t1\\t2\\t38\\t1\\t6\\t16\\t41\\t28\\t8\\n16000us0600310\\tAdin\\t4\\t26\\t8\\t9\\t24\\t3\\t17\\t8\\t0\\t8\\t26\\t57\\t9\\t0\\n16000us0600394\\tAgoura Hills\\t4\\t37\\t36\\t10\\t4\\t2\\t1\\t7\\t1\\t8\\t16\\t25\\t36\\t15\\n16000us0600450\\tAgua Dulce\\t20\\t28\\t16\\t5\\t3\\t3\\t4\\t21\\t0\\t4\\t11\\t35\\t39\\t11\\n16000us0600464\\tAguanga\\t43\\t15\\t29\\t0\\t0\\t0\\t0\\t12\\t0\\t35\\t7\\t46\\t12\\t0\\n16000us0600478\\tAhwahnee\\t12\\t19\\t21\\t9\\t8\\t7\\t0\\t24\\t3\\t5\\t15\\t51\\t25\\t2\\n16000us0600562\\tAlameda\\t5\\t11\\t16\\t16\\t6\\t7\\t35\\t4\\t3\\t20\\t35\\t28\\t12\\t3\\n05000us06001\\tAlameda County\\t8\\t11\\t17\\t14\\t13\\t8\\t21\\t7\\t4\\t18\\t29\\t30\\t15\\t4\\n16000us0600618\\tAlamo\\t12\\t22\\t22\\t12\\t15\\t8\\t1\\t9\\t0\\t1\\t7\\t26\\t45\\t20\\n16000us0600674\\tAlbany\\t5\\t7\\t8\\t7\\t8\\t12\\t39\\t14\\t0\\t18\\t48\\t24\\t7\\t2\\n16000us0600786\\tAlderpoint\\t15\\t17\\t41\\t0\\t0\\t0\\t26\\t0\\t15\\t0\\t0\\t54\\t31\\t0\\n16000us0600884\\tAlhambra\\t6\\t12\\t11\\t12\\t14\\t14\\t27\\t3\\t3\\t20\\t41\\t28\\t6\\t2\\n16000us0600898\\tAlhambra Valley\\t19\\t11\\t6\\t19\\t17\\t4\\t16\\t7\\t0\\t9\\t3\\t32\\t32\\t24\\n16000us0600947\\tAliso Viejo\\t56\\t23\\t5\\t1\\t0\\t0\\t0\\t14\\t0\\t14\\t34\\t35\\t13\\t3\\n16000us0600982\\tAlleghany\\t42\\t0\\t0\\t0\\t0\\t19\\t40\\t0\\t0\\t0\\t35\\t65\\t0\\t0\\n16000us0600996\\tAllendale\\t12\\t30\\t43\\t4\\t0\\t0\\t8\\t4\\t0\\t0\\t14\\t57\\t24\\t4\\n16000us0601010\\tAllensworth\\t25\\t19\\t23\\t17\\t4\\t0\\t4\\t7\\t2\\t2\\t48\\t40\\t9\\t0\\n16000us0601164\\tAlpaugh\\t11\\t21\\t15\\t18\\t15\\t12\\t1\\t7\\t2\\t7\\t31\\t59\\t0\\t2\\n06000us0607390030\\tAlpine\\t26\\t21\\t23\\t3\\t6\\t2\\t4\\t15\\t2\\t7\\t27\\t32\\t27\\t6\\n16000us0601276\\tAlta\\t12\\t14\\t20\\t12\\t5\\t13\\t15\\t9\\t3\\t11\\t37\\t41\\t6\\t3\\n16000us0601290\\tAltadena\\t3\\t4\\t5\\t8\\t21\\t22\\t36\\t2\\t2\\t6\\t32\\t43\\t13\\t5\\n16000us0601360\\tAlta Sierra\\t14\\t47\\t26\\t4\\t2\\t1\\t0\\t6\\t1\\t4\\t14\\t66\\t13\\t3\\n06000us0604990040\\tAlturas\\t11\\t17\\t13\\t13\\t12\\t7\\t21\\t6\\t4\\t14\\t27\\t41\\t12\\t2\\n16000us0601458\\tAlum Rock\\t5\\t4\\t9\\t10\\t42\\t20\\t6\\t4\\t2\\t4\\t27\\t49\\t13\\t5\\n16000us0601514\\tAmador City\\t8\\t19\\t3\\t0\\t7\\t8\\t53\\t3\\t3\\t9\\t53\\t25\\t10\\t1\\n16000us0601640\\tAmerican Canyon\\t13\\t15\\t7\\t8\\t9\\t1\\t1\\t46\\t1\\t4\\t14\\t35\\t26\\t21\\n16000us0601651\\tAmesti\\t4\\t19\\t19\\t17\\t5\\t7\\t4\\t26\\t2\\t2\\t36\\t46\\t14\\t0\\n16000us0602000\\tAnaheim\\t10\\t13\\t25\\t19\\t22\\t3\\t3\\t6\\t3\\t18\\t30\\t29\\t17\\t3\\n16000us0602028\\tAnchor Bay\\t27\\t9\\t6\\t7\\t24\\t14\\t0\\t13\\t0\\t25\\t36\\t39\\t0\\t0\\n16000us0602042\\tAnderson\\t11\\t17\\t18\\t10\\t20\\t5\\t3\\t16\\t2\\t15\\t32\\t44\\t6\\t1\\n06000us0600990060\\tAngels City\\t22\\t16\\t17\\t6\\t5\\t1\\t8\\t25\\t1\\t7\\t29\\t52\\t10\\t1\\n06000us0605590070\\tAngwin\\t9\\t11\\t20\\t18\\t13\\t8\\t16\\t5\\t1\\t18\\t25\\t42\\t10\\t4\\n16000us0602210\\tAntelope\\t47\\t25\\t4\\t2\\t5\\t0\\t0\\t16\\t0\\t3\\t14\\t49\\t27\\t6\\n16000us0602252\\tAntioch\\t22\\t18\\t19\\t10\\t8\\t5\\t4\\t14\\t1\\t7\\t17\\t37\\t27\\t10\\n16000us0602294\\tAnza\\t12\\t31\\t21\\t9\\t6\\t0\\t2\\t19\\t0\\t17\\t37\\t36\\t8\\t2\\n16000us0602364\\tApple Valley\\t15\\t31\\t15\\t7\\t6\\t2\\t1\\t23\\t1\\t3\\t25\\t45\\t20\\t6\\n16000us0602378\\tAptos\\t7\\t18\\t29\\t26\\t6\\t5\\t2\\t7\\t1\\t11\\t30\\t39\\t17\\t2\\n16000us0602382\\tAptos Hills-Larkin Valley\\t9\\t30\\t39\\t5\\t0\\t4\\t0\\t13\\t2\\t3\\t18\\t58\\t10\\t10\\n16000us0602420\\tArbuckle\\t14\\t21\\t21\\t9\\t7\\t4\\t6\\t18\\t1\\t9\\t23\\t42\\t19\\t7\\n16000us0602462\\tArcadia\\t9\\t12\\t15\\t12\\t25\\t15\\t5\\t7\\t1\\t11\\t25\\t37\\t17\\t9\\n06000us0602390100\\tArcata\\t11\\t19\\t18\\t13\\t17\\t5\\t10\\t7\\t2\\t17\\t36\\t35\\t9\\t2\\n16000us0602553\\tArden-Arcade\\t4\\t11\\t24\\t19\\t32\\t7\\t2\\t2\\t2\\t22\\t32\\t32\\t10\\t2\\n16000us0602700\\tArmona\\t12\\t14\\t29\\t13\\t7\\t4\\t14\\t8\\t0\\t3\\t25\\t53\\t17\\t2\\n16000us0602770\\tArnold\\t18\\t32\\t25\\t16\\t3\\t0\\t0\\t5\\t0\\t3\\t30\\t59\\t7\\t0\\n06000us0600990105\\tArnold-West Point\\t16\\t30\\t25\\t11\\t6\\t3\\t2\\t7\\t1\\t5\\t34\\t50\\t9\\t1\\n16000us0602812\\tAromas\\t14\\t14\\t28\\t13\\t14\\t5\\t10\\t3\\t1\\t5\\t18\\t50\\t20\\t6\\n06000us0607990120\\tArroyo Grande\\t15\\t22\\t20\\t10\\t7\\t4\\t4\\t18\\t2\\t8\\t30\\t44\\t14\\t2\\n16000us0602910\\tArtois\\t11\\t0\\t21\\t0\\t41\\t0\\t27\\t0\\t0\\t0\\t47\\t53\\t0\\t0\\n16000us0602924\\tArvin\\t22\\t10\\t20\\t8\\t7\\t4\\t6\\t23\\t1\\t11\\t18\\t46\\t23\\t1\\n16000us0602980\\tAshland\\t6\\t13\\t14\\t16\\t23\\t16\\t6\\t5\\t3\\t21\\t41\\t29\\t5\\t1\\n06000us0607990140\\tAtascadero\\t15\\t25\\t24\\t7\\t7\\t3\\t4\\t15\\t2\\t10\\t28\\t47\\t12\\t2\\n16000us0603092\\tAtherton\\t11\\t6\\t5\\t10\\t31\\t13\\t14\\t10\\t0\\t2\\t3\\t21\\t39\\t35\\n06000us0604790150\\tAtwater\\t14\\t16\\t18\\t12\\t13\\t5\\t4\\t17\\t1\\t6\\t21\\t51\\t18\\t2\\n16000us0603190\\tAuberry\\t19\\t19\\t35\\t14\\t1\\t5\\t5\\t2\\t3\\t16\\t32\\t30\\t19\\t0\\n06000us0606190160\\tAuburn\\t13\\t17\\t25\\t10\\t9\\t4\\t8\\t13\\t1\\t9\\t30\\t40\\t16\\t4\\n16000us0603205\\tAuburn Lake Trails\\t18\\t27\\t32\\t0\\t2\\t3\\t1\\t17\\t1\\t4\\t8\\t65\\t18\\t4\\n16000us0603209\\tAugust\\t11\\t3\\t11\\t16\\t12\\t20\\t19\\t9\\t2\\t15\\t43\\t32\\t8\\t0\\n16000us0603302\\tAvenal\\t16\\t20\\t14\\t10\\t9\\t6\\t7\\t19\\t2\\t9\\t20\\t50\\t17\\t1\\n16000us0603316\\tAvery\\t11\\t22\\t38\\t10\\t3\\t16\\t0\\t0\\t0\\t0\\t42\\t54\\t4\\t0\\n16000us0603330\\tAvilla Beach\\t18\\t28\\t14\\t8\\t8\\t5\\t3\\t16\\t1\\t19\\t48\\t29\\t4\\t0\\n16000us0603344\\tAvocado Heights\\t3\\t10\\t23\\t27\\t19\\t10\\t5\\t4\\t2\\t2\\t16\\t40\\t35\\t6\\n16000us0603386\\tAzusa\\t7\\t17\\t21\\t13\\t22\\t10\\t5\\t5\\t2\\t14\\t38\\t33\\t12\\t2\\n16000us0603512\\tBaker\\t19\\t22\\t35\\t11\\t7\\t0\\t2\\t3\\t4\\t24\\t29\\t29\\t5\\t9\\n06000us0602990180\\tBakersfield\\t10\\t18\\t19\\t11\\t15\\t7\\t6\\t14\\t3\\t9\\t28\\t44\\t14\\t2\\n16000us0603666\\tBaldwin Park\\t8\\t17\\t11\\t16\\t26\\t10\\t5\\t6\\t1\\t11\\t29\\t43\\t14\\t3\\n16000us0603694\\tBallard\\t11\\t17\\t27\\t5\\t12\\t8\\t12\\t9\\t6\\t6\\t19\\t30\\t29\\t10\\n16000us0603792\\tBangor\\t23\\t12\\t34\\t5\\t5\\t0\\t11\\t11\\t0\\t8\\t20\\t52\\t20\\t0\\n16000us0603820\\tBanning\\t19\\t23\\t10\\t11\\t13\\t4\\t4\\t15\\t4\\t7\\t50\\t29\\t9\\t1\\n06000us0607190188\\tBarstow\\t9\\t19\\t15\\t20\\t20\\t3\\t3\\t12\\t3\\t10\\t26\\t47\\t12\\t2\\n16000us0604198\\tBass Lake\\t8\\t20\\t21\\t11\\t1\\t18\\t0\\t21\\t12\\t0\\t17\\t64\\t6\\t1\\n16000us0604415\\tBay Point\\t13\\t26\\t14\\t11\\t17\\t8\\t5\\t5\\t2\\t7\\t31\\t45\\t14\\t0\\n16000us0604478\\tBayview\\t9\\t15\\t10\\t21\\t21\\t6\\t9\\t8\\t1\\t11\\t31\\t45\\t7\\t4\\n16000us0604730\\tBear Valley\\t20\\t21\\t0\\t0\\t11\\t0\\t0\\t48\\t0\\t0\\t60\\t40\\t0\\t0\\n16000us0604734\\tBear Valley Springs\\t24\\t33\\t24\\t1\\t0\\t0\\t1\\t17\\t0\\t0\\t11\\t59\\t27\\t4\\n16000us0604758\\tBeaumont\\t6\\t6\\t6\\t7\\t7\\t3\\t3\\t62\\t2\\t5\\t25\\t30\\t25\\t12\\n16000us0604772\\tBeckwourth\\t3\\t26\\t20\\t7\\t8\\t0\\t10\\t27\\t0\\t16\\t24\\t48\\t12\\t0\\n16000us0604870\\tBell\\t5\\t6\\t12\\t13\\t20\\t18\\t24\\t2\\t6\\t30\\t41\\t18\\t4\\t1\\n16000us0604926\\tBella Vista\\t8\\t19\\t48\\t4\\t3\\t4\\t4\\t10\\t0\\t4\\t30\\t48\\t16\\t2\\n16000us0604938\\tBell Canyon\\t24\\t45\\t25\\t0\\t0\\t0\\t0\\t6\\t2\\t0\\t11\\t9\\t39\\t40\\n16000us0604982\\tBellflower\\t6\\t14\\t16\\t15\\t27\\t11\\t7\\t4\\t11\\t17\\t36\\t27\\t7\\t2\\n16000us0604996\\tBell Gardens\\t10\\t8\\t12\\t16\\t22\\t17\\t6\\t7\\t5\\t20\\t44\\t26\\t5\\t0\\n16000us0605108\\tBelmont\\t4\\t5\\t20\\t26\\t30\\t9\\t3\\t2\\t5\\t17\\t19\\t36\\t18\\t5\\n16000us0605164\\tBelvedere\\t5\\t6\\t5\\t29\\t28\\t5\\t20\\t3\\t1\\t5\\t20\\t27\\t36\\t11\\n16000us0605262\\tBenbow\\t7\\t50\\t4\\t0\\t0\\t7\\t8\\t24\\t22\\t12\\t0\\t48\\t18\\t0\\n16000us0605276\\tBend\\t8\\t32\\t22\\t11\\t13\\t2\\t3\\t8\\t4\\t1\\t18\\t64\\t11\\t2\\n16000us0605290\\tBenicia\\t10\\t30\\t28\\t6\\t4\\t7\\t7\\t7\\t1\\t9\\t24\\t34\\t27\\t6\\n16000us0605332\\tBen Lomond\\t2\\t7\\t21\\t20\\t19\\t12\\t19\\t1\\t3\\t15\\t29\\t38\\t11\\t4\\n16000us0605346\\tBenton\\t26\\t18\\t20\\t0\\t0\\t21\\t14\\t0\\t0\\t30\\t41\\t30\\t0\\t0\\n06000us0600190200\\tBerkeley\\t3\\t4\\t7\\t9\\t11\\t10\\t50\\t5\\t7\\t26\\t34\\t21\\t9\\t4\\n16000us0606028\\tBermuda Dunes\\t22\\t46\\t7\\t6\\t0\\t0\\t0\\t19\\t0\\t4\\t40\\t35\\t20\\t1\\n16000us0606070\\tBerry Creek\\t11\\t24\\t29\\t9\\t6\\t2\\t6\\t13\\t4\\t12\\t38\\t37\\t10\\t0\\n16000us0606150\\tBertsch-Oceanview\\t15\\t13\\t19\\t7\\t13\\t2\\t12\\t18\\t5\\t9\\t23\\t39\\t14\\t10\\n16000us0606210\\tBethel Island\\t12\\t22\\t16\\t20\\t10\\t10\\t7\\t3\\t3\\t16\\t49\\t27\\t6\\t0\\n16000us0606308\\tBeverly Hills\\t4\\t7\\t7\\t14\\t14\\t12\\t38\\t4\\t6\\t22\\t33\\t17\\t12\\t10\\n16000us0606336\\tBieber\\t0\\t12\\t45\\t0\\t10\\t8\\t23\\t3\\t0\\t8\\t36\\t47\\t10\\t0\\n16000us0606406\\tBig Bear City\\t11\\t22\\t33\\t12\\t7\\t3\\t5\\t6\\t0\\t10\\t50\\t32\\t7\\t1\\n16000us0606434\\tBig Bear Lake\\t10\\t25\\t23\\t17\\t10\\t6\\t5\\t5\\t2\\t10\\t39\\t39\\t8\\t2\\n16000us0606475\\tBig Bend\\t1\\t18\\t17\\t13\\t6\\t13\\t33\\t0\\t10\\t46\\t28\\t16\\t0\\t0\\n16000us0606518\\tBig Creek\\t3\\t0\\t0\\t0\\t26\\t15\\t35\\t10\\t4\\t0\\t18\\t66\\t12\\t0\\n06000us0600790230\\tBiggs\\t10\\t17\\t27\\t9\\t10\\t8\\t16\\t3\\t1\\t5\\t27\\t54\\t9\\t5\\n16000us0606567\\tBig Lagoon\\t19\\t8\\t11\\t9\\t26\\t3\\t18\\t5\\t3\\t20\\t56\\t21\\t0\\t0\\n16000us0606616\\tBig Pine\\t11\\t20\\t29\\t12\\t8\\t5\\t11\\t4\\t3\\t6\\t31\\t49\\t10\\t1\\n16000us0606635\\tBig River\\t14\\t30\\t38\\t9\\t1\\t0\\t1\\t7\\t3\\t6\\t49\\t37\\t4\\t1\\n06000us0603590240\\tBig Valley\\t18\\t7\\t27\\t8\\t5\\t8\\t14\\t13\\t1\\t7\\t30\\t41\\t18\\t4\\n06000us0602790250\\tBishop\\t9\\t14\\t29\\t18\\t9\\t8\\t6\\t6\\t3\\t11\\t30\\t41\\t13\\t2\\n16000us0606928\\tBlackhawk\\t34\\t53\\t7\\t2\\t0\\t2\\t0\\t3\\t0\\t2\\t3\\t25\\t57\\t13\\n16000us0606935\\tBlacklake\\t41\\t31\\t5\\t0\\t0\\t0\\t0\\t23\\t2\\t7\\t41\\t40\\t10\\t0\\n16000us0606982\\tBlack Point-Green Point\\t1\\t19\\t29\\t4\\t11\\t3\\t14\\t18\\t0\\t2\\t22\\t35\\t33\\t8\\n16000us0606994\\tBlairsden\\t0\\t0\\t14\\t0\\t0\\t0\\t86\\t0\\t0\\t0\\t14\\t60\\t26\\t0\\n16000us0607036\\tBloomfield\\t0\\t32\\t4\\t27\\t0\\t9\\t29\\t0\\t0\\t0\\t38\\t30\\t25\\t6\\n16000us0607064\\tBloomington\\t13\\t16\\t12\\t12\\t22\\t11\\t4\\t9\\t1\\t8\\t16\\t51\\t17\\t6\\n16000us0607162\\tBlue Lake\\t4\\t16\\t18\\t11\\t13\\t6\\t31\\t1\\t5\\t11\\t25\\t43\\t13\\t4\\n16000us0607172\\tBluewater\\t19\\t18\\t45\\t12\\t4\\t0\\t0\\t2\\t2\\t25\\t48\\t23\\t1\\t1\\n16000us0607218\\tBlythe\\t17\\t12\\t15\\t17\\t12\\t7\\t3\\t16\\t5\\t13\\t24\\t46\\t11\\t1\\n16000us0607246\\tBodega\\t0\\t25\\t52\\t0\\t0\\t0\\t23\\t0\\t0\\t53\\t33\\t13\\t0\\t0\\n16000us0607260\\tBodega Bay\\t25\\t38\\t24\\t4\\t2\\t1\\t3\\t3\\t3\\t9\\t21\\t58\\t9\\t0\\n16000us0607274\\tBodfish\\t3\\t13\\t38\\t35\\t3\\t0\\t3\\t6\\t0\\t22\\t49\\t19\\t9\\t1\\n06000us0604190256\\tBolinas\\t3\\t10\\t18\\t19\\t12\\t8\\t27\\t2\\t4\\t18\\t38\\t31\\t8\\t1\\n16000us0607372\\tBombay Beach\\t10\\t5\\t35\\t7\\t43\\t0\\t0\\t0\\t0\\t26\\t57\\t11\\t7\\t0\\n16000us0607379\\tBonadelle Ranchos-Madera Ranchos\\t21\\t29\\t24\\t3\\t2\\t1\\t0\\t21\\t0\\t1\\t4\\t67\\t23\\t3\\n16000us0607414\\tBonita\\t7\\t16\\t41\\t16\\t13\\t3\\t1\\t4\\t2\\t5\\t16\\t28\\t40\\t10\\n16000us0607470\\tBonny Doon\\t7\\t24\\t31\\t14\\t8\\t5\\t8\\t3\\t2\\t7\\t17\\t49\\t19\\t6\\n16000us0607498\\tBonsall\\t14\\t37\\t25\\t5\\t2\\t1\\t2\\t14\\t1\\t5\\t29\\t34\\t26\\t6\\n16000us0607512\\tBoonville\\t10\\t9\\t11\\t18\\t17\\t6\\t29\\t0\\t7\\t12\\t52\\t22\\t6\\t0\\n16000us0607525\\tBootjack\\t12\\t30\\t14\\t2\\t22\\t0\\t3\\t18\\t0\\t3\\t40\\t49\\t8\\t0\\n16000us0607578\\tBoronda\\t13\\t4\\t38\\t0\\t10\\t22\\t1\\t11\\t0\\t11\\t46\\t29\\t14\\t0\\n06000us0607390258\\tBorrego Springs\\t13\\t19\\t25\\t13\\t7\\t3\\t2\\t17\\t4\\t18\\t44\\t32\\t2\\t0\\n16000us0607624\\tBostonia\\t7\\t21\\t36\\t12\\t15\\t4\\t1\\t5\\t0\\t9\\t46\\t37\\t7\\t0\\n16000us0607652\\tBoulder Creek\\t3\\t5\\t12\\t17\\t19\\t12\\t26\\t6\\t6\\t15\\t43\\t26\\t9\\t2\\n16000us0607694\\tBoulevard\\t39\\t8\\t8\\t0\\t14\\t14\\t16\\t0\\t0\\t16\\t51\\t33\\t0\\t0\\n16000us0607750\\tBowles\\t0\\t12\\t52\\t0\\t12\\t0\\t24\\t0\\t16\\t0\\t36\\t16\\t32\\t0\\n16000us0607848\\tBoyes Hot Springs\\t6\\t25\\t21\\t14\\t18\\t8\\t6\\t2\\t2\\t16\\t40\\t36\\t6\\t1\\n16000us0607974\\tBradley\\t0\\t5\\t21\\t0\\t19\\t33\\t12\\t10\\t0\\t10\\t57\\t24\\t10\\t0\\n06000us0602590260\\tBrawley\\t12\\t15\\t16\\t12\\t12\\t7\\t6\\t19\\t3\\t10\\t24\\t43\\t18\\t2\\n16000us0608100\\tBrea\\t6\\t18\\t32\\t19\\t12\\t1\\t3\\t9\\t4\\t13\\t23\\t30\\t26\\t5\\n16000us0608142\\tBrentwood\\t29\\t8\\t5\\t2\\t2\\t0\\t1\\t53\\t0\\t4\\t18\\t30\\t32\\t16\\n16000us0608172\\tBret Harte\\t10\\t2\\t11\\t8\\t18\\t33\\t4\\t13\\t4\\t2\\t44\\t36\\t14\\t2\\n16000us0608240\\tBridgeport\\t5\\t5\\t39\\t21\\t27\\t3\\t0\\t0\\t0\\t31\\t29\\t34\\t7\\t0\\n06000us0601390270\\tBriones\\t38\\t36\\t7\\t6\\t3\\t1\\t1\\t7\\t0\\t6\\t24\\t18\\t39\\t13\\n16000us0608310\\tBrisbane\\t12\\t10\\t16\\t13\\t7\\t16\\t15\\t11\\t7\\t18\\t35\\t26\\t10\\t4\\n16000us0608478\\tBrookdale\\t1\\t20\\t19\\t15\\t23\\t5\\t17\\t0\\t0\\t16\\t31\\t35\\t13\\t6\\n16000us0608530\\tBrooktrails\\t28\\t38\\t14\\t8\\t1\\t0\\t1\\t10\\t2\\t5\\t23\\t59\\t11\\t0\\n16000us0608680\\tBuckhorn\\t8\\t23\\t44\\t10\\t2\\t1\\t1\\t10\\t0\\t4\\t44\\t46\\t5\\t1\\n16000us0608758\\tBuellton\\t11\\t22\\t21\\t11\\t8\\t4\\t1\\t23\\t0\\t10\\t24\\t45\\t15\\t6\\n16000us0608786\\tBuena Park\\t4\\t8\\t18\\t20\\t40\\t4\\t2\\t4\\t2\\t7\\t30\\t37\\t20\\t4\\n16000us0608828\\tBuena Vista\\t47\\t47\\t0\\t0\\t0\\t0\\t0\\t0\\t0\\t0\\t15\\t85\\t0\\t0\\n16000us0608954\\tBurbank\\t6\\t10\\t11\\t11\\t19\\t23\\t15\\t5\\t4\\t26\\t36\\t26\\t7\\t2\\n16000us0609066\\tBurlingame\\t4\\t5\\t14\\t17\\t21\\t9\\t28\\t2\\t6\\t29\\t27\\t21\\t14\\t3\\n16000us0609122\\tBurney\\t7\\t23\\t25\\t21\\t3\\t13\\t6\\t1\\t0\\t12\\t34\\t45\\t9\\t1\\n16000us0609150\\tBurnt Ranch\\t18\\t13\\t27\\t17\\t5\\t0\\t2\\t18\\t4\\t17\\t28\\t37\\t14\\t0\\n05000us06007\\tButte County\\t12\\t19\\t22\\t12\\t11\\t6\\t8\\t11\\t2\\t11\\t34\\t41\\t10\\t1\\n16000us0609310\\tButte Creek Canyon\\t8\\t30\\t21\\t13\\t14\\t0\\t2\\t12\\t3\\t18\\t25\\t39\\t17\\t0\\n06000us0609390290\\tButte Valley\\t10\\t18\\t27\\t10\\t16\\t6\\t8\\t4\\t8\\t6\\t36\\t43\\t5\\t2\\n06000us0602990300\\tButtonwillow\\t11\\t15\\t21\\t10\\t12\\t8\\t9\\t13\\t2\\t5\\t29\\t45\\t13\\t5\\n16000us0609353\\tBystrom\\t13\\t10\\t23\\t10\\t25\\t17\\t2\\t0\\t6\\t16\\t29\\t38\\t11\\t0\\n16000us0609360\\tCabazon\\t0\\t6\\t20\\t6\\t29\\t11\\t0\\t27\\t0\\t16\\t32\\t50\\t1\\t0\\n16000us0609598\\tCalabasas\\t19\\t35\\t20\\t14\\t2\\t0\\t1\\t8\\t0\\t6\\t19\\t23\\t32\\t19\\n05000us06009\\tCalaveras County\\t20\\t24\\t20\\t7\\t5\\t2\\t5\\t16\\t1\\t6\\t29\\t54\\t10\\t1\\n06000us0602590320\\tCalexico\\t21\\t16\\t12\\t6\\t6\\t2\\t3\\t34\\t4\\t11\\t15\\t39\\t24\\t6\\n16000us0609780\\tCalifornia City\\t16\\t20\\t14\\t10\\t4\\t0\\t0\\t36\\t0\\t2\\t21\\t58\\t17\\t2\\n16000us0609822\\tCalifornia Hot Springs\\t0\\t10\\t37\\t23\\t15\\t15\\t0\\t0\\t0\\t2\\t43\\t55\\t0\\t0\\n16000us0609834\\tCalifornia Pines\\t41\\t22\\t37\\t0\\t0\\t0\\t0\\t0\\t0\\t0\\t28\\t56\\t16\\t0\\n16000us0609864\\tCalimesa\\t9\\t22\\t18\\t24\\t10\\t4\\t4\\t10\\t0\\t6\\t46\\t29\\t15\\t4\\n16000us0609878\\tCalipatria\\t18\\t13\\t22\\t19\\t10\\t3\\t6\\t10\\t0\\t7\\t29\\t44\\t17\\t3\\n06000us0605590340\\tCalistoga\\t6\\t13\\t33\\t9\\t7\\t7\\t13\\t12\\t2\\t19\\t44\\t30\\t5\\t1\\n16000us0609948\\tCallender\\t9\\t15\\t25\\t15\\t3\\t7\\t0\\t27\\t5\\t18\\t6\\t41\\t24\\t6\\n16000us0609990\\tCalpella\\t5\\t25\\t0\\t5\\t13\\t34\\t11\\t6\\t6\\t3\\t37\\t35\\t19\\t0\\n16000us0610004\\tCalpine\\t16\\t0\\t41\\t0\\t12\\t8\\t18\\t5\\t0\\t20\\t45\\t30\\t5\\t0\\n16000us0610042\\tCamanche North Shore\\t12\\t28\\t26\\t7\\t0\\t0\\t0\\t27\\t7\\t0\\t25\\t53\\t14\\t0\\n16000us0610044\\tCamanche Village\\t20\\t13\\t17\\t0\\t0\\t0\\t0\\t50\\t0\\t0\\t8\\t80\\t10\\t3\\n06000us0611190350\\tCamarillo\\t14\\t15\\t26\\t22\\t5\\t1\\t1\\t15\\t1\\t9\\t21\\t32\\t30\\t7\\n16000us0610074\\tCambria\\t19\\t31\\t21\\t8\\t5\\t2\\t3\\t10\\t0\\t7\\t37\\t48\\t6\\t1\\n16000us0610088\\tCambrian Park\\t1\\t6\\t2\\t1\\t72\\t14\\t1\\t4\\t1\\t3\\t15\\t50\\t18\\t12\\n16000us0610256\\tCameron Park\\t18\\t30\\t24\\t4\\t3\\t0\\t0\\t21\\t1\\t5\\t20\\t48\\t23\\t2\\n16000us0610270\\tCamino\\t13\\t16\\t17\\t20\\t14\\t8\\t5\\t7\\t3\\t10\\t19\\t58\\t8\\t2\\n16000us0610301\\tCamino Tassajara\\t0\\t0\\t0\\t0\\t0\\t0\\t0\\t100\\t0\\t0\\t10\\t2\\t31\\t56\\n16000us0610345\\tCampbell\\t6\\t14\\t26\\t19\\t20\\t7\\t3\\t5\\t2\\t18\\t33\\t31\\t14\\t3\\n16000us0610494\\tCamp Nelson\\t19\\t0\\t15\\t26\\t0\\t29\\t10\\t0\\t0\\t15\\t60\\t20\\t6\\t0\\n16000us0610508\\tCampo\\t16\\t7\\t20\\t14\\t6\\t8\\t5\\t24\\t0\\t13\\t39\\t34\\t11\\t2\\n16000us0610676\\tCamptonville\\t9\\t9\\t23\\t0\\t9\\t19\\t32\\t0\\t0\\t19\\t38\\t29\\t14\\t0\\n16000us0610816\\tCantua Creek\\t9\\t27\\t21\\t25\\t18\\t0\\t0\\t0\\t0\\t0\\t25\\t75\\t0\\t0\\n16000us0610928\\tCanyon Lake\\t14\\t46\\t28\\t3\\t0\\t0\\t0\\t9\\t0\\t0\\t8\\t61\\t22\\t9\\n16000us0611040\\tCapitola\\t5\\t9\\t35\\t22\\t8\\t5\\t10\\t6\\t3\\t15\\t53\\t21\\t7\\t0\\n16000us0611194\\tCarlsbad\\t19\\t26\\t25\\t5\\t3\\t1\\t1\\t21\\t1\\t10\\t27\\t32\\t23\\t7\\n06000us0605390362\\tCarmel-by-the-Sea\\t7\\t11\\t18\\t15\\t17\\t12\\t14\\t6\\t2\\t10\\t36\\t34\\t13\\t4\\n06000us0605390370\\tCarmel Valley\\t9\\t18\\t19\\t11\\t19\\t12\\t7\\t6\\t1\\t10\\t33\\t39\\t14\\t3\\n16000us0611324\\tCarmel Valley Village\\t7\\t10\\t18\\t12\\t24\\t17\\t8\\t4\\t1\\t10\\t31\\t39\\t16\\t3\\n16000us0611390\\tCarmichael\\t5\\t13\\t27\\t24\\t21\\t3\\t2\\t4\\t1\\t14\\t26\\t38\\t17\\t4\\n16000us0611418\\tCarnelian Bay\\t7\\t16\\t37\\t25\\t5\\t3\\t6\\t2\\t2\\t7\\t12\\t44\\t25\\t9\\n06000us0608390378\\tCarpinteria\\t9\\t15\\t35\\t14\\t11\\t3\\t6\\t5\\t4\\t13\\t38\\t30\\t14\\t1\\n16000us0611481\\tCarrick\\t0\\t0\\t0\\t27\\t52\\t0\\t22\\t0\\t0\\t25\\t0\\t27\\t48\\t0\\n16000us0611530\\tCarson\\t5\\t6\\t16\\t36\\t21\\t9\\t2\\t5\\t1\\t6\\t20\\t42\\t27\\t4\\n16000us0611600\\tCartago\\t0\\t46\\t7\\t0\\t0\\t0\\t46\\t0\\t0\\t37\\t56\\t7\\t0\\t0\\n16000us0611656\\tCasa Conejo\\t0\\t0\\t10\\t85\\t5\\t0\\t0\\t0\\t1\\t1\\t1\\t71\\t23\\t3\\n16000us0611691\\tCasa de Oro-Mount Helix\\t4\\t16\\t25\\t21\\t23\\t6\\t4\\t2\\t1\\t7\\t17\\t39\\t29\\t8\\n16000us0611754\\tCasmalia\\t0\\t0\\t66\\t19\\t0\\t16\\t0\\t0\\t17\\t0\\t16\\t48\\t19\\t0\\n16000us0611768\\tCaspar\\t23\\t16\\t24\\t6\\t4\\t0\\t15\\t11\\t0\\t12\\t58\\t31\\t0\\t0\\n16000us0611782\\tCassel\\t12\\t18\\t4\\t42\\t8\\t0\\t0\\t17\\t0\\t0\\t47\\t32\\t21\\t0\\n16000us0611796\\tCastaic\\t22\\t32\\t5\\t4\\t1\\t0\\t0\\t34\\t1\\t3\\t13\\t42\\t32\\t10\\n16000us0611915\\tCastle Hill\\t2\\t26\\t13\\t16\\t24\\t9\\t6\\t4\\t0\\t4\\t0\\t56\\t36\\t4\\n16000us0611964\\tCastro Valley\\t15\\t10\\t13\\t16\\t26\\t14\\t3\\t3\\t1\\t8\\t26\\t39\\t22\\t4\\n06000us0605390400\\tCastroville\\t14\\t14\\t32\\t13\\t9\\t3\\t3\\t13\\t1\\t4\\t22\\t52\\t18\\t2\\n06000us0606590410\\tCathedral City-Palm Desert\\t18\\t29\\t21\\t8\\t3\\t1\\t1\\t20\\t1\\t8\\t36\\t41\\t12\\t1\\n16000us0612062\\tCatheys Valley\\t5\\t30\\t9\\t5\\t3\\t19\\t13\\t15\\t0\\t19\\t35\\t35\\t11\\t0\\n16000us0612132\\tCayucos\\t9\\t17\\t22\\t6\\t15\\t10\\t12\\t9\\t4\\t11\\t31\\t41\\t10\\t4\\n16000us0612146\\tCazadero\\t4\\t13\\t7\\t12\\t18\\t13\\t29\\t4\\t10\\t25\\t44\\t19\\t2\\t0\\n16000us0612300\\tCedar Ridge\\t21\\t23\\t21\\t13\\t8\\t2\\t0\\t12\\t0\\t3\\t41\\t46\\t9\\t2\\n16000us0612328\\tCedarville\\t15\\t11\\t9\\t10\\t17\\t4\\t22\\t13\\t0\\t10\\t47\\t38\\t5\\t0\\n16000us0612412\\tCenterville\\t0\\t0\\t55\\t15\\t24\\t4\\t3\\t0\\t17\\t12\\t7\\t64\\t0\\t0\\n06000us0605990420\\tCentral Coast\\t10\\t13\\t25\\t20\\t14\\t4\\t2\\t11\\t3\\t17\\t34\\t27\\t15\\t5\\n06000us0601190430\\tCentral Colusa\\t19\\t12\\t12\\t10\\t9\\t5\\t10\\t23\\t1\\t8\\t25\\t47\\t16\\t2\\n06000us0601390440\\tCentral Contra Costa\\t10\\t17\\t25\\t19\\t15\\t5\\t2\\t6\\t2\\t11\\t23\\t32\\t25\\t7\\n06000us0608990450\\tCentral Shasta\\t15\\t20\\t25\\t10\\t5\\t3\\t5\\t17\\t2\\t7\\t35\\t43\\t12\\t2\\n16000us0612524\\tCeres\\t15\\t24\\t18\\t7\\t8\\t3\\t2\\t23\\t0\\t5\\t21\\t45\\t23\\t5\\n16000us0612552\\tCerritos\\t2\\t8\\t62\\t24\\t1\\t1\\t1\\t2\\t2\\t1\\t9\\t36\\t42\\t10\\n16000us0612594\\tChalfant\\t18\\t18\\t10\\t0\\t6\\t0\\t0\\t47\\t2\\t0\\t9\\t89\\t0\\t0\\n16000us0612612\\tChallenge-Brownsville\\t14\\t15\\t26\\t17\\t4\\t4\\t2\\t18\\t2\\t22\\t36\\t33\\t6\\t2\\n16000us0612669\\tChannel Islands Beach\\t7\\t21\\t21\\t16\\t17\\t7\\t5\\t6\\t2\\t7\\t34\\t37\\t17\\t3\\n16000us0612734\\tCharter Oak\\t4\\t19\\t15\\t18\\t39\\t2\\t1\\t2\\t2\\t6\\t28\\t51\\t12\\t2\\n16000us0612818\\tCherokee\\t32\\t18\\t35\\t0\\t15\\t0\\t0\\t0\\t0\\t18\\t15\\t68\\t0\\t0\\n16000us0612860\\tCherokee Strip\\t22\\t0\\t10\\t5\\t24\\t17\\t7\\t14\\t0\\t0\\t12\\t88\\t0\\t0\\n16000us0612902\\tCherryland\\t12\\t12\\t10\\t12\\t20\\t15\\t12\\t6\\t1\\t21\\t53\\t19\\t4\\t2\\n16000us0612916\\tCherry Valley\\t13\\t22\\t25\\t21\\t10\\t3\\t2\\t5\\t0\\t9\\t40\\t36\\t14\\t0\\n06000us0606390460\\tChester\\t16\\t25\\t23\\t6\\t8\\t4\\t7\\t11\\t1\\t5\\t25\\t54\\t14\\t1\\n06000us0600790470\\tChico\\t15\\t19\\t19\\t11\\t11\\t5\\t8\\t13\\t3\\t13\\t30\\t40\\t13\\t1\\n16000us0613077\\tChilcoot-Vinton\\t21\\t28\\t17\\t0\\t7\\t0\\t7\\t19\\t0\\t13\\t32\\t40\\t0\\t14\\n16000us0613157\\tChina Lake Acres\\t8\\t36\\t32\\t0\\t2\\t0\\t5\\t16\\t0\\t11\\t40\\t46\\t4\\t0\\n16000us0613182\\tChinese Camp\\t29\\t29\\t24\\t10\\t8\\t0\\t0\\t0\\t0\\t0\\t56\\t44\\t0\\t0\\n16000us0613210\\tChino\\t10\\t20\\t25\\t10\\t8\\t2\\t3\\t22\\t1\\t8\\t18\\t37\\t29\\t7\\n16000us0613214\\tChino Hills\\t33\\t35\\t12\\t2\\t3\\t1\\t0\\t13\\t1\\t4\\t13\\t36\\t35\\t11\\n06000us0603990480\\tChowchilla\\t9\\t10\\t12\\t10\\t13\\t9\\t5\\t32\\t2\\t5\\t21\\t49\\t19\\t4\\n16000us0613364\\tChualar\\t41\\t9\\t24\\t11\\t0\\t5\\t2\\t7\\t0\\t2\\t38\\t36\\t21\\t3\\n06000us0606590492\\tChuckwalla Valley\\t13\\t23\\t24\\t19\\t7\\t2\\t2\\t11\\t3\\t26\\t34\\t29\\t8\\t1\\n16000us0613392\\tChula Vista\\t16\\t12\\t13\\t17\\t12\\t3\\t2\\t24\\t2\\t12\\t25\\t33\\t20\\t8\\n16000us0613560\\tCitrus\\t1\\t5\\t14\\t12\\t57\\t8\\t0\\t2\\t0\\t5\\t18\\t48\\t26\\t3\\n16000us0613588\\tCitrus Heights\\t8\\t23\\t40\\t13\\t9\\t2\\t1\\t4\\t1\\t13\\t27\\t42\\t15\\t2\\n16000us0613756\\tClaremont\\t5\\t12\\t17\\t24\\t21\\t5\\t9\\t6\\t1\\t11\\t22\\t33\\t26\\t6\\n06000us0611390500\\tClarksburg\\t6\\t4\\t5\\t24\\t11\\t8\\t36\\t6\\t0\\t4\\t12\\t47\\t29\\t7\\n16000us0613882\\tClayton\\t34\\t11\\t40\\t7\\t2\\t1\\t0\\t5\\t0\\t3\\t8\\t39\\t38\\t12\\n16000us0613910\\tClear Creek\\t0\\t19\\t27\\t4\\t4\\t19\\t19\\t8\\t8\\t8\\t26\\t56\\t2\\t0\\n06000us0603390503\\tClearlake\\t9\\t15\\t25\\t19\\t14\\t4\\t5\\t10\\t2\\t21\\t41\\t32\\t4\\t1\\n16000us0613966\\tClearlake Oaks\\t8\\t13\\t33\\t21\\t8\\t8\\t3\\t5\\t3\\t17\\t52\\t18\\t8\\t2\\n06000us0603390505\\tClearlake Riviera\\t14\\t14\\t24\\t11\\t6\\t5\\t5\\t21\\t1\\t10\\t34\\t44\\t9\\t1\\n16000us0614008\\tCleone\\t14\\t26\\t21\\t11\\t4\\t3\\t8\\t12\\t0\\t18\\t28\\t42\\t8\\t3\\n16000us0614106\\tClio\\t0\\t46\\t54\\t0\\t0\\t0\\t0\\t0\\t0\\t46\\t0\\t0\\t54\\t0\\n16000us0614190\\tCloverdale\\t17\\t14\\t12\\t8\\t10\\t5\\t7\\t26\\t1\\t9\\t34\\t41\\t12\\t3\\n06000us0609790510\\tCloverdale-Geyserville\\t15\\t14\\t15\\t9\\t10\\t7\\t12\\t18\\t2\\t8\\t33\\t43\\t12\\t2\\n16000us0614218\\tClovis\\t20\\t16\\t21\\t8\\t4\\t2\\t1\\t28\\t1\\t8\\t22\\t42\\t23\\t5\\n16000us0614232\\tClyde\\t32\\t18\\t12\\t2\\t17\\t3\\t14\\t1\\t0\\t6\\t19\\t32\\t40\\t1\\n16000us0614260\\tCoachella\\t12\\t15\\t8\\t7\\t4\\t1\\t1\\t50\\t1\\t3\\t15\\t44\\t31\\t6\\n06000us0606590520\\tCoachella Valley\\t18\\t18\\t10\\t6\\t5\\t1\\t1\\t42\\t2\\t6\\t30\\t38\\t21\\t4\\n06000us0601990530\\tCoalinga\\t14\\t20\\t14\\t11\\t10\\t7\\t11\\t14\\t2\\t8\\t31\\t47\\t10\\t2\\n16000us0614288\\tCoarsegold\\t25\\t17\\t4\\t5\\t7\\t5\\t0\\t37\\t0\\t5\\t28\\t52\\t11\\t3\\n06000us0603390545\\tCobb\\t9\\t23\\t17\\t14\\t19\\t5\\t6\\t7\\t3\\t11\\t34\\t43\\t8\\t1\\n16000us0614406\\tCoffee Creek\\t8\\t8\\t34\\t26\\t13\\t2\\t0\\t10\\t0\\t11\\t31\\t49\\t8\\t2\\n16000us0614442\\tCohasset\\t11\\t29\\t10\\t29\\t4\\t2\\t6\\t9\\t0\\t10\\t21\\t61\\t9\\t0\\n16000us0614450\\tCold Springs\\t0\\t23\\t21\\t42\\t8\\t0\\t0\\t7\\t3\\t8\\t26\\t60\\t3\\t0\\n16000us0614498\\tColfax\\t14\\t7\\t19\\t3\\t3\\t13\\t22\\t19\\t0\\t20\\t33\\t39\\t7\\t0\\n06000us0606190548\\tColfax-Monumental Ridge\\t14\\t19\\t23\\t11\\t8\\t4\\t7\\t15\\t2\\t6\\t27\\t39\\t19\\t7\\n16000us0614554\\tCollege City\\t0\\t0\\t0\\t28\\t0\\t0\\t31\\t41\\t0\\t0\\t0\\t100\\t0\\t0\\n16000us0614708\\tCollierville\\t23\\t15\\t18\\t12\\t5\\t16\\t5\\t6\\t0\\t9\\t19\\t55\\t16\\t2\\n16000us0614736\\tColma\\t22\\t6\\t5\\t3\\t19\\t14\\t8\\t23\\t2\\t12\\t19\\t52\\t9\\t5\\n16000us0614764\\tColoma\\t28\\t24\\t3\\t0\\t20\\t0\\t17\\t8\\t0\\t7\\t37\\t56\\t0\\t0\\n16000us0614890\\tColton\\t13\\t33\\t13\\t8\\t12\\t7\\t8\\t5\\t4\\t14\\t34\\t31\\t15\\t2\\n16000us0614904\\tColumbia\\t9\\t14\\t30\\t12\\t8\\t3\\t13\\t11\\t5\\t7\\t40\\t37\\t8\\t3\\n16000us0614946\\tColusa\\t7\\t17\\t15\\t13\\t9\\t11\\t18\\t10\\t2\\t10\\t37\\t41\\t9\\t1\\n05000us06011\\tColusa County\\t14\\t15\\t14\\t12\\t9\\t7\\t13\\t16\\t2\\t10\\t30\\t44\\t13\\t2\\n16000us0614974\\tCommerce\\t7\\t13\\t7\\t12\\t25\\t23\\t10\\t3\\t5\\t19\\t36\\t31\\t7\\t2\\n16000us0615030\\tComptche\\t22\\t18\\t9\\t17\\t0\\t0\\t34\\t0\\t9\\t29\\t46\\t16\\t0\\t0\\n06000us0603790560\\tCompton\\t5\\t7\\t12\\t20\\t24\\t19\\t9\\t4\\t3\\t11\\t31\\t38\\t15\\t3\\n16000us0616000\\tConcord\\t4\\t14\\t26\\t24\\t19\\t6\\t1\\t5\\t1\\t13\\t28\\t36\\t20\\t3\\n16000us0616035\\tConcow\\t7\\t26\\t33\\t2\\t6\\t0\\t0\\t21\\t0\\t30\\t45\\t25\\t0\\t0\\n16000us0616090\\tContra Costa Centre\\t37\\t25\\t9\\t7\\t9\\t3\\t1\\t8\\t6\\t49\\t33\\t7\\t4\\t2\\n05000us06013\\tContra Costa County\\t12\\t17\\t19\\t14\\t13\\t7\\t4\\t12\\t1\\t10\\t24\\t34\\t24\\t7\\n16000us0616210\\tCopperopolis\\t26\\t19\\t7\\t0\\t0\\t0\\t1\\t46\\t0\\t0\\t25\\t64\\t9\\t1\\n16000us0616224\\tCorcoran\\t7\\t22\\t14\\t16\\t10\\t11\\t4\\t16\\t1\\t4\\t28\\t52\\t15\\t1\\n06000us0610390580\\tCorning\\t13\\t18\\t21\\t11\\t5\\t4\\t10\\t17\\t1\\t9\\t33\\t45\\t9\\t3\\n06000us0606590590\\tCorona\\t28\\t25\\t12\\t8\\t5\\t2\\t2\\t17\\t1\\t8\\t18\\t31\\t32\\t11\\n16000us0616378\\tCoronado\\t8\\t12\\t31\\t9\\t12\\t9\\t13\\t5\\t4\\t15\\t33\\t31\\t13\\t4\\n16000us0616420\\tCoronita\\t0\\t7\\t29\\t30\\t26\\t4\\t1\\t2\\t0\\t3\\t4\\t41\\t50\\t2\\n16000us0616434\\tCorralitos\\t7\\t10\\t4\\t12\\t3\\t10\\t45\\t9\\t0\\t14\\t17\\t50\\t18\\t1\\n16000us0616462\\tCorte Madera\\t6\\t12\\t9\\t29\\t28\\t7\\t7\\t3\\t2\\t9\\t27\\t46\\t15\\t2\\n16000us0616532\\tCosta Mesa\\t5\\t12\\t26\\t26\\t21\\t3\\t1\\t6\\t3\\t20\\t36\\t26\\t13\\t2\\n16000us0616560\\tCotati\\t11\\t34\\t24\\t6\\t4\\t3\\t5\\t15\\t0\\t8\\t44\\t32\\t15\\t1\\n16000us0616580\\tCoto de Caza\\t59\\t18\\t4\\t1\\t1\\t0\\t0\\t16\\t0\\t0\\t11\\t28\\t37\\t24\\n16000us0616630\\tCottonwood\\t22\\t21\\t14\\t10\\t13\\t5\\t2\\t12\\t1\\t6\\t30\\t50\\t11\\t0\\n06000us0604390600\\tCoulterville\\t20\\t13\\t20\\t9\\t6\\t5\\t6\\t22\\t3\\t12\\t26\\t49\\t8\\t2\\n16000us0616644\\tCoultervillle\\t0\\t6\\t48\\t0\\t0\\t0\\t28\\t18\\t0\\t18\\t47\\t35\\t0\\t0\\n16000us0616651\\tCountry Club\\t0\\t3\\t8\\t14\\t49\\t19\\t6\\t2\\t1\\t3\\t32\\t54\\t10\\t0\\n16000us0616714\\tCourtland\\t0\\t0\\t0\\t0\\t24\\t22\\t34\\t20\\t0\\t0\\t24\\t56\\t0\\t20\\n06000us0604590610\\tCovelo\\t12\\t16\\t30\\t10\\t12\\t2\\t10\\t8\\t3\\t13\\t25\\t46\\t10\\t2\\n16000us0616742\\tCovina\\t2\\t13\\t15\\t17\\t42\\t3\\t5\\t2\\t2\\t13\\t24\\t43\\t17\\t2\\n16000us0616762\\tCowan\\t6\\t9\\t18\\t8\\t0\\t39\\t21\\t0\\t0\\t0\\t14\\t78\\t9\\t0\\n06000us0601590620\\tCrescent City\\t15\\t18\\t15\\t12\\t15\\t5\\t6\\t14\\t3\\t10\\t32\\t40\\t12\\t3\\n16000us0617078\\tCressey\\t17\\t31\\t3\\t25\\t12\\t12\\t0\\t0\\t0\\t3\\t36\\t49\\t12\\t0\\n16000us0617106\\tCrest\\t5\\t12\\t27\\t12\\t13\\t5\\t9\\t17\\t0\\t9\\t15\\t62\\t13\\t1\\n'"
      ]
     },
     "execution_count": 126,
     "metadata": {},
     "output_type": "execute_result"
    }
   ],
   "source": [
    "text"
   ]
  },
  {
   "cell_type": "code",
   "execution_count": 127,
   "metadata": {
    "collapsed": true
   },
   "outputs": [],
   "source": [
    "line = text.split(\"\\n\")"
   ]
  },
  {
   "cell_type": "code",
   "execution_count": 128,
   "metadata": {
    "collapsed": false
   },
   "outputs": [
    {
     "data": {
      "text/plain": [
       "('Geo-ID\\tPlace\\t% of Homes Built 2000 to 2009\\t% of Homes Built 1990 to 1999\\t% of Homes Built 1980 to 1989\\t% of Homes Built 1970 to 1979\\t% of Homes Built 1960 to 1969\\t% of Homes Built 1950 to 1959\\t% of Homes Built 1940 to 1949\\t% of Homes Built 1939 or earlier\\t% of Homes No bed rooms\\t% of Homes 1 bed rooms\\t% of Homes 2 bed rooms\\t% of Homes  3 bed rooms\\t% of Homes 4 bed rooms\\t% of Homes 5 or more bed rooms',\n",
       " '')"
      ]
     },
     "execution_count": 128,
     "metadata": {},
     "output_type": "execute_result"
    }
   ],
   "source": [
    "line.pop(0),line.pop(-1)"
   ]
  },
  {
   "cell_type": "code",
   "execution_count": 129,
   "metadata": {
    "collapsed": false
   },
   "outputs": [],
   "source": [
    "Geo_ID = [0]*len(line)\n",
    "Place = [0]*len(line)\n",
    "area = [[] for i in range(len(line))]\n",
    "\n",
    "for i in range(len(line)):\n",
    "    Geo_ID[i] = line[i].split(\"\\t\")[0]\n",
    "    Place[i] =  line[i].split(\"\\t\")[1]\n",
    "    for ii in range(2,len(line[i].split(\"\\t\"))):\n",
    "        area[i].append(int(line[i].split(\"\\t\")[ii]))\n"
   ]
  },
  {
   "cell_type": "code",
   "execution_count": 130,
   "metadata": {
    "collapsed": false
   },
   "outputs": [],
   "source": [
    "Alto = [0,0,12,34,14,21,13,5,0,30,41,23,3,2]"
   ]
  },
  {
   "cell_type": "code",
   "execution_count": 131,
   "metadata": {
    "collapsed": false
   },
   "outputs": [],
   "source": [
    "cos_ans = [[] for i in range(len(area))]\n",
    "for i in range(len(area)):\n",
    "    cos_ans[i].append(cos_sim(Alto,area[i]))\n",
    "    cos_ans[i].append(Geo_ID[i])\n",
    "    cos_ans[i].append(Place[i])"
   ]
  },
  {
   "cell_type": "code",
   "execution_count": 132,
   "metadata": {
    "collapsed": false
   },
   "outputs": [],
   "source": [
    "import numpy as np\n",
    "def sort_by_col(data,icol):\n",
    "    data1 = np.array(data).tolist()\n",
    "    data1.sort(key=lambda x:x[icol])\n",
    "    return np.array(data1)"
   ]
  },
  {
   "cell_type": "code",
   "execution_count": 133,
   "metadata": {
    "collapsed": false,
    "scrolled": true
   },
   "outputs": [],
   "source": [
    "ans = sort_by_col(cos_ans, 0)"
   ]
  },
  {
   "cell_type": "code",
   "execution_count": 134,
   "metadata": {
    "collapsed": false
   },
   "outputs": [
    {
     "name": "stdout",
     "output_type": "stream",
     "text": [
      "['0.927' '16000us0604870' 'Bell']\n",
      "['0.924' '16000us0604996' 'Bell Gardens']\n",
      "['0.923' '16000us0608954' 'Burbank']\n",
      "['0.919' '16000us0602980' 'Ashland']\n",
      "['0.915' '16000us0603209' 'August']\n"
     ]
    }
   ],
   "source": [
    "for i in range(1,6):\n",
    "    print ans[-i]"
   ]
  },
  {
   "cell_type": "markdown",
   "metadata": {},
   "source": [
    "------------------------------------------------------------\n",
    "------------------------------------------------------------"
   ]
  },
  {
   "cell_type": "markdown",
   "metadata": {},
   "source": [
    "### Problem 3"
   ]
  },
  {
   "cell_type": "markdown",
   "metadata": {},
   "source": [
    "#### 3.a"
   ]
  },
  {
   "cell_type": "code",
   "execution_count": 374,
   "metadata": {
    "collapsed": true
   },
   "outputs": [],
   "source": [
    "empl = [[1,2,3,4,5],\n",
    "        [27,51,52,33,45],\n",
    "        [19000,64000,100000,55000,45000]]"
   ]
  },
  {
   "cell_type": "markdown",
   "metadata": {},
   "source": [
    "zi=(xi−min(x))/(max(x)−min(x))"
   ]
  },
  {
   "cell_type": "code",
   "execution_count": 376,
   "metadata": {
    "collapsed": true
   },
   "outputs": [],
   "source": [
    "def norm(data):\n",
    "    data1 = [0]*len(data)\n",
    "    for i in range(len(data)):\n",
    "        data1[i] = round(float((data[i]-min(data)))/(max(data)-min(data)),3)\n",
    "    return data1"
   ]
  },
  {
   "cell_type": "code",
   "execution_count": 378,
   "metadata": {
    "collapsed": false
   },
   "outputs": [],
   "source": [
    "empl[1] = norm(empl[1])\n",
    "empl[2] = norm(empl[2])"
   ]
  },
  {
   "cell_type": "code",
   "execution_count": 379,
   "metadata": {
    "collapsed": false
   },
   "outputs": [
    {
     "data": {
      "text/plain": [
       "[[1, 2, 3, 4, 5],\n",
       " [0.0, 0.96, 1.0, 0.24, 0.72],\n",
       " [0.0, 0.556, 1.0, 0.444, 0.321]]"
      ]
     },
     "execution_count": 379,
     "metadata": {},
     "output_type": "execute_result"
    }
   ],
   "source": [
    "empl"
   ]
  },
  {
   "cell_type": "markdown",
   "metadata": {},
   "source": [
    "------------------------------"
   ]
  },
  {
   "cell_type": "markdown",
   "metadata": {},
   "source": [
    "#### 3.b\n",
    "σ = (sum(X-mean)^2/n)^0.5\n",
    "\n",
    "z = (x−μ)/ σ"
   ]
  },
  {
   "cell_type": "code",
   "execution_count": 139,
   "metadata": {
    "collapsed": true
   },
   "outputs": [],
   "source": [
    "def std_norm(data,test):\n",
    "    m = mean(data)\n",
    "    pstd = variance(data)**0.5\n",
    "    z = [0]*len(data)\n",
    "    for i in range(len(data)):\n",
    "        z[i] = (data[i] - m)/pstd\n",
    "    test = (test - m)/pstd\n",
    "    return z, round(test,3)"
   ]
  },
  {
   "cell_type": "code",
   "execution_count": 140,
   "metadata": {
    "collapsed": false
   },
   "outputs": [],
   "source": [
    "std_speed, speed_55 = std_norm(Speed,55)"
   ]
  },
  {
   "cell_type": "code",
   "execution_count": 141,
   "metadata": {
    "collapsed": false
   },
   "outputs": [
    {
     "data": {
      "text/plain": [
       "(48.092, -0.0)"
      ]
     },
     "execution_count": 141,
     "metadata": {},
     "output_type": "execute_result"
    }
   ],
   "source": [
    "mean(Speed),mean(std_speed)"
   ]
  },
  {
   "cell_type": "code",
   "execution_count": 142,
   "metadata": {
    "collapsed": false
   },
   "outputs": [
    {
     "data": {
      "text/plain": [
       "(200.021, 1.0)"
      ]
     },
     "execution_count": 142,
     "metadata": {},
     "output_type": "execute_result"
    }
   ],
   "source": [
    "variance(Speed),variance(std_speed)"
   ]
  },
  {
   "cell_type": "code",
   "execution_count": 108,
   "metadata": {
    "collapsed": false
   },
   "outputs": [
    {
     "data": {
      "text/plain": [
       "0.488"
      ]
     },
     "execution_count": 108,
     "metadata": {},
     "output_type": "execute_result"
    }
   ],
   "source": [
    "round(speed55,3)"
   ]
  },
  {
   "cell_type": "markdown",
   "metadata": {},
   "source": [
    "The mean of speed before normalization is 48.092\n",
    "The mean of speed after normalization 0.0\n",
    "\n",
    "The variance before normalization 200.021\n",
    "The variance after normalization 1.0\n",
    "\n",
    "The correspoding speed after normalization is 0.488"
   ]
  },
  {
   "cell_type": "markdown",
   "metadata": {},
   "source": [
    "------------------------------------------------------------\n",
    "------------------------------------------------------------"
   ]
  },
  {
   "cell_type": "markdown",
   "metadata": {},
   "source": [
    "### Problem 4"
   ]
  },
  {
   "cell_type": "markdown",
   "metadata": {},
   "source": [
    "#### 4.I.a"
   ]
  },
  {
   "cell_type": "code",
   "execution_count": 204,
   "metadata": {
    "collapsed": true
   },
   "outputs": [],
   "source": [
    "data = [[2.5,0.5,2.2,1.9,3.1,2.3,2,1.0,1.5,1.1],[2.4,0.7,2.9,2.2,3.0,2.7,1.6,1.1,1.6,0.9]]"
   ]
  },
  {
   "cell_type": "code",
   "execution_count": 205,
   "metadata": {
    "collapsed": false
   },
   "outputs": [],
   "source": [
    "A = data[0]\n",
    "B = data[1]"
   ]
  },
  {
   "cell_type": "code",
   "execution_count": 206,
   "metadata": {
    "collapsed": false
   },
   "outputs": [],
   "source": [
    "A_mean = mean(data[0])\n",
    "B_mean = mean(data[1])\n",
    "A_std = variance(data[0])**0.5\n",
    "B_std = variance(data[1])**0.5  "
   ]
  },
  {
   "cell_type": "code",
   "execution_count": 207,
   "metadata": {
    "collapsed": true
   },
   "outputs": [],
   "source": [
    "AB = 0\n",
    "for i in range(len(A)):\n",
    "    AB += A[i] * B[i]\n",
    "    "
   ]
  },
  {
   "cell_type": "code",
   "execution_count": 209,
   "metadata": {
    "collapsed": false
   },
   "outputs": [],
   "source": [
    "coefficient = (AB-len(A)*A_mean*B_mean)/(len(A)*A_std*B_std)"
   ]
  },
  {
   "cell_type": "code",
   "execution_count": 211,
   "metadata": {
    "collapsed": false
   },
   "outputs": [
    {
     "data": {
      "text/plain": [
       "0.926"
      ]
     },
     "execution_count": 211,
     "metadata": {},
     "output_type": "execute_result"
    }
   ],
   "source": [
    "round(coefficient,3)"
   ]
  },
  {
   "cell_type": "markdown",
   "metadata": {},
   "source": [
    "We can find the x-axis's data is highly related to the y-axis's data"
   ]
  },
  {
   "cell_type": "markdown",
   "metadata": {},
   "source": [
    "#### 4.I.b"
   ]
  },
  {
   "cell_type": "markdown",
   "metadata": {},
   "source": [
    "If a data has a high variance in signal while low variance in noises, we need consider use the PCA.\n",
    "\n",
    "Since the correlation is close to 1, which means x-axis's data is highly related to the y-axis's data, if we use the x-y basis, there would be high redundancy. \n",
    "\n",
    "If we chose to use PCA, it would change the aspect and show the most difference in noise.  \n",
    "\n",
    "In this case, we should use PCA to do the job."
   ]
  },
  {
   "cell_type": "markdown",
   "metadata": {},
   "source": [
    "#### 4.I.c"
   ]
  },
  {
   "cell_type": "code",
   "execution_count": 213,
   "metadata": {
    "collapsed": true
   },
   "outputs": [],
   "source": [
    "covariance = AB/len(A)-A_mean*B_mean"
   ]
  },
  {
   "cell_type": "code",
   "execution_count": 215,
   "metadata": {
    "collapsed": false
   },
   "outputs": [
    {
     "data": {
      "text/plain": [
       "0.554"
      ]
     },
     "execution_count": 215,
     "metadata": {},
     "output_type": "execute_result"
    }
   ],
   "source": [
    "round(covariance,3)"
   ]
  },
  {
   "cell_type": "markdown",
   "metadata": {},
   "source": [
    "Since the Co-variance is higher than 0, \n",
    "\n",
    "data in X-axis rise with Y-axis."
   ]
  },
  {
   "cell_type": "markdown",
   "metadata": {},
   "source": [
    "------------------------------"
   ]
  },
  {
   "cell_type": "markdown",
   "metadata": {},
   "source": [
    "#### 4.II"
   ]
  },
  {
   "cell_type": "code",
   "execution_count": 331,
   "metadata": {
    "collapsed": false
   },
   "outputs": [],
   "source": [
    "a = [[1,-1,0,0],[1,0,0,-1]]\n",
    "\n",
    "m = len(a)\n",
    "n = len(a[0])\n",
    "for i in range(m):\n",
    "    for ii in range(n):\n",
    "        a[i][ii] = a[i][ii] - mean(a[i])\n"
   ]
  },
  {
   "cell_type": "code",
   "execution_count": 344,
   "metadata": {
    "collapsed": true
   },
   "outputs": [],
   "source": [
    "def transpose(data):\n",
    "    data = [[row[col] for row in data] for col in range(len(data[0]))]\n",
    "    return data"
   ]
  },
  {
   "cell_type": "code",
   "execution_count": 345,
   "metadata": {
    "collapsed": true
   },
   "outputs": [],
   "source": [
    "def dot_mult(A, B):\n",
    "    ans = [[0] * len(B[0]) for i in range(len(A))]\n",
    "    for i in range(len(A)):\n",
    "        for ii in range(len(B[0])):\n",
    "            for iii in range(len(B)):\n",
    "                ans[i][ii] += A[i][iii] * B[iii][ii]\n",
    "    return ans"
   ]
  },
  {
   "cell_type": "code",
   "execution_count": 346,
   "metadata": {
    "collapsed": true
   },
   "outputs": [],
   "source": [
    "def cov(data):\n",
    "    n = len(data[0])\n",
    "    m = len(data)\n",
    "    cov = [[0]*m for i in range(m)]\n",
    "    for i in range(m):\n",
    "        for ii in range(m):\n",
    "            cov[i][ii] = dot_mult(data,transpose(data))[i][ii]/n \n",
    "    return cov"
   ]
  },
  {
   "cell_type": "code",
   "execution_count": 335,
   "metadata": {
    "collapsed": false
   },
   "outputs": [],
   "source": [
    "cov_a = cov(a)"
   ]
  },
  {
   "cell_type": "code",
   "execution_count": 336,
   "metadata": {
    "collapsed": false
   },
   "outputs": [
    {
     "data": {
      "text/plain": [
       "[[0.5, 0.25], [0.25, 0.5]]"
      ]
     },
     "execution_count": 336,
     "metadata": {},
     "output_type": "execute_result"
    }
   ],
   "source": [
    "cov_a"
   ]
  },
  {
   "cell_type": "code",
   "execution_count": 337,
   "metadata": {
    "collapsed": false
   },
   "outputs": [],
   "source": [
    "from sympy import *\n",
    "def eigenvlaues(data):\n",
    "    dat = data\n",
    "    x = Symbol('x')   \n",
    "    for i in range(len(dat)):\n",
    "        dat[i][i] -= x\n",
    "    a = Matrix(dat)\n",
    "    print a.det()    \n",
    "    return solve(a.det(),x)"
   ]
  },
  {
   "cell_type": "code",
   "execution_count": 338,
   "metadata": {
    "collapsed": false
   },
   "outputs": [
    {
     "name": "stdout",
     "output_type": "stream",
     "text": [
      "x**2 - 1.0*x + 0.1875\n"
     ]
    }
   ],
   "source": [
    "e_value = eigenvlaues(cov_a)"
   ]
  },
  {
   "cell_type": "code",
   "execution_count": 339,
   "metadata": {
    "collapsed": false
   },
   "outputs": [
    {
     "data": {
      "text/plain": [
       "[0.250000000000000, 0.750000000000000]"
      ]
     },
     "execution_count": 339,
     "metadata": {},
     "output_type": "execute_result"
    }
   ],
   "source": [
    "e_value"
   ]
  },
  {
   "cell_type": "markdown",
   "metadata": {},
   "source": [
    "When e_value is 0.25, it would be cov_a minus e_value in the diagnol\n",
    "\n",
    "[[0.25,0.25],[0.25,0.25]]"
   ]
  },
  {
   "cell_type": "markdown",
   "metadata": {},
   "source": [
    "this means the eigenvector is [1,-1]"
   ]
  },
  {
   "cell_type": "markdown",
   "metadata": {},
   "source": [
    "When e_value is 0.75, it would be cov_a minus e_value in the diagnol\n",
    "[[-0.25,0.25],[0.25,-0.25]]"
   ]
  },
  {
   "cell_type": "markdown",
   "metadata": {},
   "source": [
    "this means the eigenvector is [1,1]"
   ]
  },
  {
   "cell_type": "code",
   "execution_count": 340,
   "metadata": {
    "collapsed": true
   },
   "outputs": [],
   "source": [
    "P = [[1,-1],[1,1]]"
   ]
  },
  {
   "cell_type": "code",
   "execution_count": 341,
   "metadata": {
    "collapsed": true
   },
   "outputs": [],
   "source": [
    "Y = dot_mult(P,a)"
   ]
  },
  {
   "cell_type": "code",
   "execution_count": 342,
   "metadata": {
    "collapsed": false
   },
   "outputs": [
    {
     "data": {
      "text/plain": [
       "[[0.0, -1.0, 0.0, 1.0], [2.0, -1.0, 0.0, -1.0]]"
      ]
     },
     "execution_count": 342,
     "metadata": {},
     "output_type": "execute_result"
    }
   ],
   "source": [
    "Y"
   ]
  },
  {
   "cell_type": "code",
   "execution_count": 349,
   "metadata": {
    "collapsed": false
   },
   "outputs": [],
   "source": [
    "cov_y = cov(Y)"
   ]
  },
  {
   "cell_type": "code",
   "execution_count": 350,
   "metadata": {
    "collapsed": false
   },
   "outputs": [
    {
     "data": {
      "text/plain": [
       "[[0.5, 0.0], [0.0, 1.5]]"
      ]
     },
     "execution_count": 350,
     "metadata": {},
     "output_type": "execute_result"
    }
   ],
   "source": [
    "cov_y"
   ]
  },
  {
   "cell_type": "markdown",
   "metadata": {},
   "source": [
    "Now the Y become a diagonal matrix"
   ]
  },
  {
   "cell_type": "markdown",
   "metadata": {},
   "source": [
    "since 1.5>0.5, the *** frist principle vector *** is the 2nd row\n",
    "\n",
    "if we make it norminalization"
   ]
  },
  {
   "cell_type": "code",
   "execution_count": 405,
   "metadata": {
    "collapsed": false
   },
   "outputs": [],
   "source": [
    "P1 = [round((1**2+1**2)**0.5/2,3),round((1**2+1**2)**0.5/2,3)]"
   ]
  },
  {
   "cell_type": "code",
   "execution_count": 406,
   "metadata": {
    "collapsed": false
   },
   "outputs": [
    {
     "data": {
      "text/plain": [
       "[0.707, 0.707]"
      ]
     },
     "execution_count": 406,
     "metadata": {},
     "output_type": "execute_result"
    }
   ],
   "source": [
    "P1"
   ]
  },
  {
   "cell_type": "markdown",
   "metadata": {},
   "source": [
    "#### 4.II.b"
   ]
  },
  {
   "cell_type": "markdown",
   "metadata": {},
   "source": [
    "The coordinate should be P[1]*a in 1-d space"
   ]
  },
  {
   "cell_type": "code",
   "execution_count": 407,
   "metadata": {
    "collapsed": false
   },
   "outputs": [],
   "source": [
    "a_1d = [0]*4\n",
    "for ii in range(4):\n",
    "    a_1d[ii] = P1[0]*a[0][ii] + P1[0]*a[1][ii]"
   ]
  },
  {
   "cell_type": "code",
   "execution_count": 408,
   "metadata": {
    "collapsed": false
   },
   "outputs": [
    {
     "data": {
      "text/plain": [
       "[1.414, -0.707, 0.0, -0.707]"
      ]
     },
     "execution_count": 408,
     "metadata": {},
     "output_type": "execute_result"
    }
   ],
   "source": [
    "a_1d"
   ]
  },
  {
   "cell_type": "markdown",
   "metadata": {},
   "source": [
    "#### 4.II.C"
   ]
  },
  {
   "cell_type": "markdown",
   "metadata": {},
   "source": [
    "we need to use transposed P[1]*a_1d to recover"
   ]
  },
  {
   "cell_type": "code",
   "execution_count": 409,
   "metadata": {
    "collapsed": false
   },
   "outputs": [],
   "source": [
    "P_tran = [[0.707],[0.707]]"
   ]
  },
  {
   "cell_type": "code",
   "execution_count": 413,
   "metadata": {
    "collapsed": false
   },
   "outputs": [],
   "source": [
    "a_recover = [[0]*4 for i in range(2)]\n",
    "for i in range(2):\n",
    "    for ii in range(4):\n",
    "        a_recover[i][ii] = round(P_tran[i][0]*a_1d[ii],2)"
   ]
  },
  {
   "cell_type": "code",
   "execution_count": 414,
   "metadata": {
    "collapsed": false
   },
   "outputs": [
    {
     "data": {
      "text/plain": [
       "[[1.0, -0.5, 0.0, -0.5], [1.0, -0.5, 0.0, -0.5]]"
      ]
     },
     "execution_count": 414,
     "metadata": {},
     "output_type": "execute_result"
    }
   ],
   "source": [
    "a_recover"
   ]
  },
  {
   "cell_type": "code",
   "execution_count": 412,
   "metadata": {
    "collapsed": false
   },
   "outputs": [
    {
     "data": {
      "text/plain": [
       "[[1.0, -1.0, 0.0, 0.0], [1.0, 0.0, 0.0, -1.0]]"
      ]
     },
     "execution_count": 412,
     "metadata": {},
     "output_type": "execute_result"
    }
   ],
   "source": [
    "a"
   ]
  },
  {
   "cell_type": "markdown",
   "metadata": {},
   "source": [
    "After compare, we can find half of the data(2 of 4) can be recoverd."
   ]
  },
  {
   "cell_type": "code",
   "execution_count": null,
   "metadata": {
    "collapsed": true
   },
   "outputs": [],
   "source": []
  }
 ],
 "metadata": {
  "kernelspec": {
   "display_name": "Python 2",
   "language": "python",
   "name": "python2"
  },
  "language_info": {
   "codemirror_mode": {
    "name": "ipython",
    "version": 2
   },
   "file_extension": ".py",
   "mimetype": "text/x-python",
   "name": "python",
   "nbconvert_exporter": "python",
   "pygments_lexer": "ipython2",
   "version": "2.7.11"
  }
 },
 "nbformat": 4,
 "nbformat_minor": 0
}
