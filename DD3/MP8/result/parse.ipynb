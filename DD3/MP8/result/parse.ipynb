{
 "cells": [
  {
   "cell_type": "code",
   "execution_count": 13,
   "metadata": {
    "collapsed": false
   },
   "outputs": [],
   "source": [
    "import xyang105_fp as FP_growth"
   ]
  },
  {
   "cell_type": "code",
   "execution_count": 14,
   "metadata": {
    "collapsed": false
   },
   "outputs": [
    {
     "name": "stdout",
     "output_type": "stream",
     "text": [
      "[['71.0', '126.0', '132.0', 2], ['126.0', '132.0', 2], ['71.0', '132.0', 2]]\n",
      "[['71.0', '126.0', 2]]\n"
     ]
    },
    {
     "data": {
      "text/plain": [
       "<xyang105_fp.tree_analysis at 0x618b7f0>"
      ]
     },
     "execution_count": 14,
     "metadata": {},
     "output_type": "execute_result"
    }
   ],
   "source": [
    "routings = [['45.0', '40.0', '41.0'],\n",
    " ['71.0', '125.0', '73.0'],\n",
    " ['115.0', '98.0', '71.0', '132.0', '114.0', '126.0'],\n",
    " ['126.0', '124.0'],\n",
    " ['134.0', '71.0', '130.0', '132.0', '126.0', '133.0']]                                 \n",
    "min_sup = 2                            \n",
    "front__tab = {}        \n",
    "\n",
    "treegene = FP_growth.Tree_generation(routings=routings, min_sup=min_sup, front__tab=front__tab)    \n",
    "FP_growth.tree_analysis(Tree=treegene.tree, min_sup=min_sup, front__tab=front__tab)    \n"
   ]
  },
  {
   "cell_type": "code",
   "execution_count": 15,
   "metadata": {
    "collapsed": true
   },
   "outputs": [],
   "source": [
    "import xlrd"
   ]
  },
  {
   "cell_type": "code",
   "execution_count": 16,
   "metadata": {
    "collapsed": true
   },
   "outputs": [],
   "source": [
    "def fp_finder(csv_path, min_sup):\n",
    "    data = xlrd.open_workbook(csv_path)\n",
    "    table = data.sheets()[0]\n",
    "\n",
    "    a = [[] for i in range(len(table.col_values(1)))]\n",
    "\n",
    "    for i in range(len(table.col_values(1))):\n",
    "        for ii in range(len(table.row_values(1))):\n",
    "            if table.row_values(i)[ii] != '':\n",
    "                a[i].append(table.row_values(i)[ii])\n",
    "    routings = a                         \n",
    "    front__tab = {}        \n",
    "\n",
    "    treegene = FP_growth.Tree_generation(routings=routings, min_sup=min_sup, front__tab=front__tab)    \n",
    "    FP_growth.tree_analysis(Tree=treegene.tree, min_sup=min_sup, front__tab=front__tab)"
   ]
  },
  {
   "cell_type": "code",
   "execution_count": 17,
   "metadata": {
    "collapsed": false
   },
   "outputs": [
    {
     "name": "stdout",
     "output_type": "stream",
     "text": [
      "[[436.0, 164.0, 115, 288.0, 164.0, 115], [436.0, 164.0, 115, 288.0, 164.0, 115]]\n",
      "[[6.0, 60.0, 147]]\n"
     ]
    }
   ],
   "source": [
    "fp_finder('topic-1.xlsx',100)"
   ]
  },
  {
   "cell_type": "code",
   "execution_count": 18,
   "metadata": {
    "collapsed": false
   },
   "outputs": [
    {
     "name": "stdout",
     "output_type": "stream",
     "text": [
      "[[225.0, 407.0, 123, 382.0, 407.0, 123], [225.0, 407.0, 123, 382.0, 407.0, 123]]\n",
      "[[390.0, 382.0, 413]]\n"
     ]
    }
   ],
   "source": [
    "fp_finder('topic-0.xlsx',100)"
   ]
  },
  {
   "cell_type": "code",
   "execution_count": 19,
   "metadata": {
    "collapsed": false
   },
   "outputs": [
    {
     "name": "stdout",
     "output_type": "stream",
     "text": [
      "[[38.0, 105.0, 195]]\n"
     ]
    }
   ],
   "source": [
    "fp_finder('topic-3.xlsx',100)"
   ]
  },
  {
   "cell_type": "code",
   "execution_count": 20,
   "metadata": {
    "collapsed": false
   },
   "outputs": [
    {
     "name": "stdout",
     "output_type": "stream",
     "text": [
      "[[317.0, 38.0, 206]]\n"
     ]
    }
   ],
   "source": [
    "fp_finder('topic-4.xlsx',100)"
   ]
  },
  {
   "cell_type": "code",
   "execution_count": 24,
   "metadata": {
    "collapsed": false
   },
   "outputs": [
    {
     "name": "stdout",
     "output_type": "stream",
     "text": [
      "[[84.0, 190.0, 79]]\n"
     ]
    }
   ],
   "source": [
    "fp_finder('topic-2.xlsx',60)"
   ]
  },
  {
   "cell_type": "code",
   "execution_count": null,
   "metadata": {
    "collapsed": true
   },
   "outputs": [],
   "source": []
  }
 ],
 "metadata": {
  "kernelspec": {
   "display_name": "Python 2",
   "language": "python",
   "name": "python2"
  },
  "language_info": {
   "codemirror_mode": {
    "name": "ipython",
    "version": 2
   },
   "file_extension": ".py",
   "mimetype": "text/x-python",
   "name": "python",
   "nbconvert_exporter": "python",
   "pygments_lexer": "ipython2",
   "version": "2.7.11"
  }
 },
 "nbformat": 4,
 "nbformat_minor": 0
}
