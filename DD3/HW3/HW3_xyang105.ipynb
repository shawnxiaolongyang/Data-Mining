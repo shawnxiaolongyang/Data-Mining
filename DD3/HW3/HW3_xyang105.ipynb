{
 "cells": [
  {
   "cell_type": "markdown",
   "metadata": {},
   "source": [
    "# Question1"
   ]
  },
  {
   "cell_type": "markdown",
   "metadata": {},
   "source": [
    "### 1.a"
   ]
  },
  {
   "cell_type": "markdown",
   "metadata": {},
   "source": [
    "support count of {Beer} is **4**\n",
    "\n",
    "support count of {Diaper} is **4**\n",
    "\n",
    "support count of {Beer,Tylenol} is **2**"
   ]
  },
  {
   "cell_type": "markdown",
   "metadata": {},
   "source": [
    "### 1.b"
   ]
  },
  {
   "cell_type": "markdown",
   "metadata": {},
   "source": [
    " Confidence({Beer} ⇒ {Diaper})\n",
    " \n",
    " P(D|B) = P(B,D)|P(D) = 3/4 = **0.75**\n",
    " \n",
    " Confidence({Beer} ⇒ {Diaper})\n",
    " \n",
    " P(B|D) = P(B,D)|P(B) = 3/4 = **0.75**\n",
    " "
   ]
  },
  {
   "cell_type": "markdown",
   "metadata": {},
   "source": [
    "### 1.c"
   ]
  },
  {
   "cell_type": "markdown",
   "metadata": {},
   "source": [
    " {Beer, Cheese, Diaper, Tylenol} is close pattern.\n",
    " \n",
    " For X, if support(super(X)) < support(X), X is a closed cell.\n",
    " \n",
    " {Beer, Cheese, Diaper, Tylenol} is the longest base cell, it did not have a super(X),while the count is higher than min_sup, so it is closed."
   ]
  },
  {
   "cell_type": "markdown",
   "metadata": {},
   "source": [
    "### 1.d"
   ]
  },
  {
   "cell_type": "markdown",
   "metadata": {},
   "source": [
    "{Beer, Cheese, Diaper} is close pattern.\n",
    " \n",
    " For X, if support(super(X)) < support(X), X is a closed cell.\n",
    " \n",
    " {Beer, Cheese, Diaper, Tylenol} is the super(X) for {Beer, Cheese, Diaper}, while the count of super(X) is 1, 1 < 2, the count of X is 2, so it is closed."
   ]
  },
  {
   "cell_type": "markdown",
   "metadata": {},
   "source": [
    "### 1.e"
   ]
  },
  {
   "cell_type": "markdown",
   "metadata": {},
   "source": [
    " {Beer, Cheese, Diaper} is **not** a max pattern,\n",
    " \n",
    " For X, if support(super(X)) < min_sup, X is a max patten cell.\n",
    " \n",
    " The super cell of {Beer, Cheese, Diaper} is {Beer, Cheese, Diaper, Tylenol},\n",
    " it is count is 1 equal to the min_sup, so it is not a max pattern."
   ]
  },
  {
   "cell_type": "markdown",
   "metadata": {},
   "source": [
    "### 1.f"
   ]
  },
  {
   "cell_type": "markdown",
   "metadata": {},
   "source": [
    "For a max pattern, which is frequent,\n",
    "\n",
    "support(super(X)) < min_sup\n",
    "\n",
    "min_sup <= support(X)\n",
    "\n",
    "So a max pattern is also an close pattern."
   ]
  },
  {
   "cell_type": "markdown",
   "metadata": {},
   "source": [
    "# Question2"
   ]
  },
  {
   "cell_type": "markdown",
   "metadata": {},
   "source": [
    "### 2.a"
   ]
  },
  {
   "cell_type": "markdown",
   "metadata": {},
   "source": [
    "C1:\n",
    "{\n",
    "{B}: 5\n",
    "{C}: 3\n",
    "{D}: 4\n",
    "{E}: 3\n",
    "{M}: 4\n",
    "{T}: 3\n",
    "}\n",
    "\n",
    "since all element in C1 is higher OR equal than min_sup\n",
    "\n",
    "L1:\n",
    "**{B,C,D,E,M,T}**"
   ]
  },
  {
   "cell_type": "markdown",
   "metadata": {},
   "source": [
    "### 2.b"
   ]
  },
  {
   "cell_type": "markdown",
   "metadata": {},
   "source": [
    "C2:{\n",
    "\n",
    "{B,C}: 1; {B,D}: 3;{B,E}: 2;{B,M}: 4;{B,T}: 3\n",
    "\n",
    "{C,D}: 2; {C,E}: 2; {C,M}: 2; {C,T}: 1; \n",
    "\n",
    "{D,E}: 2; {D,M}: 3; {D,T}: 1; \n",
    "\n",
    "{E,M}: 1; {E,T}: 0; \n",
    "\n",
    "{M,T}: 3; \n",
    "}"
   ]
  },
  {
   "cell_type": "markdown",
   "metadata": {},
   "source": [
    "Since L2 contain C2's element higher or equal to min_sup\n",
    "\n",
    "L2:\n",
    "**{{B,D}, {B,M}, {B,T}, {D,M}, {M,T}}**"
   ]
  },
  {
   "cell_type": "markdown",
   "metadata": {},
   "source": [
    "### 2.c"
   ]
  },
  {
   "cell_type": "markdown",
   "metadata": {},
   "source": [
    "C3:\n",
    "{{B,M,T} :3;\n",
    "{B,D,M}:3}"
   ]
  },
  {
   "cell_type": "markdown",
   "metadata": {},
   "source": [
    "Since count {B,M,T} is equal to 3, \n",
    "\n",
    "L3:**{{B,M,T},{B,D,M}}**"
   ]
  },
  {
   "cell_type": "markdown",
   "metadata": {},
   "source": [
    "### 2.d"
   ]
  },
  {
   "cell_type": "markdown",
   "metadata": {},
   "source": [
    "**No**, a 4-itemset should be {B,D,M,T},\n",
    "missing {B,D,T} and {D,M,T}."
   ]
  },
  {
   "cell_type": "markdown",
   "metadata": {},
   "source": [
    "# Question3"
   ]
  },
  {
   "cell_type": "markdown",
   "metadata": {},
   "source": [
    "### 3.a"
   ]
  },
  {
   "cell_type": "markdown",
   "metadata": {},
   "source": [
    "C1 :\n",
    "{\n",
    "{A}: 4;\n",
    "{B}: 5;\n",
    "{C}: 3;\n",
    "{D}: 4;\n",
    "{T}: 2;\n",
    "{M}: 2;\n",
    "{Y}: 1;\n",
    "}"
   ]
  },
  {
   "cell_type": "markdown",
   "metadata": {},
   "source": [
    "Since the min_sup is 3, \n",
    "L1 :\n",
    "**{B,A,D,C}**"
   ]
  },
  {
   "cell_type": "markdown",
   "metadata": {},
   "source": [
    "TID        Frequent items\n",
    "\n",
    "1        BADC\n",
    "\n",
    "2          BD\n",
    "\n",
    "3         BA\n",
    "\n",
    "4          D\n",
    "\n",
    "5         AC\n",
    "\n",
    "6        BAD\n",
    "\n",
    "7         BC"
   ]
  },
  {
   "cell_type": "markdown",
   "metadata": {},
   "source": [
    "### 3.b"
   ]
  },
  {
   "cell_type": "markdown",
   "metadata": {},
   "source": [
    "<img src=\"3B.png\">"
   ]
  },
  {
   "cell_type": "markdown",
   "metadata": {},
   "source": [
    "### 3.c"
   ]
  },
  {
   "cell_type": "markdown",
   "metadata": {},
   "source": [
    "<TABLE><TR><TD>item</TD><TD>Conditional pattern base:</TD><TD>Frequent patterns\n",
    "</TD></TR>\n",
    "<TR><TD>A</TD><TD>B:3</TD><TD>A,BA</TD></TR>\n",
    "<TR><TD>C</TD><TD>BAD:1,B:1,A:1</TD><TD>C</TD></TR></TABLE>"
   ]
  },
  {
   "cell_type": "markdown",
   "metadata": {},
   "source": [
    "### 3.d"
   ]
  },
  {
   "cell_type": "markdown",
   "metadata": {},
   "source": [
    "If we list the nodes in the order, it will be more compression since the most  frequent nodes are likely to be shared."
   ]
  },
  {
   "cell_type": "markdown",
   "metadata": {},
   "source": [
    "### 3.e"
   ]
  },
  {
   "cell_type": "markdown",
   "metadata": {},
   "source": [
    "Yes, FP is faster than Apriori.\n",
    "\n",
    "1st, Apriori scan the database **level by level**, while the FP go depth to find the **path** to combine all different posibility. Therefore, if FP would ignore those not necessary nodes.\n",
    "\n",
    "2nd, Apriori scan the **entire** database **multiple** times to count each nodes, FP would scan merely the **projected** part of database and count **once**. \n"
   ]
  },
  {
   "cell_type": "markdown",
   "metadata": {},
   "source": [
    "### 3.f"
   ]
  },
  {
   "cell_type": "markdown",
   "metadata": {},
   "source": [
    "**NO**,\n",
    "FP-tree will omit lease frequent items that less than min_support. "
   ]
  },
  {
   "cell_type": "markdown",
   "metadata": {},
   "source": [
    "# Question4"
   ]
  },
  {
   "cell_type": "markdown",
   "metadata": {},
   "source": [
    "### 4.a"
   ]
  },
  {
   "cell_type": "markdown",
   "metadata": {},
   "source": [
    "eab:10;   b:20"
   ]
  },
  {
   "cell_type": "markdown",
   "metadata": {},
   "source": [
    "### 4.b"
   ]
  },
  {
   "cell_type": "markdown",
   "metadata": {},
   "source": [
    "Since the total transaction is 150, and the relative min support is 0.5\n",
    "\n",
    "the min support is 150*0.5 = 75\n",
    "\n",
    "frequeny items are those more than 75"
   ]
  },
  {
   "cell_type": "markdown",
   "metadata": {},
   "source": [
    "2 itemset is {ea:80};\n",
    "\n",
    "No 3 itemset"
   ]
  },
  {
   "cell_type": "markdown",
   "metadata": {},
   "source": []
  }
 ],
 "metadata": {
  "kernelspec": {
   "display_name": "Python 2",
   "language": "python",
   "name": "python2"
  },
  "language_info": {
   "codemirror_mode": {
    "name": "ipython",
    "version": 2
   },
   "file_extension": ".py",
   "mimetype": "text/x-python",
   "name": "python",
   "nbconvert_exporter": "python",
   "pygments_lexer": "ipython2",
   "version": "2.7.11"
  }
 },
 "nbformat": 4,
 "nbformat_minor": 0
}
