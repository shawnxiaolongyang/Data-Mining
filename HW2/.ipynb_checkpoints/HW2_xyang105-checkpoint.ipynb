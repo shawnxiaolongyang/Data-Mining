{
 "cells": [
  {
   "cell_type": "markdown",
   "metadata": {},
   "source": [
    "# Question1"
   ]
  },
  {
   "cell_type": "markdown",
   "metadata": {},
   "source": [
    "***T***\n",
    "\n",
    "a.  The snowflake schema model saves storage space compared to the star schema model"
   ]
  },
  {
   "cell_type": "markdown",
   "metadata": {},
   "source": [
    "***T***\n",
    "\n",
    "b. OLAP systems usually adopts an entity-relationship data model."
   ]
  },
  {
   "cell_type": "markdown",
   "metadata": {},
   "source": [
    "***T***\n",
    "\n",
    "c. Standard deviation can be derived by applying the function to n aggregate values in a data cube."
   ]
  },
  {
   "cell_type": "markdown",
   "metadata": {},
   "source": [
    "***F***\n",
    "\n",
    "d. One benefit of the Multiway Array Aggregation cube is the equal\n",
    "efficiency regardless of scan order."
   ]
  },
  {
   "cell_type": "markdown",
   "metadata": {},
   "source": [
    "***F***\n",
    "\n",
    "e. Unlike the Multiway Array Aggregation method, BUC cannot take\n",
    "advantage of pruning."
   ]
  },
  {
   "cell_type": "markdown",
   "metadata": {},
   "source": [
    "# Question2"
   ]
  },
  {
   "cell_type": "markdown",
   "metadata": {},
   "source": [
    "(b1; a2; a3; a4; a5); (a1; b2; a3; a4; a5); (a1; a2; b3; a4; a5)"
   ]
  },
  {
   "cell_type": "markdown",
   "metadata": {},
   "source": [
    "#### a. (5, L2) How many cuboids are there in the full data cube?"
   ]
  },
  {
   "cell_type": "markdown",
   "metadata": {},
   "source": [
    "There were 5 dimensions, and First 3 each have 2 cells.\n",
    "\n",
    "It would be *** (2+1)*(2+1)*(2+1)*(1+1)*(1+1) = 108*** Cube"
   ]
  },
  {
   "cell_type": "markdown",
   "metadata": {},
   "source": [
    "#### b.How many nonempty aggregate cells are there in the full cube?"
   ]
  },
  {
   "cell_type": "markdown",
   "metadata": {},
   "source": [
    "Since all 3 base cell have a4, a5, we can enumulate first 3:\n",
    "b1,*; a2,*; a3,*;\n",
    "a1,*; b2,*; a3,*;\n",
    "a1,*; a2,*; b3,*;\n",
    "\n",
    "it would be 2*2*2*3 = 24\n",
    "\n",
    "For all 3, they have *;*;*;, so 24 - 2 = 22\n",
    "\n",
    "For each 2 row (like 1st,2nd) have one same cube (like *;*;a3;,) \n",
    "22 - 1*3 = 19"
   ]
  },
  {
   "cell_type": "markdown",
   "metadata": {},
   "source": [
    "Then we combine the a4, a5\n",
    "\n",
    "19*(1+1)*(1+1) = 76\n",
    "\n",
    "If we did not calculate base cell:\n",
    "\n",
    "76 - 3 = ***73***"
   ]
  },
  {
   "cell_type": "markdown",
   "metadata": {},
   "source": [
    "#### c.How many nonempty aggregate closed cells in the full cube"
   ]
  },
  {
   "cell_type": "markdown",
   "metadata": {},
   "source": [
    "Since we do not need to consider the aggregate cell,it will be ***4*** as follow:"
   ]
  },
  {
   "cell_type": "markdown",
   "metadata": {},
   "source": [
    "(a1;  *;  *; a4; a5);\n",
    "(*;  a2;  *; a4; a5);\n",
    "( *;  *; a3; a4; a5);\n",
    "( *;  *;  *; a4; a5);"
   ]
  },
  {
   "cell_type": "markdown",
   "metadata": {},
   "source": [
    "#### d. How many nonempty aggregate cells an iceberg cube contain\n",
    "#### if the condition of the iceberg cube is count >= 3?"
   ]
  },
  {
   "cell_type": "markdown",
   "metadata": {},
   "source": [
    "it will be ***4*** as follow"
   ]
  },
  {
   "cell_type": "markdown",
   "metadata": {},
   "source": [
    "( *;  *;  *; a4; a5);\n",
    "( *;  *;  *; *; a5);\n",
    "( *;  *;  *; a4; *);\n",
    "( *;  *;  *;  *; *);"
   ]
  },
  {
   "cell_type": "markdown",
   "metadata": {},
   "source": [
    "# Question3"
   ]
  },
  {
   "cell_type": "markdown",
   "metadata": {},
   "source": [
    "### 3.a"
   ]
  },
  {
   "cell_type": "markdown",
   "metadata": {},
   "source": [
    "From 1 to 4, B0C0 will be filled, BC need 1 memory chunk, AB,AC need 4 memorie chunks;\n",
    "\n",
    "From 1 to 16, A0B0,A0B1,A0B2,A0B3 will be filled, AC need 16 memorie chunks.\n",
    "\n",
    "Since the sizes of the chunks on dimensions A, B, and C are 25, 50, and 50, chunk in AB need 1250, AC need 1250, BC need 2500.\n",
    "\n",
    "The total memory need for holding 2D plane is:"
   ]
  },
  {
   "cell_type": "code",
   "execution_count": 1,
   "metadata": {
    "collapsed": false
   },
   "outputs": [
    {
     "data": {
      "text/plain": [
       "27500"
      ]
     },
     "execution_count": 1,
     "metadata": {},
     "output_type": "execute_result"
    }
   ],
   "source": [
    "50*50*1 + 25*50*4 + 25*50*16"
   ]
  },
  {
   "cell_type": "markdown",
   "metadata": {},
   "source": [
    "### 3.b"
   ]
  },
  {
   "cell_type": "markdown",
   "metadata": {},
   "source": [
    "Yes, an alternative way to get the eqaul minimum demand memory is to scan in the order:\n",
    "\n",
    "1,2,3,4;17,18,19,20;...\n",
    "5,6,7,8;21,22,23,24;...\n",
    "...\n",
    "...;61,62,63,64;\n"
   ]
  },
  {
   "cell_type": "markdown",
   "metadata": {},
   "source": [
    "From 1 to 4, B0C0 will be filled, BC need 1 memory chunk, AB,AC need 4 memorie chunks;\n",
    "\n",
    "From 1 to 52, A0C0,A0C1,A0C2,A0C3 will be filled, AB need 16 memorie chunks.\n",
    "\n",
    "In this way, the minmum total memory is the same"
   ]
  },
  {
   "cell_type": "markdown",
   "metadata": {},
   "source": [
    "# Question4"
   ]
  },
  {
   "cell_type": "markdown",
   "metadata": {},
   "source": [
    "### 4.a"
   ]
  },
  {
   "cell_type": "markdown",
   "metadata": {},
   "source": [
    "<img src=\"ABC.png\">"
   ]
  },
  {
   "cell_type": "markdown",
   "metadata": {},
   "source": [
    "<img src=\"BAC.png\">"
   ]
  },
  {
   "cell_type": "markdown",
   "metadata": {},
   "source": [
    "### 4.b"
   ]
  },
  {
   "cell_type": "markdown",
   "metadata": {},
   "source": [
    "If we follow the A -> B -> C:\n",
    "All (*,*,*) : 18 - expansion\n",
    " A (a0,*,*) : 18 - expansion\n",
    "   AB(a0,b0,*) : 3 \n",
    "   AB(a0,b1,*) : 6 \n",
    "   AB(a0,b2,*) : 9 - expansion\n",
    "        ABC(a0,b2,c0) : 3\n",
    "        ABC(a0,b2,c1) : 3\n",
    "        ABC(a0,b2,c2) : 3\n",
    "   AC(a0,*,c0) : 6\n",
    "   AC(a0,*,c0) : 6\n",
    "   AC(a0,*,c0) : 6\n",
    " B (*,b0,*) : 3\n",
    " B (*,b1,*) : 6\n",
    " B (*,b2,*) : 9 - expansion\n",
    "   BC(*,b2,c0) : 3 \n",
    "   BC(*,b2,c1) : 3 \n",
    "   BC(*,b2,c2) : 3 \n",
    " C (*,*,c0) : 6\n",
    " C (*,*,c1) : 6\n",
    " C (*,*,c2) : 6"
   ]
  },
  {
   "cell_type": "markdown",
   "metadata": {},
   "source": [
    "Thus, there are totally ***20*** cells which would have to be computed"
   ]
  },
  {
   "cell_type": "markdown",
   "metadata": {},
   "source": [
    "### 4.c"
   ]
  },
  {
   "cell_type": "markdown",
   "metadata": {},
   "source": [
    "If we follow the C -> B -> A:\n",
    "All (*,*,*) : 18 - expansion\n",
    " C (*,*,c0) : 6\n",
    " C (*,*,c1) : 6\n",
    " C (*,*,c2) : 6\n",
    " B (*,b0,*) : 3\n",
    " B (*,b1,*) : 6\n",
    " B (*,b2,*) : 9 - expansion\n",
    "   AB(a0,b0,*) : 3 \n",
    "   AB(a0,b1,*) : 6 \n",
    "   AB(a0,b2,*) : 9\n",
    " A (a0,*,*) : 18 "
   ]
  },
  {
   "cell_type": "markdown",
   "metadata": {},
   "source": [
    "Thus, there are totally ***11*** cells which would have to be computed"
   ]
  },
  {
   "cell_type": "markdown",
   "metadata": {
    "collapsed": true
   },
   "source": [
    "# Machine Problem 5"
   ]
  },
  {
   "cell_type": "markdown",
   "metadata": {},
   "source": [
    "<img src=\"1.png\">"
   ]
  },
  {
   "cell_type": "markdown",
   "metadata": {},
   "source": []
  },
  {
   "cell_type": "markdown",
   "metadata": {},
   "source": [
    "<img src=\"2.png\">"
   ]
  },
  {
   "cell_type": "markdown",
   "metadata": {},
   "source": []
  },
  {
   "cell_type": "markdown",
   "metadata": {},
   "source": [
    "<img src=\"3.png\">"
   ]
  },
  {
   "cell_type": "code",
   "execution_count": null,
   "metadata": {
    "collapsed": true
   },
   "outputs": [],
   "source": []
  },
  {
   "cell_type": "markdown",
   "metadata": {},
   "source": [
    "<img src=\"chrome user view most from web search.png\">"
   ]
  },
  {
   "cell_type": "markdown",
   "metadata": {},
   "source": []
  },
  {
   "cell_type": "markdown",
   "metadata": {},
   "source": [
    "<img src = \"top 5 book buyer.PNG\">"
   ]
  },
  {
   "cell_type": "markdown",
   "metadata": {},
   "source": []
  },
  {
   "cell_type": "code",
   "execution_count": null,
   "metadata": {
    "collapsed": true
   },
   "outputs": [],
   "source": []
  }
 ],
 "metadata": {
  "kernelspec": {
   "display_name": "Python 2",
   "language": "python",
   "name": "python2"
  },
  "language_info": {
   "codemirror_mode": {
    "name": "ipython",
    "version": 2
   },
   "file_extension": ".py",
   "mimetype": "text/x-python",
   "name": "python",
   "nbconvert_exporter": "python",
   "pygments_lexer": "ipython2",
   "version": "2.7.11"
  }
 },
 "nbformat": 4,
 "nbformat_minor": 0
}
